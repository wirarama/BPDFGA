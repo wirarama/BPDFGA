{
 "cells": [
  {
   "cell_type": "code",
   "execution_count": 1,
   "id": "76908401-5adb-449a-845b-bf51b5ce6768",
   "metadata": {},
   "outputs": [],
   "source": [
    "a = 8792384792\n",
    "b = 817293817298"
   ]
  },
  {
   "cell_type": "code",
   "execution_count": 2,
   "id": "121d00c6-796d-4783-957d-f6bcb131b2a0",
   "metadata": {},
   "outputs": [
    {
     "data": {
      "text/plain": [
       "826086202090"
      ]
     },
     "execution_count": 2,
     "metadata": {},
     "output_type": "execute_result"
    }
   ],
   "source": [
    "a+b"
   ]
  },
  {
   "cell_type": "code",
   "execution_count": null,
   "id": "825d3f5d-14eb-4b72-8a4a-0300f04c8f22",
   "metadata": {},
   "outputs": [],
   "source": []
  }
 ],
 "metadata": {
  "kernelspec": {
   "display_name": "Python 3 (ipykernel)",
   "language": "python",
   "name": "python3"
  },
  "language_info": {
   "codemirror_mode": {
    "name": "ipython",
    "version": 3
   },
   "file_extension": ".py",
   "mimetype": "text/x-python",
   "name": "python",
   "nbconvert_exporter": "python",
   "pygments_lexer": "ipython3",
   "version": "3.9.7"
  }
 },
 "nbformat": 4,
 "nbformat_minor": 5
}
