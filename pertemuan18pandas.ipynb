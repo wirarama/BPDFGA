{
 "cells": [
  {
   "cell_type": "code",
   "execution_count": 1,
   "id": "f517748e",
   "metadata": {},
   "outputs": [],
   "source": [
    "import pandas as pd"
   ]
  },
  {
   "cell_type": "code",
   "execution_count": 3,
   "id": "644dbc02",
   "metadata": {},
   "outputs": [],
   "source": [
    "df = pd.read_csv('vgsales.csv')"
   ]
  },
  {
   "cell_type": "code",
   "execution_count": 4,
   "id": "3ffd948e",
   "metadata": {},
   "outputs": [
    {
     "name": "stdout",
     "output_type": "stream",
     "text": [
      "        Rank                                               Name Platform  \\\n",
      "0        259                                          Asteroids     2600   \n",
      "1        545                                    Missile Command     2600   \n",
      "2       1768                                            Kaboom!     2600   \n",
      "3       1971                                           Defender     2600   \n",
      "4       2671                                             Boxing     2600   \n",
      "...      ...                                                ...      ...   \n",
      "16319  16565                                       Mighty No. 9     XOne   \n",
      "16320  16572                                 Resident Evil 4 HD     XOne   \n",
      "16321  16573                      Farming 2017 - The Simulation      PS4   \n",
      "16322  16579                                  Rugby Challenge 3     XOne   \n",
      "16323  16592  Chou Ezaru wa Akai Hana: Koi wa Tsuki ni Shiru...      PSV   \n",
      "\n",
      "       Year       Genre             Publisher  NA_Sales  EU_Sales  JP_Sales  \\\n",
      "0      1980     Shooter                 Atari      4.00      0.26      0.00   \n",
      "1      1980     Shooter                 Atari      2.56      0.17      0.00   \n",
      "2      1980        Misc            Activision      1.07      0.07      0.00   \n",
      "3      1980        Misc                 Atari      0.99      0.05      0.00   \n",
      "4      1980    Fighting            Activision      0.72      0.04      0.00   \n",
      "...     ...         ...                   ...       ...       ...       ...   \n",
      "16319  2016    Platform           Deep Silver      0.01      0.00      0.00   \n",
      "16320  2016     Shooter                Capcom      0.01      0.00      0.00   \n",
      "16321  2016  Simulation     UIG Entertainment      0.00      0.01      0.00   \n",
      "16322  2016      Sports  Alternative Software      0.00      0.01      0.00   \n",
      "16323  2016      Action       dramatic create      0.00      0.00      0.01   \n",
      "\n",
      "       Other_Sales  Global_Sales  \n",
      "0             0.05          4.31  \n",
      "1             0.03          2.76  \n",
      "2             0.01          1.15  \n",
      "3             0.01          1.05  \n",
      "4             0.01          0.77  \n",
      "...            ...           ...  \n",
      "16319         0.00          0.01  \n",
      "16320         0.00          0.01  \n",
      "16321         0.00          0.01  \n",
      "16322         0.00          0.01  \n",
      "16323         0.00          0.01  \n",
      "\n",
      "[16324 rows x 11 columns]\n"
     ]
    }
   ],
   "source": [
    "print(df)"
   ]
  },
  {
   "cell_type": "code",
   "execution_count": 5,
   "id": "8b2b2a21",
   "metadata": {},
   "outputs": [
    {
     "data": {
      "text/html": [
       "<div>\n",
       "<style scoped>\n",
       "    .dataframe tbody tr th:only-of-type {\n",
       "        vertical-align: middle;\n",
       "    }\n",
       "\n",
       "    .dataframe tbody tr th {\n",
       "        vertical-align: top;\n",
       "    }\n",
       "\n",
       "    .dataframe thead th {\n",
       "        text-align: right;\n",
       "    }\n",
       "</style>\n",
       "<table border=\"1\" class=\"dataframe\">\n",
       "  <thead>\n",
       "    <tr style=\"text-align: right;\">\n",
       "      <th></th>\n",
       "      <th>Rank</th>\n",
       "      <th>Year</th>\n",
       "      <th>NA_Sales</th>\n",
       "      <th>EU_Sales</th>\n",
       "      <th>JP_Sales</th>\n",
       "      <th>Other_Sales</th>\n",
       "      <th>Global_Sales</th>\n",
       "    </tr>\n",
       "  </thead>\n",
       "  <tbody>\n",
       "    <tr>\n",
       "      <th>count</th>\n",
       "      <td>16324.000000</td>\n",
       "      <td>16324.000000</td>\n",
       "      <td>16324.000000</td>\n",
       "      <td>16324.000000</td>\n",
       "      <td>16324.000000</td>\n",
       "      <td>16324.000000</td>\n",
       "      <td>16324.000000</td>\n",
       "    </tr>\n",
       "    <tr>\n",
       "      <th>mean</th>\n",
       "      <td>8291.508270</td>\n",
       "      <td>2006.404251</td>\n",
       "      <td>0.265464</td>\n",
       "      <td>0.147581</td>\n",
       "      <td>0.078673</td>\n",
       "      <td>0.048334</td>\n",
       "      <td>0.540328</td>\n",
       "    </tr>\n",
       "    <tr>\n",
       "      <th>std</th>\n",
       "      <td>4792.043734</td>\n",
       "      <td>5.826744</td>\n",
       "      <td>0.821658</td>\n",
       "      <td>0.508809</td>\n",
       "      <td>0.311584</td>\n",
       "      <td>0.189902</td>\n",
       "      <td>1.565860</td>\n",
       "    </tr>\n",
       "    <tr>\n",
       "      <th>min</th>\n",
       "      <td>1.000000</td>\n",
       "      <td>1980.000000</td>\n",
       "      <td>0.000000</td>\n",
       "      <td>0.000000</td>\n",
       "      <td>0.000000</td>\n",
       "      <td>0.000000</td>\n",
       "      <td>0.010000</td>\n",
       "    </tr>\n",
       "    <tr>\n",
       "      <th>25%</th>\n",
       "      <td>4135.750000</td>\n",
       "      <td>2003.000000</td>\n",
       "      <td>0.000000</td>\n",
       "      <td>0.000000</td>\n",
       "      <td>0.000000</td>\n",
       "      <td>0.000000</td>\n",
       "      <td>0.060000</td>\n",
       "    </tr>\n",
       "    <tr>\n",
       "      <th>50%</th>\n",
       "      <td>8293.500000</td>\n",
       "      <td>2007.000000</td>\n",
       "      <td>0.080000</td>\n",
       "      <td>0.020000</td>\n",
       "      <td>0.000000</td>\n",
       "      <td>0.010000</td>\n",
       "      <td>0.170000</td>\n",
       "    </tr>\n",
       "    <tr>\n",
       "      <th>75%</th>\n",
       "      <td>12439.250000</td>\n",
       "      <td>2010.000000</td>\n",
       "      <td>0.240000</td>\n",
       "      <td>0.110000</td>\n",
       "      <td>0.040000</td>\n",
       "      <td>0.040000</td>\n",
       "      <td>0.480000</td>\n",
       "    </tr>\n",
       "    <tr>\n",
       "      <th>max</th>\n",
       "      <td>16600.000000</td>\n",
       "      <td>2016.000000</td>\n",
       "      <td>41.490000</td>\n",
       "      <td>29.020000</td>\n",
       "      <td>10.220000</td>\n",
       "      <td>10.570000</td>\n",
       "      <td>82.740000</td>\n",
       "    </tr>\n",
       "  </tbody>\n",
       "</table>\n",
       "</div>"
      ],
      "text/plain": [
       "               Rank          Year      NA_Sales      EU_Sales      JP_Sales  \\\n",
       "count  16324.000000  16324.000000  16324.000000  16324.000000  16324.000000   \n",
       "mean    8291.508270   2006.404251      0.265464      0.147581      0.078673   \n",
       "std     4792.043734      5.826744      0.821658      0.508809      0.311584   \n",
       "min        1.000000   1980.000000      0.000000      0.000000      0.000000   \n",
       "25%     4135.750000   2003.000000      0.000000      0.000000      0.000000   \n",
       "50%     8293.500000   2007.000000      0.080000      0.020000      0.000000   \n",
       "75%    12439.250000   2010.000000      0.240000      0.110000      0.040000   \n",
       "max    16600.000000   2016.000000     41.490000     29.020000     10.220000   \n",
       "\n",
       "        Other_Sales  Global_Sales  \n",
       "count  16324.000000  16324.000000  \n",
       "mean       0.048334      0.540328  \n",
       "std        0.189902      1.565860  \n",
       "min        0.000000      0.010000  \n",
       "25%        0.000000      0.060000  \n",
       "50%        0.010000      0.170000  \n",
       "75%        0.040000      0.480000  \n",
       "max       10.570000     82.740000  "
      ]
     },
     "execution_count": 5,
     "metadata": {},
     "output_type": "execute_result"
    }
   ],
   "source": [
    "df.describe()"
   ]
  },
  {
   "cell_type": "code",
   "execution_count": 13,
   "id": "c68667b5",
   "metadata": {},
   "outputs": [
    {
     "name": "stdout",
     "output_type": "stream",
     "text": [
      "Index(['Rank', 'Name', 'Platform', 'Year', 'Genre', 'Publisher', 'NA_Sales',\n",
      "       'EU_Sales', 'JP_Sales', 'Other_Sales', 'Global_Sales'],\n",
      "      dtype='object')\n"
     ]
    }
   ],
   "source": [
    "print(df.columns)"
   ]
  },
  {
   "cell_type": "code",
   "execution_count": 10,
   "id": "52297b41",
   "metadata": {},
   "outputs": [
    {
     "name": "stdout",
     "output_type": "stream",
     "text": [
      "0        2600\n",
      "1        2600\n",
      "2        2600\n",
      "3        2600\n",
      "4        2600\n",
      "         ... \n",
      "16319    XOne\n",
      "16320    XOne\n",
      "16321     PS4\n",
      "16322    XOne\n",
      "16323     PSV\n",
      "Name: Platform, Length: 16324, dtype: object\n"
     ]
    }
   ],
   "source": [
    "print(df['Platform'])"
   ]
  },
  {
   "cell_type": "code",
   "execution_count": 11,
   "id": "97243f8f",
   "metadata": {},
   "outputs": [
    {
     "name": "stdout",
     "output_type": "stream",
     "text": [
      "['2600' 'NES' 'PC' 'DS' 'GB' 'SNES' 'GEN' 'GG' 'SCD' 'NG' 'PS' 'SAT' '3DO'\n",
      " 'TG16' 'N64' 'PCFX' 'DC' 'WS' 'PS2' 'XB' 'GBA' 'GC' 'PSP' 'X360' 'Wii'\n",
      " 'PS3' '3DS' 'PSV' 'WiiU' 'PS4' 'XOne']\n"
     ]
    }
   ],
   "source": [
    "print(df['Platform'].unique())"
   ]
  },
  {
   "cell_type": "code",
   "execution_count": 15,
   "id": "c847ad10",
   "metadata": {},
   "outputs": [
    {
     "name": "stdout",
     "output_type": "stream",
     "text": [
      "    Platform  JP_Sales\n",
      "1       2600      0.00\n",
      "2       2600      0.00\n",
      "3       2600      0.00\n",
      "4       2600      0.00\n",
      "5       2600      0.00\n",
      "..       ...       ...\n",
      "395     SNES      0.59\n",
      "396       PS      0.13\n",
      "397     SNES      0.56\n",
      "398      SAT      0.55\n",
      "399     SNES      0.53\n",
      "\n",
      "[399 rows x 2 columns]\n"
     ]
    }
   ],
   "source": [
    "print(df[['Platform','JP_Sales']].iloc[1:400])"
   ]
  },
  {
   "cell_type": "code",
   "execution_count": 16,
   "id": "a145ee7f",
   "metadata": {},
   "outputs": [
    {
     "name": "stdout",
     "output_type": "stream",
     "text": [
      "(16324, 11)\n"
     ]
    }
   ],
   "source": [
    "print(df.shape)"
   ]
  },
  {
   "cell_type": "code",
   "execution_count": 17,
   "id": "14c77ed4",
   "metadata": {},
   "outputs": [
    {
     "name": "stdout",
     "output_type": "stream",
     "text": [
      "[[259 'Asteroids' '2600' ... 0.0 0.05 4.31]\n",
      " [545 'Missile Command' '2600' ... 0.0 0.03 2.76]\n",
      " [1768 'Kaboom!' '2600' ... 0.0 0.01 1.15]\n",
      " ...\n",
      " [16573 'Farming 2017 - The Simulation' 'PS4' ... 0.0 0.0 0.01]\n",
      " [16579 'Rugby Challenge 3' 'XOne' ... 0.0 0.0 0.01]\n",
      " [16592 'Chou Ezaru wa Akai Hana: Koi wa Tsuki ni Shirube Kareru' 'PSV'\n",
      "  ... 0.01 0.0 0.01]]\n"
     ]
    }
   ],
   "source": [
    "print(df.values)"
   ]
  },
  {
   "cell_type": "code",
   "execution_count": 18,
   "id": "bcea518f",
   "metadata": {},
   "outputs": [
    {
     "data": {
      "text/html": [
       "<div>\n",
       "<style scoped>\n",
       "    .dataframe tbody tr th:only-of-type {\n",
       "        vertical-align: middle;\n",
       "    }\n",
       "\n",
       "    .dataframe tbody tr th {\n",
       "        vertical-align: top;\n",
       "    }\n",
       "\n",
       "    .dataframe thead th {\n",
       "        text-align: right;\n",
       "    }\n",
       "</style>\n",
       "<table border=\"1\" class=\"dataframe\">\n",
       "  <thead>\n",
       "    <tr style=\"text-align: right;\">\n",
       "      <th></th>\n",
       "      <th>Rank</th>\n",
       "      <th>Year</th>\n",
       "      <th>NA_Sales</th>\n",
       "      <th>EU_Sales</th>\n",
       "      <th>JP_Sales</th>\n",
       "      <th>Other_Sales</th>\n",
       "      <th>Global_Sales</th>\n",
       "    </tr>\n",
       "  </thead>\n",
       "  <tbody>\n",
       "    <tr>\n",
       "      <th>Rank</th>\n",
       "      <td>1.000000</td>\n",
       "      <td>0.178443</td>\n",
       "      <td>-0.400330</td>\n",
       "      <td>-0.379029</td>\n",
       "      <td>-0.269141</td>\n",
       "      <td>-0.332525</td>\n",
       "      <td>-0.426884</td>\n",
       "    </tr>\n",
       "    <tr>\n",
       "      <th>Year</th>\n",
       "      <td>0.178443</td>\n",
       "      <td>1.000000</td>\n",
       "      <td>-0.091350</td>\n",
       "      <td>0.006142</td>\n",
       "      <td>-0.169320</td>\n",
       "      <td>0.041177</td>\n",
       "      <td>-0.074653</td>\n",
       "    </tr>\n",
       "    <tr>\n",
       "      <th>NA_Sales</th>\n",
       "      <td>-0.400330</td>\n",
       "      <td>-0.091350</td>\n",
       "      <td>1.000000</td>\n",
       "      <td>0.768932</td>\n",
       "      <td>0.451280</td>\n",
       "      <td>0.634503</td>\n",
       "      <td>0.941267</td>\n",
       "    </tr>\n",
       "    <tr>\n",
       "      <th>EU_Sales</th>\n",
       "      <td>-0.379029</td>\n",
       "      <td>0.006142</td>\n",
       "      <td>0.768932</td>\n",
       "      <td>1.000000</td>\n",
       "      <td>0.436408</td>\n",
       "      <td>0.726262</td>\n",
       "      <td>0.903269</td>\n",
       "    </tr>\n",
       "    <tr>\n",
       "      <th>JP_Sales</th>\n",
       "      <td>-0.269141</td>\n",
       "      <td>-0.169320</td>\n",
       "      <td>0.451280</td>\n",
       "      <td>0.436408</td>\n",
       "      <td>1.000000</td>\n",
       "      <td>0.290646</td>\n",
       "      <td>0.612790</td>\n",
       "    </tr>\n",
       "    <tr>\n",
       "      <th>Other_Sales</th>\n",
       "      <td>-0.332525</td>\n",
       "      <td>0.041177</td>\n",
       "      <td>0.634503</td>\n",
       "      <td>0.726262</td>\n",
       "      <td>0.290646</td>\n",
       "      <td>1.000000</td>\n",
       "      <td>0.747971</td>\n",
       "    </tr>\n",
       "    <tr>\n",
       "      <th>Global_Sales</th>\n",
       "      <td>-0.426884</td>\n",
       "      <td>-0.074653</td>\n",
       "      <td>0.941267</td>\n",
       "      <td>0.903269</td>\n",
       "      <td>0.612790</td>\n",
       "      <td>0.747971</td>\n",
       "      <td>1.000000</td>\n",
       "    </tr>\n",
       "  </tbody>\n",
       "</table>\n",
       "</div>"
      ],
      "text/plain": [
       "                  Rank      Year  NA_Sales  EU_Sales  JP_Sales  Other_Sales  \\\n",
       "Rank          1.000000  0.178443 -0.400330 -0.379029 -0.269141    -0.332525   \n",
       "Year          0.178443  1.000000 -0.091350  0.006142 -0.169320     0.041177   \n",
       "NA_Sales     -0.400330 -0.091350  1.000000  0.768932  0.451280     0.634503   \n",
       "EU_Sales     -0.379029  0.006142  0.768932  1.000000  0.436408     0.726262   \n",
       "JP_Sales     -0.269141 -0.169320  0.451280  0.436408  1.000000     0.290646   \n",
       "Other_Sales  -0.332525  0.041177  0.634503  0.726262  0.290646     1.000000   \n",
       "Global_Sales -0.426884 -0.074653  0.941267  0.903269  0.612790     0.747971   \n",
       "\n",
       "              Global_Sales  \n",
       "Rank             -0.426884  \n",
       "Year             -0.074653  \n",
       "NA_Sales          0.941267  \n",
       "EU_Sales          0.903269  \n",
       "JP_Sales          0.612790  \n",
       "Other_Sales       0.747971  \n",
       "Global_Sales      1.000000  "
      ]
     },
     "execution_count": 18,
     "metadata": {},
     "output_type": "execute_result"
    }
   ],
   "source": [
    "df.corr()"
   ]
  },
  {
   "cell_type": "code",
   "execution_count": 26,
   "id": "70f6a8a6",
   "metadata": {},
   "outputs": [
    {
     "data": {
      "text/html": [
       "<div>\n",
       "<style scoped>\n",
       "    .dataframe tbody tr th:only-of-type {\n",
       "        vertical-align: middle;\n",
       "    }\n",
       "\n",
       "    .dataframe tbody tr th {\n",
       "        vertical-align: top;\n",
       "    }\n",
       "\n",
       "    .dataframe thead th {\n",
       "        text-align: right;\n",
       "    }\n",
       "</style>\n",
       "<table border=\"1\" class=\"dataframe\">\n",
       "  <thead>\n",
       "    <tr style=\"text-align: right;\">\n",
       "      <th></th>\n",
       "      <th>Rank</th>\n",
       "      <th>Year</th>\n",
       "      <th>NA_Sales</th>\n",
       "      <th>EU_Sales</th>\n",
       "      <th>JP_Sales</th>\n",
       "      <th>Other_Sales</th>\n",
       "      <th>Global_Sales</th>\n",
       "    </tr>\n",
       "  </thead>\n",
       "  <tbody>\n",
       "    <tr>\n",
       "      <th>Rank</th>\n",
       "      <td>2.296368e+07</td>\n",
       "      <td>4982.486242</td>\n",
       "      <td>-1576.266932</td>\n",
       "      <td>-924.160005</td>\n",
       "      <td>-401.861773</td>\n",
       "      <td>-302.603520</td>\n",
       "      <td>-3203.196023</td>\n",
       "    </tr>\n",
       "    <tr>\n",
       "      <th>Year</th>\n",
       "      <td>4.982486e+03</td>\n",
       "      <td>33.950949</td>\n",
       "      <td>-0.437349</td>\n",
       "      <td>0.018209</td>\n",
       "      <td>-0.307405</td>\n",
       "      <td>0.045562</td>\n",
       "      <td>-0.681121</td>\n",
       "    </tr>\n",
       "    <tr>\n",
       "      <th>NA_Sales</th>\n",
       "      <td>-1.576267e+03</td>\n",
       "      <td>-0.437349</td>\n",
       "      <td>0.675123</td>\n",
       "      <td>0.321465</td>\n",
       "      <td>0.115535</td>\n",
       "      <td>0.099004</td>\n",
       "      <td>1.211035</td>\n",
       "    </tr>\n",
       "    <tr>\n",
       "      <th>EU_Sales</th>\n",
       "      <td>-9.241600e+02</td>\n",
       "      <td>0.018209</td>\n",
       "      <td>0.321465</td>\n",
       "      <td>0.258886</td>\n",
       "      <td>0.069187</td>\n",
       "      <td>0.070174</td>\n",
       "      <td>0.719655</td>\n",
       "    </tr>\n",
       "    <tr>\n",
       "      <th>JP_Sales</th>\n",
       "      <td>-4.018618e+02</td>\n",
       "      <td>-0.307405</td>\n",
       "      <td>0.115535</td>\n",
       "      <td>0.069187</td>\n",
       "      <td>0.097085</td>\n",
       "      <td>0.017198</td>\n",
       "      <td>0.298979</td>\n",
       "    </tr>\n",
       "    <tr>\n",
       "      <th>Other_Sales</th>\n",
       "      <td>-3.026035e+02</td>\n",
       "      <td>0.045562</td>\n",
       "      <td>0.099004</td>\n",
       "      <td>0.070174</td>\n",
       "      <td>0.017198</td>\n",
       "      <td>0.036063</td>\n",
       "      <td>0.222416</td>\n",
       "    </tr>\n",
       "    <tr>\n",
       "      <th>Global_Sales</th>\n",
       "      <td>-3.203196e+03</td>\n",
       "      <td>-0.681121</td>\n",
       "      <td>1.211035</td>\n",
       "      <td>0.719655</td>\n",
       "      <td>0.298979</td>\n",
       "      <td>0.222416</td>\n",
       "      <td>2.451917</td>\n",
       "    </tr>\n",
       "  </tbody>\n",
       "</table>\n",
       "</div>"
      ],
      "text/plain": [
       "                      Rank         Year     NA_Sales    EU_Sales    JP_Sales  \\\n",
       "Rank          2.296368e+07  4982.486242 -1576.266932 -924.160005 -401.861773   \n",
       "Year          4.982486e+03    33.950949    -0.437349    0.018209   -0.307405   \n",
       "NA_Sales     -1.576267e+03    -0.437349     0.675123    0.321465    0.115535   \n",
       "EU_Sales     -9.241600e+02     0.018209     0.321465    0.258886    0.069187   \n",
       "JP_Sales     -4.018618e+02    -0.307405     0.115535    0.069187    0.097085   \n",
       "Other_Sales  -3.026035e+02     0.045562     0.099004    0.070174    0.017198   \n",
       "Global_Sales -3.203196e+03    -0.681121     1.211035    0.719655    0.298979   \n",
       "\n",
       "              Other_Sales  Global_Sales  \n",
       "Rank          -302.603520  -3203.196023  \n",
       "Year             0.045562     -0.681121  \n",
       "NA_Sales         0.099004      1.211035  \n",
       "EU_Sales         0.070174      0.719655  \n",
       "JP_Sales         0.017198      0.298979  \n",
       "Other_Sales      0.036063      0.222416  \n",
       "Global_Sales     0.222416      2.451917  "
      ]
     },
     "execution_count": 26,
     "metadata": {},
     "output_type": "execute_result"
    }
   ],
   "source": [
    "df.cov()"
   ]
  },
  {
   "cell_type": "code",
   "execution_count": 19,
   "id": "48e2f402",
   "metadata": {},
   "outputs": [
    {
     "name": "stdout",
     "output_type": "stream",
     "text": [
      "pearson\n",
      "                  Rank      Year  NA_Sales  EU_Sales  JP_Sales  Other_Sales  \\\n",
      "Rank          1.000000  0.178443 -0.400330 -0.379029 -0.269141    -0.332525   \n",
      "Year          0.178443  1.000000 -0.091350  0.006142 -0.169320     0.041177   \n",
      "NA_Sales     -0.400330 -0.091350  1.000000  0.768932  0.451280     0.634503   \n",
      "EU_Sales     -0.379029  0.006142  0.768932  1.000000  0.436408     0.726262   \n",
      "JP_Sales     -0.269141 -0.169320  0.451280  0.436408  1.000000     0.290646   \n",
      "Other_Sales  -0.332525  0.041177  0.634503  0.726262  0.290646     1.000000   \n",
      "Global_Sales -0.426884 -0.074653  0.941267  0.903269  0.612790     0.747971   \n",
      "\n",
      "              Global_Sales  \n",
      "Rank             -0.426884  \n",
      "Year             -0.074653  \n",
      "NA_Sales          0.941267  \n",
      "EU_Sales          0.903269  \n",
      "JP_Sales          0.612790  \n",
      "Other_Sales       0.747971  \n",
      "Global_Sales      1.000000  \n",
      "\n",
      "kendall\n",
      "                  Rank      Year  NA_Sales  EU_Sales  JP_Sales  Other_Sales  \\\n",
      "Rank          1.000000  0.104603 -0.669142 -0.556740 -0.127561    -0.677815   \n",
      "Year          0.104603  1.000000 -0.094717 -0.047415  0.013740     0.042110   \n",
      "NA_Sales     -0.669142 -0.094717  1.000000  0.558047 -0.179328     0.641971   \n",
      "EU_Sales     -0.556740 -0.047415  0.558047  1.000000 -0.142214     0.661695   \n",
      "JP_Sales     -0.127561  0.013740 -0.179328 -0.142214  1.000000    -0.058170   \n",
      "Other_Sales  -0.677815  0.042110  0.641971  0.661695 -0.058170     1.000000   \n",
      "Global_Sales -0.989778 -0.105429  0.675369  0.561818  0.128917     0.684399   \n",
      "\n",
      "              Global_Sales  \n",
      "Rank             -0.989778  \n",
      "Year             -0.105429  \n",
      "NA_Sales          0.675369  \n",
      "EU_Sales          0.561818  \n",
      "JP_Sales          0.128917  \n",
      "Other_Sales       0.684399  \n",
      "Global_Sales      1.000000  \n",
      "\n",
      "spearman\n",
      "                  Rank      Year  NA_Sales  EU_Sales  JP_Sales  Other_Sales  \\\n",
      "Rank          1.000000  0.151105 -0.795108 -0.696965 -0.154880    -0.810768   \n",
      "Year          0.151105  1.000000 -0.132784 -0.057196  0.009392     0.056157   \n",
      "NA_Sales     -0.795108 -0.132784  1.000000  0.683199 -0.226301     0.771371   \n",
      "EU_Sales     -0.696965 -0.057196  0.683199  1.000000 -0.176311     0.766432   \n",
      "JP_Sales     -0.154880  0.009392 -0.226301 -0.176311  1.000000    -0.069135   \n",
      "Other_Sales  -0.810768  0.056157  0.771371  0.766432 -0.069135     1.000000   \n",
      "Global_Sales -0.999624 -0.150824  0.795149  0.696708  0.154990     0.810743   \n",
      "\n",
      "              Global_Sales  \n",
      "Rank             -0.999624  \n",
      "Year             -0.150824  \n",
      "NA_Sales          0.795149  \n",
      "EU_Sales          0.696708  \n",
      "JP_Sales          0.154990  \n",
      "Other_Sales       0.810743  \n",
      "Global_Sales      1.000000  \n",
      "\n"
     ]
    }
   ],
   "source": [
    "for x in ['pearson','kendall','spearman']:\n",
    "    print(x,df.corr(method=x),sep=\"\\n\",end=\"\\n\\n\")"
   ]
  },
  {
   "cell_type": "code",
   "execution_count": 7,
   "id": "a3ef9fe2",
   "metadata": {},
   "outputs": [],
   "source": [
    "from sqlalchemy import create_engine"
   ]
  },
  {
   "cell_type": "code",
   "execution_count": 8,
   "id": "54521e1a",
   "metadata": {},
   "outputs": [],
   "source": [
    "engine = create_engine('sqlite:///:memory:')\n",
    "df.to_sql('vgsales',engine)"
   ]
  },
  {
   "cell_type": "code",
   "execution_count": 21,
   "id": "86502b7e",
   "metadata": {},
   "outputs": [],
   "source": [
    "sel = ['NA_Sales','EU_Sales', 'JP_Sales', 'Other_Sales', 'Global_Sales']\n",
    "where = df['Platform'].unique()\n",
    "perlabel = []\n",
    "for x in where:\n",
    "    perlabel.append(pd.read_sql_query(\"SELECT \"+','.join(sel)+\" FROM vgsales WHERE Platform='\"+x+\"'\",engine))"
   ]
  },
  {
   "cell_type": "code",
   "execution_count": 24,
   "id": "77d3b12e",
   "metadata": {},
   "outputs": [
    {
     "name": "stdout",
     "output_type": "stream",
     "text": [
      "2600\n",
      "         NA_Sales    EU_Sales  JP_Sales  Other_Sales  Global_Sales\n",
      "count  116.000000  116.000000     116.0   116.000000    116.000000\n",
      "mean     0.696379    0.041897       0.0     0.007241      0.746293\n",
      "std      0.890480    0.055151       0.0     0.011158      0.955571\n",
      "min      0.070000    0.000000       0.0     0.000000      0.070000\n",
      "25%      0.287500    0.020000       0.0     0.000000      0.305000\n",
      "50%      0.450000    0.030000       0.0     0.005000      0.475000\n",
      "75%      0.722500    0.042500       0.0     0.010000      0.780000\n",
      "max      7.280000    0.450000       0.0     0.080000      7.810000\n",
      "\n",
      "NES\n",
      "        NA_Sales   EU_Sales   JP_Sales  Other_Sales  Global_Sales\n",
      "count  98.000000  98.000000  98.000000    98.000000     98.000000\n",
      "mean    1.285102   0.215816   1.006633     0.054184      2.561939\n",
      "std     4.080581   0.521698   0.968289     0.180748      5.108195\n",
      "min     0.000000   0.000000   0.000000     0.000000      0.060000\n",
      "25%     0.045000   0.000000   0.402500     0.000000      1.000000\n",
      "50%     0.405000   0.080000   0.770000     0.010000      1.375000\n",
      "75%     0.762500   0.177500   1.367500     0.030000      2.222500\n",
      "max    29.080000   3.580000   6.810000     1.510000     40.240000\n",
      "\n",
      "PC\n",
      "         NA_Sales   EU_Sales    JP_Sales  Other_Sales  Global_Sales\n",
      "count  943.000000  943.00000  943.000000   943.000000    943.000000\n",
      "mean     0.097667    0.14596    0.000180     0.025801      0.270467\n",
      "std      0.357515    0.40619    0.003919     0.072665      0.685770\n",
      "min      0.000000    0.00000    0.000000     0.000000      0.010000\n",
      "25%      0.000000    0.02000    0.000000     0.000000      0.020000\n",
      "50%      0.000000    0.03000    0.000000     0.010000      0.040000\n",
      "75%      0.020000    0.09000    0.000000     0.020000      0.170000\n",
      "max      4.030000    6.42000    0.090000     1.180000      8.110000\n",
      "\n",
      "DS\n",
      "          NA_Sales     EU_Sales     JP_Sales  Other_Sales  Global_Sales\n",
      "count  2133.000000  2133.000000  2133.000000  2133.000000   2133.000000\n",
      "mean      0.182166     0.090985     0.082053     0.028265      0.383947\n",
      "std       0.541406     0.501298     0.393878     0.129496      1.444197\n",
      "min       0.000000     0.000000     0.000000     0.000000      0.010000\n",
      "25%       0.000000     0.000000     0.000000     0.000000      0.050000\n",
      "50%       0.070000     0.000000     0.000000     0.010000      0.110000\n",
      "75%       0.170000     0.020000     0.030000     0.020000      0.280000\n",
      "max      11.380000    11.000000     6.500000     2.900000     30.010000\n",
      "\n",
      "GB\n",
      "        NA_Sales   EU_Sales   JP_Sales  Other_Sales  Global_Sales\n",
      "count  97.000000  97.000000  97.000000    97.000000     97.000000\n",
      "mean    1.171546   0.489794   0.877526     0.084124      2.622887\n",
      "std     3.034028   1.253416   1.405499     0.186769      5.390733\n",
      "min     0.000000   0.000000   0.010000     0.000000      0.060000\n",
      "25%     0.000000   0.000000   0.230000     0.000000      0.300000\n",
      "50%     0.000000   0.000000   0.410000     0.010000      1.180000\n",
      "75%     0.920000   0.480000   0.920000     0.060000      2.180000\n",
      "max    23.200000   8.890000  10.220000     1.000000     31.370000\n",
      "\n",
      "SNES\n",
      "         NA_Sales    EU_Sales    JP_Sales  Other_Sales  Global_Sales\n",
      "count  239.000000  239.000000  239.000000   239.000000    239.000000\n",
      "mean     0.256192    0.079665    0.487657     0.013473      0.837029\n",
      "std      1.052137    0.335919    0.634742     0.051287      1.869059\n",
      "min      0.000000    0.000000    0.000000     0.000000      0.010000\n",
      "25%      0.000000    0.000000    0.120000     0.000000      0.135000\n",
      "50%      0.000000    0.000000    0.290000     0.000000      0.320000\n",
      "75%      0.000000    0.000000    0.530000     0.000000      0.705000\n",
      "max     12.780000    3.750000    3.810000     0.550000     20.610000\n",
      "\n",
      "GEN\n",
      "        NA_Sales   EU_Sales   JP_Sales  Other_Sales  Global_Sales\n",
      "count  27.000000  27.000000  27.000000    27.000000     27.000000\n",
      "mean    0.713704   0.204444   0.098889     0.032963      1.050370\n",
      "std     1.113132   0.317845   0.086128     0.050598      1.492217\n",
      "min     0.000000   0.000000   0.000000     0.000000      0.030000\n",
      "25%     0.000000   0.000000   0.035000     0.000000      0.070000\n",
      "50%     0.000000   0.000000   0.070000     0.000000      0.150000\n",
      "75%     1.025000   0.335000   0.145000     0.050000      1.710000\n",
      "max     4.470000   1.200000   0.310000     0.190000      6.030000\n",
      "\n",
      "GG\n",
      "       NA_Sales  EU_Sales  JP_Sales  Other_Sales  Global_Sales\n",
      "count       1.0       1.0      1.00          1.0          1.00\n",
      "mean        0.0       0.0      0.04          0.0          0.04\n",
      "std         NaN       NaN       NaN          NaN           NaN\n",
      "min         0.0       0.0      0.04          0.0          0.04\n",
      "25%         0.0       0.0      0.04          0.0          0.04\n",
      "50%         0.0       0.0      0.04          0.0          0.04\n",
      "75%         0.0       0.0      0.04          0.0          0.04\n",
      "max         0.0       0.0      0.04          0.0          0.04\n",
      "\n",
      "SCD\n",
      "       NA_Sales  EU_Sales  JP_Sales  Other_Sales  Global_Sales\n",
      "count  6.000000  6.000000  6.000000     6.000000      6.000000\n",
      "mean   0.166667  0.060000  0.075000     0.008333      0.311667\n",
      "std    0.408248  0.146969  0.036194     0.020412      0.583144\n",
      "min    0.000000  0.000000  0.040000     0.000000      0.050000\n",
      "25%    0.000000  0.000000  0.052500     0.000000      0.052500\n",
      "50%    0.000000  0.000000  0.065000     0.000000      0.065000\n",
      "75%    0.000000  0.000000  0.085000     0.000000      0.122500\n",
      "max    1.000000  0.360000  0.140000     0.050000      1.500000\n",
      "\n",
      "NG\n",
      "       NA_Sales  EU_Sales   JP_Sales  Other_Sales  Global_Sales\n",
      "count      12.0      12.0  12.000000         12.0     12.000000\n",
      "mean        0.0       0.0   0.120000          0.0      0.120000\n",
      "std         0.0       0.0   0.082241          0.0      0.082241\n",
      "min         0.0       0.0   0.020000          0.0      0.020000\n",
      "25%         0.0       0.0   0.055000          0.0      0.055000\n",
      "50%         0.0       0.0   0.100000          0.0      0.100000\n",
      "75%         0.0       0.0   0.200000          0.0      0.200000\n",
      "max         0.0       0.0   0.250000          0.0      0.250000\n",
      "\n",
      "PS\n",
      "          NA_Sales     EU_Sales     JP_Sales  Other_Sales  Global_Sales\n",
      "count  1189.000000  1189.000000  1189.000000  1189.000000   1189.000000\n",
      "mean      0.281505     0.178621     0.117561     0.034222      0.611766\n",
      "std       0.536114     0.371322     0.323231     0.059636      1.056998\n",
      "min       0.000000     0.000000     0.000000     0.000000      0.010000\n",
      "25%       0.020000     0.010000     0.000000     0.010000      0.110000\n",
      "50%       0.080000     0.050000     0.000000     0.020000      0.260000\n",
      "75%       0.260000     0.170000     0.100000     0.040000      0.660000\n",
      "max       4.020000     3.870000     4.100000     0.960000     10.950000\n",
      "\n",
      "SAT\n",
      "         NA_Sales    EU_Sales    JP_Sales  Other_Sales  Global_Sales\n",
      "count  173.000000  173.000000  173.000000   173.000000    173.000000\n",
      "mean     0.004162    0.003121    0.186474     0.000405      0.194162\n",
      "std      0.032850    0.024815    0.175972     0.003118      0.217849\n",
      "min      0.000000    0.000000    0.020000     0.000000      0.020000\n",
      "25%      0.000000    0.000000    0.080000     0.000000      0.080000\n",
      "50%      0.000000    0.000000    0.120000     0.000000      0.120000\n",
      "75%      0.000000    0.000000    0.260000     0.000000      0.260000\n",
      "max      0.340000    0.260000    1.300000     0.030000      1.930000\n",
      "\n",
      "3DO\n",
      "       NA_Sales  EU_Sales  JP_Sales  Other_Sales  Global_Sales\n",
      "count       3.0       3.0  3.000000          3.0      3.000000\n",
      "mean        0.0       0.0  0.033333          0.0      0.033333\n",
      "std         0.0       0.0  0.023094          0.0      0.023094\n",
      "min         0.0       0.0  0.020000          0.0      0.020000\n",
      "25%         0.0       0.0  0.020000          0.0      0.020000\n",
      "50%         0.0       0.0  0.020000          0.0      0.020000\n",
      "75%         0.0       0.0  0.040000          0.0      0.040000\n",
      "max         0.0       0.0  0.060000          0.0      0.060000\n",
      "\n",
      "TG16\n",
      "       NA_Sales  EU_Sales  JP_Sales  Other_Sales  Global_Sales\n",
      "count       2.0       2.0  2.000000          2.0      2.000000\n",
      "mean        0.0       0.0  0.080000          0.0      0.080000\n",
      "std         0.0       0.0  0.084853          0.0      0.084853\n",
      "min         0.0       0.0  0.020000          0.0      0.020000\n",
      "25%         0.0       0.0  0.050000          0.0      0.050000\n",
      "50%         0.0       0.0  0.080000          0.0      0.080000\n",
      "75%         0.0       0.0  0.110000          0.0      0.110000\n",
      "max         0.0       0.0  0.140000          0.0      0.140000\n",
      "\n",
      "N64\n",
      "         NA_Sales    EU_Sales    JP_Sales  Other_Sales  Global_Sales\n",
      "count  316.000000  316.000000  316.000000   316.000000    316.000000\n",
      "mean     0.439589    0.129842    0.106835     0.013639      0.690538\n",
      "std      0.800543    0.295996    0.300586     0.029574      1.321415\n",
      "min      0.000000    0.000000    0.000000     0.000000      0.010000\n",
      "25%      0.070000    0.020000    0.000000     0.000000      0.130000\n",
      "50%      0.190000    0.040000    0.000000     0.000000      0.270000\n",
      "75%      0.450000    0.090000    0.050000     0.010000      0.600000\n",
      "max      6.910000    2.850000    2.230000     0.230000     11.890000\n",
      "\n",
      "PCFX\n",
      "       NA_Sales  EU_Sales  JP_Sales  Other_Sales  Global_Sales\n",
      "count       1.0       1.0      1.00          1.0          1.00\n",
      "mean        0.0       0.0      0.03          0.0          0.03\n",
      "std         NaN       NaN       NaN          NaN           NaN\n",
      "min         0.0       0.0      0.03          0.0          0.03\n",
      "25%         0.0       0.0      0.03          0.0          0.03\n",
      "50%         0.0       0.0      0.03          0.0          0.03\n",
      "75%         0.0       0.0      0.03          0.0          0.03\n",
      "max         0.0       0.0      0.03          0.0          0.03\n",
      "\n",
      "DC\n",
      "        NA_Sales  EU_Sales   JP_Sales  Other_Sales  Global_Sales\n",
      "count  52.000000  52.00000  52.000000    52.000000     52.000000\n",
      "mean    0.104423   0.03250   0.164615     0.005192      0.307115\n",
      "std     0.311979   0.11655   0.132539     0.016976      0.469912\n",
      "min     0.000000   0.00000   0.000000     0.000000      0.020000\n",
      "25%     0.000000   0.00000   0.067500     0.000000      0.077500\n",
      "50%     0.000000   0.00000   0.120000     0.000000      0.135000\n",
      "75%     0.000000   0.00000   0.222500     0.000000      0.297500\n",
      "max     1.260000   0.61000   0.520000     0.080000      2.420000\n",
      "\n",
      "WS\n"
     ]
    },
    {
     "name": "stdout",
     "output_type": "stream",
     "text": [
      "       NA_Sales  EU_Sales  JP_Sales  Other_Sales  Global_Sales\n",
      "count       6.0       6.0  6.000000          6.0      6.000000\n",
      "mean        0.0       0.0  0.236667          0.0      0.236667\n",
      "std         0.0       0.0  0.159457          0.0      0.159457\n",
      "min         0.0       0.0  0.030000          0.0      0.030000\n",
      "25%         0.0       0.0  0.172500          0.0      0.172500\n",
      "50%         0.0       0.0  0.215000          0.0      0.215000\n",
      "75%         0.0       0.0  0.272500          0.0      0.272500\n",
      "max         0.0       0.0  0.510000          0.0      0.510000\n",
      "\n",
      "PS2\n",
      "          NA_Sales     EU_Sales     JP_Sales  Other_Sales  Global_Sales\n",
      "count  2127.000000  2127.000000  2127.000000  2127.000000   2127.000000\n",
      "mean      0.269356     0.156385     0.064664     0.089549      0.579906\n",
      "std       0.576756     0.360514     0.199480     0.340936      1.138558\n",
      "min       0.000000     0.000000     0.000000     0.000000      0.010000\n",
      "25%       0.010000     0.010000     0.000000     0.000000      0.080000\n",
      "50%       0.090000     0.050000     0.000000     0.020000      0.230000\n",
      "75%       0.250000     0.140000     0.030000     0.070000      0.560000\n",
      "max       9.430000     5.490000     3.610000    10.570000     20.810000\n",
      "\n",
      "XB\n",
      "         NA_Sales    EU_Sales    JP_Sales  Other_Sales  Global_Sales\n",
      "count  803.000000  803.000000  803.000000   803.000000    803.000000\n",
      "mean     0.226725    0.074284    0.001719     0.010560      0.313935\n",
      "std      0.404785    0.133943    0.012284     0.016959      0.538858\n",
      "min      0.000000    0.000000    0.000000     0.000000      0.010000\n",
      "25%      0.050000    0.010000    0.000000     0.000000      0.070000\n",
      "50%      0.110000    0.030000    0.000000     0.010000      0.140000\n",
      "75%      0.250000    0.070000    0.000000     0.010000      0.340000\n",
      "max      6.820000    1.530000    0.240000     0.130000      8.490000\n",
      "\n",
      "GBA\n",
      "         NA_Sales    EU_Sales    JP_Sales  Other_Sales  Global_Sales\n",
      "count  811.000000  811.000000  811.000000   811.000000    811.000000\n",
      "mean     0.227028    0.091973    0.057411     0.009383      0.386634\n",
      "std      0.440562    0.228935    0.268249     0.031259      0.899298\n",
      "min      0.000000    0.000000    0.000000     0.000000      0.010000\n",
      "25%      0.030000    0.010000    0.000000     0.000000      0.060000\n",
      "50%      0.100000    0.040000    0.000000     0.000000      0.160000\n",
      "75%      0.250000    0.090000    0.000000     0.010000      0.390000\n",
      "max      6.060000    3.900000    5.380000     0.500000     15.850000\n",
      "\n",
      "GC\n",
      "         NA_Sales    EU_Sales    JP_Sales  Other_Sales  Global_Sales\n",
      "count  542.000000  542.000000  542.000000   542.000000    542.000000\n",
      "mean     0.243432    0.070701    0.039373     0.009465      0.363727\n",
      "std      0.427722    0.144258    0.141284     0.020893      0.693107\n",
      "min      0.000000    0.000000    0.000000     0.000000      0.010000\n",
      "25%      0.050000    0.010000    0.000000     0.000000      0.070000\n",
      "50%      0.110000    0.030000    0.000000     0.000000      0.150000\n",
      "75%      0.260000    0.070000    0.000000     0.010000      0.370000\n",
      "max      4.410000    1.770000    1.390000     0.220000      7.070000\n",
      "\n",
      "PSP\n",
      "          NA_Sales     EU_Sales     JP_Sales  Other_Sales  Global_Sales\n",
      "count  1197.000000  1197.000000  1197.000000  1197.000000   1197.000000\n",
      "mean      0.089465     0.056107     0.063400     0.034687      0.243701\n",
      "std       0.204964     0.183629     0.215485     0.106991      0.524226\n",
      "min       0.000000     0.000000     0.000000     0.000000      0.010000\n",
      "25%       0.000000     0.000000     0.000000     0.000000      0.030000\n",
      "50%       0.000000     0.000000     0.020000     0.000000      0.090000\n",
      "75%       0.100000     0.010000     0.060000     0.020000      0.230000\n",
      "max       2.900000     2.830000     4.870000     1.750000      7.720000\n",
      "\n",
      "X360\n",
      "          NA_Sales     EU_Sales     JP_Sales  Other_Sales  Global_Sales\n",
      "count  1235.000000  1235.000000  1235.000000  1235.000000   1235.000000\n",
      "mean      0.481239     0.225109     0.009960     0.068559      0.785109\n",
      "std       1.041713     0.488574     0.024796     0.143066      1.635342\n",
      "min       0.000000     0.000000     0.000000     0.000000      0.010000\n",
      "25%       0.080000     0.010000     0.000000     0.010000      0.110000\n",
      "50%       0.170000     0.060000     0.000000     0.020000      0.290000\n",
      "75%       0.460000     0.230000     0.010000     0.070000      0.780000\n",
      "max      14.970000     5.310000     0.240000     1.670000     21.820000\n",
      "\n",
      "Wii\n",
      "          NA_Sales     EU_Sales     JP_Sales  Other_Sales  Global_Sales\n",
      "count  1290.000000  1290.000000  1290.000000  1290.000000   1290.000000\n",
      "mean      0.385558     0.204922     0.052930     0.061395      0.705279\n",
      "std       1.553489     1.093037     0.304071     0.307099      3.177537\n",
      "min       0.000000     0.000000     0.000000     0.000000      0.010000\n",
      "25%       0.050000     0.000000     0.000000     0.010000      0.090000\n",
      "50%       0.140000     0.010000     0.000000     0.010000      0.200000\n",
      "75%       0.330000     0.110000     0.000000     0.040000      0.490000\n",
      "max      41.490000    29.020000     4.700000     8.460000     82.740000\n",
      "\n",
      "PS3\n",
      "          NA_Sales     EU_Sales     JP_Sales  Other_Sales  Global_Sales\n",
      "count  1304.000000  1304.000000  1304.000000  1304.000000   1304.000000\n",
      "mean      0.298236     0.261097     0.060744     0.107983      0.728029\n",
      "std       0.582753     0.606233     0.131425     0.243707      1.424341\n",
      "min       0.000000     0.000000     0.000000     0.000000      0.010000\n",
      "25%       0.010000     0.000000     0.000000     0.010000      0.110000\n",
      "50%       0.120000     0.070000     0.010000     0.030000      0.290000\n",
      "75%       0.322500     0.270000     0.060000     0.120000      0.790000\n",
      "max       7.010000     9.270000     1.870000     4.140000     21.400000\n",
      "\n",
      "3DS\n",
      "         NA_Sales   EU_Sales    JP_Sales  Other_Sales  Global_Sales\n",
      "count  500.000000  500.00000  500.000000     500.0000    500.000000\n",
      "mean     0.156060    0.11660    0.194600       0.0251      0.492560\n",
      "std      0.520702    0.40646    0.519469       0.0857      1.401981\n",
      "min      0.000000    0.00000    0.000000       0.0000      0.010000\n",
      "25%      0.000000    0.00000    0.000000       0.0000      0.050000\n",
      "50%      0.010000    0.00000    0.050000       0.0000      0.125000\n",
      "75%      0.120000    0.07000    0.140000       0.0200      0.350000\n",
      "max      5.170000    4.05000    4.360000       0.8900     14.350000\n",
      "\n",
      "PSV\n",
      "         NA_Sales    EU_Sales    JP_Sales  Other_Sales  Global_Sales\n",
      "count  410.000000  410.000000  410.000000   410.000000    410.000000\n",
      "mean     0.039195    0.039683    0.050902     0.020512      0.150268\n",
      "std      0.090184    0.103350    0.074393     0.047433      0.253373\n",
      "min      0.000000    0.000000    0.000000     0.000000      0.010000\n",
      "25%      0.000000    0.000000    0.010000     0.000000      0.020000\n",
      "50%      0.000000    0.000000    0.030000     0.000000      0.060000\n",
      "75%      0.040000    0.030000    0.060000     0.020000      0.160000\n",
      "max      0.800000    0.790000    0.870000     0.330000      2.250000\n",
      "\n",
      "WiiU\n",
      "         NA_Sales    EU_Sales    JP_Sales  Other_Sales  Global_Sales\n",
      "count  143.000000  143.000000  143.000000   143.000000    143.000000\n",
      "mean     0.267972    0.169441    0.089441     0.045105      0.572448\n",
      "std      0.500606    0.288744    0.236008     0.088085      1.069680\n",
      "min      0.000000    0.000000    0.000000     0.000000      0.010000\n",
      "25%      0.030000    0.020000    0.000000     0.000000      0.075000\n",
      "50%      0.120000    0.070000    0.000000     0.020000      0.230000\n",
      "75%      0.260000    0.210000    0.080000     0.045000      0.530000\n",
      "max      3.130000    2.070000    1.440000     0.570000      6.960000\n",
      "\n",
      "PS4\n",
      "         NA_Sales    EU_Sales    JP_Sales  Other_Sales  Global_Sales\n",
      "count  335.000000  335.000000  335.000000   335.000000    335.000000\n",
      "mean     0.288955    0.369254    0.042597     0.129433      0.830060\n",
      "std      0.594830    0.797743    0.070673     0.269104      1.620798\n",
      "min      0.000000    0.000000    0.000000     0.000000      0.010000\n",
      "25%      0.000000    0.010000    0.000000     0.010000      0.060000\n",
      "50%      0.070000    0.080000    0.020000     0.030000      0.220000\n",
      "75%      0.310000    0.320000    0.060000     0.130000      0.820000\n",
      "max      5.770000    6.060000    0.480000     2.310000     14.240000\n",
      "\n",
      "XOne\n"
     ]
    },
    {
     "name": "stdout",
     "output_type": "stream",
     "text": [
      "         NA_Sales    EU_Sales    JP_Sales  Other_Sales  Global_Sales\n",
      "count  213.000000  213.000000  213.000000   213.000000    213.000000\n",
      "mean     0.390563    0.214319    0.001596     0.055962      0.662254\n",
      "std      0.641796    0.358040    0.005519     0.089230      1.039298\n",
      "min      0.000000    0.000000    0.000000     0.000000      0.010000\n",
      "25%      0.030000    0.020000    0.000000     0.010000      0.070000\n",
      "50%      0.150000    0.070000    0.000000     0.020000      0.240000\n",
      "75%      0.390000    0.220000    0.000000     0.060000      0.680000\n",
      "max      4.520000    2.110000    0.040000     0.670000      7.300000\n",
      "\n"
     ]
    }
   ],
   "source": [
    "for x in range(0,len(perlabel)):\n",
    "    print(where[x])\n",
    "    print(perlabel[x].describe(),end=\"\\n\\n\")"
   ]
  },
  {
   "cell_type": "code",
   "execution_count": 32,
   "id": "533d7282",
   "metadata": {},
   "outputs": [],
   "source": [
    "import matplotlib.pyplot as plt\n",
    "%matplotlib inline"
   ]
  },
  {
   "cell_type": "code",
   "execution_count": 34,
   "id": "d895eae4",
   "metadata": {},
   "outputs": [
    {
     "data": {
      "text/plain": [
       "<AxesSubplot:>"
      ]
     },
     "execution_count": 34,
     "metadata": {},
     "output_type": "execute_result"
    },
    {
     "data": {
      "text/plain": [
       "<Figure size 432x288 with 0 Axes>"
      ]
     },
     "metadata": {},
     "output_type": "display_data"
    },
    {
     "data": {
      "image/png": "[encoded data removed]",
      "text/plain": [
       "<Figure size 432x288 with 1 Axes>"
      ]
     },
     "metadata": {
      "needs_background": "light"
     },
     "output_type": "display_data"
    }
   ],
   "source": [
    "plt.figure()\n",
    "df.plot()"
   ]
  },
  {
   "cell_type": "code",
   "execution_count": 35,
   "id": "ccb52cb7",
   "metadata": {},
   "outputs": [
    {
     "data": {
      "text/plain": [
       "<AxesSubplot:>"
      ]
     },
     "execution_count": 35,
     "metadata": {},
     "output_type": "execute_result"
    },
    {
     "data": {
      "image/png": "[encoded data removed]",
      "text/plain": [
       "<Figure size 432x288 with 1 Axes>"
      ]
     },
     "metadata": {
      "needs_background": "light"
     },
     "output_type": "display_data"
    }
   ],
   "source": [
    "df[['NA_Sales','EU_Sales','JP_Sales','Other_Sales','Global_Sales']].plot()"
   ]
  },
  {
   "cell_type": "code",
   "execution_count": 36,
   "id": "682072ac",
   "metadata": {},
   "outputs": [
    {
     "data": {
      "text/plain": [
       "<AxesSubplot:>"
      ]
     },
     "execution_count": 36,
     "metadata": {},
     "output_type": "execute_result"
    },
    {
     "data": {
      "image/png": "[encoded data removed]",
      "text/plain": [
       "<Figure size 432x288 with 1 Axes>"
      ]
     },
     "metadata": {
      "needs_background": "light"
     },
     "output_type": "display_data"
    }
   ],
   "source": [
    "df[['NA_Sales','EU_Sales','JP_Sales']].plot()"
   ]
  },
  {
   "cell_type": "code",
   "execution_count": 37,
   "id": "7ce9963f",
   "metadata": {},
   "outputs": [
    {
     "data": {
      "text/plain": [
       "<AxesSubplot:>"
      ]
     },
     "execution_count": 37,
     "metadata": {},
     "output_type": "execute_result"
    },
    {
     "data": {
      "image/png": "[encoded data removed]",
      "text/plain": [
       "<Figure size 432x288 with 1 Axes>"
      ]
     },
     "metadata": {
      "needs_background": "light"
     },
     "output_type": "display_data"
    }
   ],
   "source": [
    "df[['NA_Sales','EU_Sales','JP_Sales']].iloc[100:110].plot()"
   ]
  },
  {
   "cell_type": "code",
   "execution_count": null,
   "id": "5cbc6481",
   "metadata": {},
   "outputs": [],
   "source": []
  },
  {
   "cell_type": "code",
   "execution_count": 33,
   "id": "74edafd1",
   "metadata": {},
   "outputs": [],
   "source": [
    "import seaborn as sns"
   ]
  },
  {
   "cell_type": "code",
   "execution_count": 32,
   "id": "164a0ef4",
   "metadata": {},
   "outputs": [
    {
     "data": {
      "image/png": "[encoded data removed]",
      "text/plain": [
       "<Figure size 432x288 with 1 Axes>"
      ]
     },
     "metadata": {
      "needs_background": "light"
     },
     "output_type": "display_data"
    }
   ],
   "source": [
    "ax = sns.scatterplot(x=df.R, y=df.G,hue=df.label)"
   ]
  },
  {
   "cell_type": "code",
   "execution_count": null,
   "id": "781d58eb",
   "metadata": {},
   "outputs": [],
   "source": []
  }
 ],
 "metadata": {
  "kernelspec": {
   "display_name": "Python 3 (ipykernel)",
   "language": "python",
   "name": "python3"
  },
  "language_info": {
   "codemirror_mode": {
    "name": "ipython",
    "version": 3
   },
   "file_extension": ".py",
   "mimetype": "text/x-python",
   "name": "python",
   "nbconvert_exporter": "python",
   "pygments_lexer": "ipython3",
   "version": "3.9.7"
  }
 },
 "nbformat": 4,
 "nbformat_minor": 5
}
