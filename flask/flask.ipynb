{
 "cells": [
  {
   "cell_type": "code",
   "execution_count": null,
   "id": "6f164d96",
   "metadata": {},
   "outputs": [],
   "source": [
    "!pip install flask"
   ]
  },
  {
   "cell_type": "code",
   "execution_count": 1,
   "id": "1fe8675f",
   "metadata": {},
   "outputs": [],
   "source": [
    "!export FLASK_APP=hello.py"
   ]
  },
  {
   "cell_type": "code",
   "execution_count": 2,
   "id": "f93da4f9",
   "metadata": {},
   "outputs": [
    {
     "name": "stdout",
     "output_type": "stream",
     "text": [
      " * Environment: production\r\n",
      "\u001b[31m   WARNING: This is a development server. Do not use it in a production deployment.\u001b[0m\r\n",
      "\u001b[2m   Use a production WSGI server instead.\u001b[0m\r\n",
      " * Debug mode: off\r\n",
      "Usage: flask run [OPTIONS]\r\n",
      "Try 'flask run --help' for help.\r\n",
      "\r\n",
      "Error: Could not locate a Flask application. You did not provide the \"FLASK_APP\" environment variable, and a \"wsgi.py\" or \"app.py\" module was not found in the current directory.\r\n"
     ]
    }
   ],
   "source": [
    "!/usr/local/anaconda3/bin/flask run"
   ]
  },
  {
   "cell_type": "code",
   "execution_count": null,
   "id": "b4965987",
   "metadata": {},
   "outputs": [],
   "source": []
  }
 ],
 "metadata": {
  "kernelspec": {
   "display_name": "Python 3 (ipykernel)",
   "language": "python",
   "name": "python3"
  },
  "language_info": {
   "codemirror_mode": {
    "name": "ipython",
    "version": 3
   },
   "file_extension": ".py",
   "mimetype": "text/x-python",
   "name": "python",
   "nbconvert_exporter": "python",
   "pygments_lexer": "ipython3",
   "version": "3.11.9"
  }
 },
 "nbformat": 4,
 "nbformat_minor": 5
}
