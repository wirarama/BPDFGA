{
 "cells": [
  {
   "cell_type": "code",
   "execution_count": 22,
   "id": "eece9550",
   "metadata": {},
   "outputs": [],
   "source": [
    "class finalproject1(): #studentID-nama.py (1234-wira.py / .ipynb)\n",
    "    __ff1 = \"\"\n",
    "    def __init__(self,namafile):\n",
    "        self.salinfile(namafile)\n",
    "    def salinfile(self,namafile):\n",
    "        f = open(namafile,\"r\")\n",
    "        self.__ff1 += f.read()+\"\\n\"\n",
    "        print(self.__ff1)\n",
    "        f.close()\n",
    "    def tulisfile(self):\n",
    "        f = open(\"ff1.txt\",\"a\")\n",
    "        f.write(self.__ff1)\n",
    "        f.close()"
   ]
  },
  {
   "cell_type": "code",
   "execution_count": 23,
   "id": "b0a60626",
   "metadata": {},
   "outputs": [
    {
     "name": "stdout",
     "output_type": "stream",
     "text": [
      "test123\n",
      "test345\n",
      "test123\n",
      "test345test123\n",
      "test345\n",
      "test123\n",
      "test345test123\n",
      "test345test123\n",
      "test345\n"
     ]
    }
   ],
   "source": [
    "test = finalproject1(\"test.txt\")\n",
    "test.salinfile(\"test.txt\")\n",
    "test.salinfile(\"test.txt\")\n",
    "test.tulisfile()"
   ]
  },
  {
   "cell_type": "code",
   "execution_count": null,
   "id": "25bd7772",
   "metadata": {},
   "outputs": [],
   "source": []
  }
 ],
 "metadata": {
  "kernelspec": {
   "display_name": "Python 3 (ipykernel)",
   "language": "python",
   "name": "python3"
  },
  "language_info": {
   "codemirror_mode": {
    "name": "ipython",
    "version": 3
   },
   "file_extension": ".py",
   "mimetype": "text/x-python",
   "name": "python",
   "nbconvert_exporter": "python",
   "pygments_lexer": "ipython3",
   "version": "3.9.7"
  }
 },
 "nbformat": 4,
 "nbformat_minor": 5
}
