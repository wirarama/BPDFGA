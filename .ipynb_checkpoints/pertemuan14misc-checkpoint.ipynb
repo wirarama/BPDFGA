{
 "cells": [
  {
   "cell_type": "code",
   "execution_count": 1,
   "id": "7a069a69-69d0-47f7-9970-ca7ed074cd18",
   "metadata": {},
   "outputs": [
    {
     "name": "stdout",
     "output_type": "stream",
     "text": [
      "__init__\n",
      "__iter__\n",
      "__next__\n",
      "1\n",
      "__next__\n",
      "1\n",
      "__next__\n",
      "2\n",
      "__next__\n",
      "3\n",
      "__next__\n",
      "5\n",
      "__next__\n",
      "8\n",
      "__next__\n",
      "13\n",
      "__next__\n",
      "21\n",
      "__next__\n",
      "34\n",
      "__next__\n",
      "55\n",
      "__next__\n"
     ]
    }
   ],
   "source": [
    "class Fib:\n",
    "    def __init__(self, nn):\n",
    "        print(\"__init__\")\n",
    "        self.__n = nn\n",
    "        self.__i = 0\n",
    "        self.__p1 = self.__p2 = 1\n",
    "\n",
    "    def __iter__(self):\n",
    "        print(\"__iter__\")\n",
    "        return self\n",
    "\n",
    "    def __next__(self):\n",
    "        print(\"__next__\")\t\t\n",
    "        self.__i += 1\n",
    "        if self.__i > self.__n:\n",
    "            raise StopIteration\n",
    "        if self.__i in [1, 2]:\n",
    "            return 1\n",
    "        ret = self.__p1 + self.__p2\n",
    "        self.__p1, self.__p2 = self.__p2, ret\n",
    "        return ret\n",
    "\n",
    "\n",
    "for i in Fib(10):\n",
    "    print(i)"
   ]
  },
  {
   "cell_type": "code",
   "execution_count": 15,
   "id": "467a6110-745d-49be-8488-99268feded29",
   "metadata": {},
   "outputs": [
    {
     "name": "stdout",
     "output_type": "stream",
     "text": [
      "0\n",
      "1\n",
      "2\n",
      "3\n",
      "4\n",
      "[0, 1, 2, 3, 4, 5, 6, 7]\n"
     ]
    }
   ],
   "source": [
    "def fun(n):\n",
    "    for i in range(n):\n",
    "        yield i\n",
    " \n",
    "for v in fun(5):\n",
    "    print(v)\n",
    "\n",
    "print(list(fun(8)))"
   ]
  },
  {
   "cell_type": "code",
   "execution_count": 11,
   "id": "dbf6a1ac-0a60-40e6-aab3-247aeeccc5cf",
   "metadata": {},
   "outputs": [
    {
     "name": "stdout",
     "output_type": "stream",
     "text": [
      "1\n",
      "2\n",
      "4\n",
      "8\n",
      "16\n",
      "32\n",
      "64\n",
      "128\n"
     ]
    }
   ],
   "source": [
    "def powers_of_2(n):\n",
    "    power = 1\n",
    "    for i in range(n):\n",
    "        yield power\n",
    "        power *= 2\n",
    " \n",
    " \n",
    "for v in powers_of_2(8):\n",
    "    print(v)"
   ]
  },
  {
   "cell_type": "code",
   "execution_count": 13,
   "id": "9eb48281-ea8c-4d4a-98be-3b02a0602267",
   "metadata": {},
   "outputs": [
    {
     "name": "stdout",
     "output_type": "stream",
     "text": [
      "[1, 1, 2, 3, 5, 8, 13, 21, 34, 55]\n"
     ]
    }
   ],
   "source": [
    "def fibonacci(n):\n",
    "    p = pp = 1\n",
    "    for i in range(n):\n",
    "        if i in [0, 1]:\n",
    "            yield 1\n",
    "        else:\n",
    "            n = p + pp\n",
    "            pp, p = p, n\n",
    "            yield n\n",
    " \n",
    "fibs = list(fibonacci(10))\n",
    "print(fibs)"
   ]
  },
  {
   "cell_type": "code",
   "execution_count": 17,
   "id": "b63b245e-e06c-411c-b8f7-c477f503da42",
   "metadata": {},
   "outputs": [
    {
     "data": {
      "text/plain": [
       "[0,\n",
       " 1,\n",
       " 2,\n",
       " 3,\n",
       " 4,\n",
       " 5,\n",
       " 6,\n",
       " 7,\n",
       " 8,\n",
       " 9,\n",
       " 10,\n",
       " 11,\n",
       " 12,\n",
       " 13,\n",
       " 14,\n",
       " 15,\n",
       " 16,\n",
       " 17,\n",
       " 18,\n",
       " 19,\n",
       " 20,\n",
       " 21,\n",
       " 22,\n",
       " 23,\n",
       " 24,\n",
       " 25,\n",
       " 26,\n",
       " 27,\n",
       " 28,\n",
       " 29,\n",
       " 30,\n",
       " 31,\n",
       " 32,\n",
       " 33,\n",
       " 34,\n",
       " 35,\n",
       " 36,\n",
       " 37,\n",
       " 38,\n",
       " 39,\n",
       " 40,\n",
       " 41,\n",
       " 42,\n",
       " 43,\n",
       " 44,\n",
       " 45,\n",
       " 46,\n",
       " 47,\n",
       " 48,\n",
       " 49,\n",
       " 50,\n",
       " 51,\n",
       " 52,\n",
       " 53,\n",
       " 54,\n",
       " 55,\n",
       " 56,\n",
       " 57,\n",
       " 58,\n",
       " 59,\n",
       " 60,\n",
       " 61,\n",
       " 62,\n",
       " 63,\n",
       " 64,\n",
       " 65,\n",
       " 66,\n",
       " 67,\n",
       " 68,\n",
       " 69,\n",
       " 70,\n",
       " 71,\n",
       " 72,\n",
       " 73,\n",
       " 74,\n",
       " 75,\n",
       " 76,\n",
       " 77,\n",
       " 78,\n",
       " 79]"
      ]
     },
     "execution_count": 17,
     "metadata": {},
     "output_type": "execute_result"
    }
   ],
   "source": [
    "listku = [x for x in range(80)]\n",
    "listku"
   ]
  },
  {
   "cell_type": "code",
   "execution_count": 19,
   "id": "f420979a-d4ed-4bb3-a783-7466ebd35b46",
   "metadata": {},
   "outputs": [
    {
     "name": "stdout",
     "output_type": "stream",
     "text": [
      "[1, 0, 1, 0, 1, 0, 1, 0, 1, 0]\n"
     ]
    }
   ],
   "source": [
    "the_list = [1 if x % 2 == 0 else 0 for x in range(10)]\n",
    "\n",
    "print(the_list)"
   ]
  },
  {
   "cell_type": "code",
   "execution_count": 21,
   "id": "335614e2-7cb7-43d0-a3a0-8bfc9d9bd962",
   "metadata": {},
   "outputs": [
    {
     "name": "stdout",
     "output_type": "stream",
     "text": [
      "[1, 2, 4, 8, 16]\n",
      "1 4 16 64 256 \n"
     ]
    }
   ],
   "source": [
    "list_1 = [x for x in range(5)]\n",
    "list_2 = list(map(lambda x: 2 ** x, list_1))\n",
    "print(list_2)\n",
    "\n",
    "for x in map(lambda x: x * x, list_2):\n",
    "    print(x, end=' ')\n",
    "print()"
   ]
  },
  {
   "cell_type": "code",
   "execution_count": 29,
   "id": "b661fba3-e870-4ec8-bbc8-76b43cfc8d5e",
   "metadata": {},
   "outputs": [
    {
     "name": "stdout",
     "output_type": "stream",
     "text": [
      "[-3, -4, -4, 10, -5]\n",
      "[10]\n"
     ]
    }
   ],
   "source": [
    "from random import seed, randint\n",
    "\n",
    "seed()\n",
    "data = [randint(-10,10) for x in range(5)]\n",
    "filtered = list(filter(lambda x: x > 0 and x % 2 == 0, data))\n",
    "\n",
    "print(data)\n",
    "print(filtered)"
   ]
  },
  {
   "cell_type": "code",
   "execution_count": 31,
   "id": "b8d9a564-1a31-4f13-8522-f91cb520b986",
   "metadata": {},
   "outputs": [
    {
     "name": "stdout",
     "output_type": "stream",
     "text": [
      "1\n"
     ]
    }
   ],
   "source": [
    "def outer(par):\n",
    "    loc = par\n",
    "\n",
    "    def inner():\n",
    "        return loc\n",
    "    return inner\n",
    "\n",
    "\n",
    "var = 1\n",
    "fun = outer(var)\n",
    "print(fun())"
   ]
  },
  {
   "cell_type": "code",
   "execution_count": 45,
   "id": "c8154e8b-2339-49f4-a917-a8b61dc5393c",
   "metadata": {},
   "outputs": [],
   "source": [
    "f = open('test.txt','a')\n",
    "for x in range(50):\n",
    "    f.write('baris ke '+str(x+100)+'\\r\\n')\n",
    "f.close()"
   ]
  },
  {
   "cell_type": "code",
   "execution_count": 55,
   "id": "080705e9-8983-41c6-aa69-0bb8ac4b1109",
   "metadata": {},
   "outputs": [
    {
     "name": "stdout",
     "output_type": "stream",
     "text": [
      "baris ke 10\n",
      "\n",
      "baris ke 11\n",
      "\n",
      "baris ke 12\n",
      "\n",
      "baris ke 13\n",
      "\n",
      "baris ke 14\n",
      "\n",
      "baris ke 15\n",
      "\n",
      "baris ke 16\n",
      "\n",
      "baris ke 17\n",
      "\n",
      "baris ke 18\n",
      "\n",
      "baris ke 19\n",
      "\n",
      "baris ke 20\n",
      "\n",
      "baris ke 21\n",
      "\n",
      "baris ke 22\n",
      "\n",
      "baris ke 23\n",
      "\n",
      "baris ke 24\n",
      "\n",
      "baris ke 25\n",
      "\n",
      "baris ke 26\n",
      "\n",
      "baris ke 27\n",
      "\n",
      "baris ke 28\n",
      "\n",
      "baris ke 29\n",
      "\n",
      "baris ke 30\n",
      "\n",
      "baris ke 31\n",
      "\n",
      "baris ke 32\n",
      "\n",
      "baris ke 33\n",
      "\n",
      "baris ke 34\n",
      "\n",
      "baris ke 35\n",
      "\n",
      "baris ke 36\n",
      "\n",
      "baris ke 37\n",
      "\n",
      "baris ke 38\n",
      "\n",
      "baris ke 39\n",
      "\n",
      "baris ke 40\n",
      "\n",
      "baris ke 41\n",
      "\n",
      "baris ke 42\n",
      "\n",
      "baris ke 43\n",
      "\n",
      "baris ke 44\n",
      "\n",
      "baris ke 45\n",
      "\n",
      "baris ke 46\n",
      "\n",
      "baris ke 47\n",
      "\n",
      "baris ke 48\n",
      "\n",
      "baris ke 49\n",
      "\n",
      "baris ke 50\n",
      "\n",
      "baris ke 51\n",
      "\n",
      "baris ke 52\n",
      "\n",
      "baris ke 53\n",
      "\n",
      "baris ke 54\n",
      "\n",
      "baris ke 55\n",
      "\n",
      "baris ke 56\n",
      "\n",
      "baris ke 57\n",
      "\n",
      "baris ke 58\n",
      "\n",
      "baris ke 59\n",
      "\n",
      "baris ke 100\n",
      "\n",
      "baris ke 101\n",
      "\n",
      "baris ke 102\n",
      "\n",
      "baris ke 103\n",
      "\n",
      "baris ke 104\n",
      "\n",
      "baris ke 105\n",
      "\n",
      "baris ke 106\n",
      "\n",
      "baris ke 107\n",
      "\n",
      "baris ke 108\n",
      "\n",
      "baris ke 109\n",
      "\n",
      "baris ke 110\n",
      "\n",
      "baris ke 111\n",
      "\n",
      "baris ke 112\n",
      "\n",
      "baris ke 113\n",
      "\n",
      "baris ke 114\n",
      "\n",
      "baris ke 115\n",
      "\n",
      "baris ke 116\n",
      "\n",
      "baris ke 117\n",
      "\n",
      "baris ke 118\n",
      "\n",
      "baris ke 119\n",
      "\n",
      "baris ke 120\n",
      "\n",
      "baris ke 121\n",
      "\n",
      "baris ke 122\n",
      "\n",
      "baris ke 123\n",
      "\n",
      "baris ke 124\n",
      "\n",
      "baris ke 125\n",
      "\n",
      "baris ke 126\n",
      "\n",
      "baris ke 127\n",
      "\n",
      "baris ke 128\n",
      "\n",
      "baris ke 129\n",
      "\n",
      "baris ke 130\n",
      "\n",
      "baris ke 131\n",
      "\n",
      "baris ke 132\n",
      "\n",
      "baris ke 133\n",
      "\n",
      "baris ke 134\n",
      "\n",
      "baris ke 135\n",
      "\n",
      "baris ke 136\n",
      "\n",
      "baris ke 137\n",
      "\n",
      "baris ke 138\n",
      "\n",
      "baris ke 139\n",
      "\n",
      "baris ke 140\n",
      "\n",
      "baris ke 141\n",
      "\n",
      "baris ke 142\n",
      "\n",
      "baris ke 143\n",
      "\n",
      "baris ke 144\n",
      "\n",
      "baris ke 145\n",
      "\n",
      "baris ke 146\n",
      "\n",
      "baris ke 147\n",
      "\n",
      "baris ke 148\n",
      "\n",
      "baris ke 149\n",
      "\n"
     ]
    }
   ],
   "source": [
    "f = open('test.txt','r')\n",
    "for x in f.readlines():\n",
    "    print(x,end='')\n",
    "f.close()"
   ]
  },
  {
   "cell_type": "code",
   "execution_count": 57,
   "id": "a52a62eb-1966-49bf-86ad-7afba68ac94e",
   "metadata": {},
   "outputs": [
    {
     "name": "stdout",
     "output_type": "stream",
     "text": [
      "baris ke 10\n",
      "\n",
      "baris ke 11\n",
      "\n",
      "baris ke 12\n",
      "\n",
      "baris ke 13\n",
      "\n",
      "baris ke 14\n",
      "\n",
      "baris ke 15\n",
      "\n",
      "baris ke 16\n",
      "\n",
      "baris ke 17\n",
      "\n",
      "baris ke 18\n",
      "\n",
      "baris ke 19\n",
      "\n",
      "baris ke 20\n",
      "\n",
      "baris ke 21\n",
      "\n",
      "baris ke 22\n",
      "\n",
      "baris ke 23\n",
      "\n",
      "baris ke 24\n",
      "\n",
      "baris ke 25\n",
      "\n",
      "baris ke 26\n",
      "\n",
      "baris ke 27\n",
      "\n",
      "baris ke 28\n",
      "\n",
      "baris ke 29\n",
      "\n",
      "baris ke 30\n",
      "\n",
      "baris ke 31\n",
      "\n",
      "baris ke 32\n",
      "\n",
      "baris ke 33\n",
      "\n",
      "baris ke 34\n",
      "\n",
      "baris ke 35\n",
      "\n",
      "baris ke 36\n",
      "\n",
      "baris ke 37\n",
      "\n",
      "baris ke 38\n",
      "\n",
      "baris ke 39\n",
      "\n",
      "baris ke 40\n",
      "\n",
      "baris ke 41\n",
      "\n",
      "baris ke 42\n",
      "\n",
      "baris ke 43\n",
      "\n",
      "baris ke 44\n",
      "\n",
      "baris ke 45\n",
      "\n",
      "baris ke 46\n",
      "\n",
      "baris ke 47\n",
      "\n",
      "baris ke 48\n",
      "\n",
      "baris ke 49\n",
      "\n",
      "baris ke 50\n",
      "\n",
      "baris ke 51\n",
      "\n",
      "baris ke 52\n",
      "\n",
      "baris ke 53\n",
      "\n",
      "baris ke 54\n",
      "\n",
      "baris ke 55\n",
      "\n",
      "baris ke 56\n",
      "\n",
      "baris ke 57\n",
      "\n",
      "baris ke 58\n",
      "\n",
      "baris ke 59\n",
      "\n",
      "baris ke 100\n",
      "\n",
      "baris ke 101\n",
      "\n",
      "baris ke 102\n",
      "\n",
      "baris ke 103\n",
      "\n",
      "baris ke 104\n",
      "\n",
      "baris ke 105\n",
      "\n",
      "baris ke 106\n",
      "\n",
      "baris ke 107\n",
      "\n",
      "baris ke 108\n",
      "\n",
      "baris ke 109\n",
      "\n",
      "baris ke 110\n",
      "\n",
      "baris ke 111\n",
      "\n",
      "baris ke 112\n",
      "\n",
      "baris ke 113\n",
      "\n",
      "baris ke 114\n",
      "\n",
      "baris ke 115\n",
      "\n",
      "baris ke 116\n",
      "\n",
      "baris ke 117\n",
      "\n",
      "baris ke 118\n",
      "\n",
      "baris ke 119\n",
      "\n",
      "baris ke 120\n",
      "\n",
      "baris ke 121\n",
      "\n",
      "baris ke 122\n",
      "\n",
      "baris ke 123\n",
      "\n",
      "baris ke 124\n",
      "\n",
      "baris ke 125\n",
      "\n",
      "baris ke 126\n",
      "\n",
      "baris ke 127\n",
      "\n",
      "baris ke 128\n",
      "\n",
      "baris ke 129\n",
      "\n",
      "baris ke 130\n",
      "\n",
      "baris ke 131\n",
      "\n",
      "baris ke 132\n",
      "\n",
      "baris ke 133\n",
      "\n",
      "baris ke 134\n",
      "\n",
      "baris ke 135\n",
      "\n",
      "baris ke 136\n",
      "\n",
      "baris ke 137\n",
      "\n",
      "baris ke 138\n",
      "\n",
      "baris ke 139\n",
      "\n",
      "baris ke 140\n",
      "\n",
      "baris ke 141\n",
      "\n",
      "baris ke 142\n",
      "\n",
      "baris ke 143\n",
      "\n",
      "baris ke 144\n",
      "\n",
      "baris ke 145\n",
      "\n",
      "baris ke 146\n",
      "\n",
      "baris ke 147\n",
      "\n",
      "baris ke 148\n",
      "\n",
      "baris ke 149\n",
      "\n"
     ]
    }
   ],
   "source": [
    "f = open('test.txt','r+')\n",
    "for x in f.readlines():\n",
    "    if('2' in x):\n",
    "        f.write('ada dua ')\n",
    "    print(x,end='')\n",
    "f.close()"
   ]
  },
  {
   "cell_type": "code",
   "execution_count": 68,
   "id": "1d82484b-fb09-465b-8b8a-06e50087c2ea",
   "metadata": {},
   "outputs": [
    {
     "name": "stdout",
     "output_type": "stream",
     "text": [
      "I/O error occurred:  No such file or directory\n"
     ]
    }
   ],
   "source": [
    "from os import strerror\n",
    "\n",
    "try:\n",
    "    counter = 0\n",
    "    stream = open('text.txt', \"rt\")\n",
    "    content = stream.read()\n",
    "    for char in content:\n",
    "        print(char, end='')\n",
    "        counter += 1\n",
    "    stream.close()\n",
    "    print(\"\\n\\nCharacters in file:\", counter)\n",
    "except IOError as e:\n",
    "    print(\"I/O error occurred: \", strerror(e.errno))"
   ]
  },
  {
   "cell_type": "code",
   "execution_count": 76,
   "id": "961a3b75-2d45-47e6-86eb-8a2f9f97ff13",
   "metadata": {},
   "outputs": [],
   "source": [
    "f = open('text.txt','w')\n",
    "f.write('ini coba\\ndan coba\\nda coba lagi')\n",
    "f.close()"
   ]
  },
  {
   "cell_type": "code",
   "execution_count": 78,
   "id": "dd440266-4d4f-4628-ba91-43c96ba29a48",
   "metadata": {},
   "outputs": [
    {
     "name": "stdout",
     "output_type": "stream",
     "text": [
      "ini coba\n",
      "dan coba\n",
      "da coba lagi\n",
      "\n",
      "Characters in file: 30\n",
      "Lines in file:      3\n"
     ]
    }
   ],
   "source": [
    "from os import strerror\n",
    "\n",
    "try:\n",
    "\tccnt = lcnt = 0\n",
    "\tfor line in open('text.txt', 'rt'):\n",
    "\t\tlcnt += 1\n",
    "\t\tfor ch in line:\n",
    "\t\t\tprint(ch, end='')\n",
    "\t\t\tccnt += 1\n",
    "\tprint(\"\\n\\nCharacters in file:\", ccnt)\n",
    "\tprint(\"Lines in file:     \", lcnt)\n",
    "except IOError as e:\n",
    "\tprint(\"I/O error occurred: \", strerror(e.errno))\n",
    "    "
   ]
  },
  {
   "cell_type": "code",
   "execution_count": 82,
   "id": "2bc401bb-b5fb-4cc1-9d23-0680805ccb25",
   "metadata": {},
   "outputs": [
    {
     "name": "stdout",
     "output_type": "stream",
     "text": [
      "0xa 10\n",
      "0x9 9\n",
      "0x8 8\n",
      "0x7 7\n",
      "0x6 6\n",
      "0x5 5\n",
      "0x4 4\n",
      "0x3 3\n",
      "0x2 2\n",
      "0x1 1\n"
     ]
    }
   ],
   "source": [
    "data = bytearray(10)\n",
    "\n",
    "for i in range(len(data)):\n",
    "    data[i] = 10 - i\n",
    "\n",
    "for b in data:\n",
    "    print(hex(b),end=' ')\n",
    "    print(b)"
   ]
  },
  {
   "cell_type": "code",
   "execution_count": 84,
   "id": "2f4a7759-1b2e-43d4-b391-7f1ca565fac9",
   "metadata": {},
   "outputs": [],
   "source": [
    "from os import strerror\n",
    "\n",
    "data = bytearray(10)\n",
    "\n",
    "for i in range(len(data)):\n",
    "    data[i] = 10 + i\n",
    "\n",
    "try:\n",
    "    bf = open('file.bin', 'wb')\n",
    "    bf.write(data)\n",
    "    bf.close()\n",
    "except IOError as e:\n",
    "    print(\"I/O error occurred:\", strerror(e.errno))\n",
    "\n",
    "# Your code that reads bytes from the stream should go here.\n",
    "    "
   ]
  },
  {
   "cell_type": "code",
   "execution_count": 89,
   "id": "127df77d-436d-4678-81a8-d7681f2785e7",
   "metadata": {},
   "outputs": [
    {
     "name": "stdout",
     "output_type": "stream",
     "text": [
      "0xa 10 0xb 11 0xc 12 0xd 13 0xe 14 0xf 15 0x10 16 0x11 17 0x12 18 0x13 19 "
     ]
    }
   ],
   "source": [
    "from os import strerror\n",
    "\n",
    "data = bytearray(10)\n",
    "\n",
    "try:\n",
    "    binary_file = open('file.bin', 'rb')\n",
    "    binary_file.readinto(data)\n",
    "    binary_file.close()\n",
    "\n",
    "    for b in data:\n",
    "        print(hex(b), end=' ')\n",
    "        print(b, end=' ')\n",
    "except IOError as e:\n",
    "    print(\"I/O error occurred:\", strerror(e.errno))"
   ]
  },
  {
   "cell_type": "code",
   "execution_count": 92,
   "id": "f40db18f-dd92-4f32-9a3e-780822666bd1",
   "metadata": {},
   "outputs": [
    {
     "name": "stdout",
     "output_type": "stream",
     "text": [
      "0xa 0xb 0xc 0xd 0xe 0xf 0x10 0x11 0x12 0x13 "
     ]
    }
   ],
   "source": [
    "from os import strerror\n",
    "\n",
    "try:\n",
    "    binary_file = open('file.bin', 'rb')\n",
    "    data = bytearray(binary_file.read())\n",
    "    binary_file.close()\n",
    "\n",
    "    for b in data:\n",
    "        print(hex(b), end=' ')\n",
    "\n",
    "except IOError as e:\n",
    "    print(\"I/O error occurred:\", strerror(e.errno))"
   ]
  },
  {
   "cell_type": "code",
   "execution_count": 94,
   "id": "7a335b7c-e589-49e5-a565-1d770215ad2c",
   "metadata": {},
   "outputs": [
    {
     "name": "stdin",
     "output_type": "stream",
     "text": [
      "Enter the source file name:  file.bin\n",
      "Enter the destination file name:  file_copy.bin\n"
     ]
    },
    {
     "name": "stdout",
     "output_type": "stream",
     "text": [
      "10 byte(s) succesfully written\n"
     ]
    }
   ],
   "source": [
    "from os import strerror\n",
    "\n",
    "srcname = input(\"Enter the source file name: \")\n",
    "try:\n",
    "    src = open(srcname, 'rb')\n",
    "except IOError as e:\n",
    "    print(\"Cannot open the source file: \", strerror(e.errno))\n",
    "    exit(e.errno)\t\n",
    "\n",
    "dstname = input(\"Enter the destination file name: \")\n",
    "try:\n",
    "    dst = open(dstname, 'wb')\n",
    "except Exception as e:\n",
    "    print(\"Cannot create the destination file: \", strerror(e.errno))\n",
    "    src.close()\n",
    "    exit(e.errno)\t\n",
    "\n",
    "buffer = bytearray(65536)\n",
    "total  = 0\n",
    "try:\n",
    "    readin = src.readinto(buffer)\n",
    "    while readin > 0:\n",
    "        written = dst.write(buffer[:readin])\n",
    "        total += written\n",
    "        readin = src.readinto(buffer)\n",
    "except IOError as e:\n",
    "    print(\"Cannot create the destination file: \", strerror(e.errno))\n",
    "    exit(e.errno)\t\n",
    "    \n",
    "print(total,'byte(s) succesfully written')\n",
    "src.close()\n",
    "dst.close()\n",
    "    "
   ]
  },
  {
   "cell_type": "code",
   "execution_count": 101,
   "id": "0cdf7520-da6f-4d80-b065-809234eda807",
   "metadata": {},
   "outputs": [
    {
     "ename": "TypeError",
     "evalue": "'str' object is not callable",
     "output_type": "error",
     "traceback": [
      "\u001b[1;31m---------------------------------------------------------------------------\u001b[0m",
      "\u001b[1;31mTypeError\u001b[0m                                 Traceback (most recent call last)",
      "Cell \u001b[1;32mIn[101], line 2\u001b[0m\n\u001b[0;32m      1\u001b[0m \u001b[38;5;28;01mimport\u001b[39;00m \u001b[38;5;21;01mos\u001b[39;00m\n\u001b[1;32m----> 2\u001b[0m os\u001b[38;5;241m.\u001b[39mname()\n",
      "\u001b[1;31mTypeError\u001b[0m: 'str' object is not callable"
     ]
    }
   ],
   "source": [
    "import os\n",
    "os.name()"
   ]
  },
  {
   "cell_type": "code",
   "execution_count": 103,
   "id": "017053d5-3ff2-45c4-aa3e-9f7ddcb4ad35",
   "metadata": {},
   "outputs": [
    {
     "name": "stdout",
     "output_type": "stream",
     "text": [
      "['.DS_Store', '.git', '.gitattributes', '.ipynb_checkpoints', 'avocado.csv', 'BasicTutorialDataMining.ipynb', 'decisiontreeclassifier.ipynb', 'ff1.txt', 'file.bin', 'file_copy.bin', 'finalproject1.ipynb', 'finalproject2.ipynb', 'flask', 'greenhouse_gas_inventory_data_data.csv', 'my_first_directory', 'pandasTutorialBigData.ipynb', 'pertemuan06.ipynb', 'pertemuan0910.ipynb', 'pertemuan1112.ipynb', 'pertemuan1314.ipynb', 'pertemuan14misc.ipynb', 'pertemuan14tkinter.ipynb', 'pertemuan18pandas.ipynb', 'pygametest.py', 'PysparkDecisionTreeNYC.ipynb', 'PysparkDecisionTreeRegression.ipynb', 'pysparkDiscretization.ipynb', 'pysparktext.ipynb', 'pysparkTutorial.ipynb', 'script', 'SeabornTutorial.ipynb', 'test.rxr', 'test.txt', 'text.csv', 'text.txt', 'tkinter1.py', 'visualisasi.ipynb']\n"
     ]
    }
   ],
   "source": [
    "import os\n",
    "\n",
    "os.mkdir(\"my_first_directory\")\n",
    "print(os.listdir())"
   ]
  },
  {
   "cell_type": "code",
   "execution_count": 105,
   "id": "211c580f-f520-4ed6-a74d-47bf97f47b1d",
   "metadata": {},
   "outputs": [
    {
     "name": "stdout",
     "output_type": "stream",
     "text": [
      "['my_second_directory']\n"
     ]
    }
   ],
   "source": [
    "import os\n",
    "\n",
    "os.makedirs(\"my_first_directory/my_second_directory\")\n",
    "os.chdir(\"my_first_directory\")\n",
    "print(os.listdir())"
   ]
  },
  {
   "cell_type": "code",
   "execution_count": 119,
   "id": "ccdc9d2c-2dbc-43e5-8b5b-16f93e339e20",
   "metadata": {},
   "outputs": [
    {
     "ename": "FileExistsError",
     "evalue": "[WinError 183] Cannot create a file when that file already exists: 'my_first_directory/my_second_directory'",
     "output_type": "error",
     "traceback": [
      "\u001b[1;31m---------------------------------------------------------------------------\u001b[0m",
      "\u001b[1;31mFileExistsError\u001b[0m                           Traceback (most recent call last)",
      "Cell \u001b[1;32mIn[119], line 3\u001b[0m\n\u001b[0;32m      1\u001b[0m \u001b[38;5;28;01mimport\u001b[39;00m \u001b[38;5;21;01mos\u001b[39;00m\n\u001b[1;32m----> 3\u001b[0m os\u001b[38;5;241m.\u001b[39mmakedirs(\u001b[38;5;124m\"\u001b[39m\u001b[38;5;124mmy_first_directory/my_second_directory\u001b[39m\u001b[38;5;124m\"\u001b[39m)\n\u001b[0;32m      4\u001b[0m os\u001b[38;5;241m.\u001b[39mchdir(\u001b[38;5;124m\"\u001b[39m\u001b[38;5;124mmy_first_directory\u001b[39m\u001b[38;5;124m\"\u001b[39m)\n\u001b[0;32m      5\u001b[0m \u001b[38;5;28mprint\u001b[39m(os\u001b[38;5;241m.\u001b[39mgetcwd())\n",
      "File \u001b[1;32m<frozen os>:225\u001b[0m, in \u001b[0;36mmakedirs\u001b[1;34m(name, mode, exist_ok)\u001b[0m\n",
      "\u001b[1;31mFileExistsError\u001b[0m: [WinError 183] Cannot create a file when that file already exists: 'my_first_directory/my_second_directory'"
     ]
    }
   ],
   "source": [
    "import os\n",
    "\n",
    "#os.makedirs(\"my_first_directory/my_second_directory\")\n",
    "os.chdir(\"my_first_directory\")\n",
    "print(os.getcwd())\n",
    "os.chdir(\"my_second_directory\")\n",
    "print(os.getcwd())"
   ]
  },
  {
   "cell_type": "code",
   "execution_count": 125,
   "id": "410a24e9-adcb-4546-ac5b-3add101d583c",
   "metadata": {},
   "outputs": [
    {
     "name": "stdout",
     "output_type": "stream",
     "text": [
      "[]\n"
     ]
    }
   ],
   "source": [
    "os.rmdir(\"my_first_directory\")\n",
    "print(os.listdir())"
   ]
  },
  {
   "cell_type": "code",
   "execution_count": 127,
   "id": "aed416c5-b305-47e9-be7a-8b9f570270f8",
   "metadata": {},
   "outputs": [],
   "source": [
    "os.makedirs(\"my_first_directory/my_second_directory\")\n",
    "os.removedirs(\"my_first_directory/my_second_directory\")"
   ]
  },
  {
   "cell_type": "code",
   "execution_count": 131,
   "id": "a8ef09b9-8f1f-40f1-9506-9f6f2a21d5be",
   "metadata": {},
   "outputs": [
    {
     "name": "stdout",
     "output_type": "stream",
     "text": [
      "0\n"
     ]
    }
   ],
   "source": [
    "returned_value = os.system(\"python --version\")\n",
    "print(returned_value)"
   ]
  },
  {
   "cell_type": "code",
   "execution_count": 133,
   "id": "cb68ef98-f213-4963-bb49-d3ad98b5f999",
   "metadata": {},
   "outputs": [
    {
     "name": "stdout",
     "output_type": "stream",
     "text": [
      "Today: 2024-07-19\n",
      "Year: 2024\n",
      "Month: 7\n",
      "Day: 19\n"
     ]
    }
   ],
   "source": [
    "from datetime import date\n",
    "\n",
    "today = date.today()\n",
    "\n",
    "print(\"Today:\", today)\n",
    "print(\"Year:\", today.year)\n",
    "print(\"Month:\", today.month)\n",
    "print(\"Day:\", today.day)"
   ]
  },
  {
   "cell_type": "code",
   "execution_count": 145,
   "id": "dac20fa2-6556-4f95-a02e-fb5d62c2bc72",
   "metadata": {},
   "outputs": [
    {
     "name": "stdout",
     "output_type": "stream",
     "text": [
      "33 days, 0:00:00\n"
     ]
    }
   ],
   "source": [
    "from datetime import date\n",
    "\n",
    "my_date = date(2019, 11, 4)\n",
    "my_date2 = date(2019, 12, 7)\n",
    "print(my_date2-my_date)"
   ]
  },
  {
   "cell_type": "code",
   "execution_count": 147,
   "id": "b73cfd81-f294-4cc9-b54d-a377d648451f",
   "metadata": {},
   "outputs": [
    {
     "name": "stdout",
     "output_type": "stream",
     "text": [
      "Timestamp: 1721356064.5671515\n",
      "Date: 2024-07-19\n"
     ]
    }
   ],
   "source": [
    "from datetime import date\n",
    "import time\n",
    "\n",
    "timestamp = time.time()\n",
    "print(\"Timestamp:\", timestamp)\n",
    "\n",
    "d = date.fromtimestamp(timestamp)\n",
    "print(\"Date:\", d)"
   ]
  },
  {
   "cell_type": "code",
   "execution_count": 149,
   "id": "baf0ffa0-17f1-40c6-aee7-decaca5bfb69",
   "metadata": {},
   "outputs": [
    {
     "name": "stdout",
     "output_type": "stream",
     "text": [
      "1991-02-05\n",
      "1992-01-16\n"
     ]
    }
   ],
   "source": [
    "d = date(1991, 2, 5)\n",
    "print(d)\n",
    "\n",
    "d = d.replace(year=1992, month=1, day=16)\n",
    "print(d)"
   ]
  },
  {
   "cell_type": "code",
   "execution_count": 153,
   "id": "73cc04c0-f193-4114-8732-7669af8387f8",
   "metadata": {},
   "outputs": [
    {
     "name": "stdout",
     "output_type": "stream",
     "text": [
      "4\n"
     ]
    }
   ],
   "source": [
    "d = date(2019, 11, 4)\n",
    "print(d.weekday())"
   ]
  },
  {
   "cell_type": "code",
   "execution_count": 179,
   "id": "508f3014-1f53-4a01-b5d6-02c0c05ee8f9",
   "metadata": {},
   "outputs": [
    {
     "name": "stdout",
     "output_type": "stream",
     "text": [
      "Time: 10:37:33.499519\n",
      "Hour: 10\n",
      "Minute: 37\n",
      "Second: 33\n",
      "Microsecond: 499519\n",
      "2024/07/19 10:37:33\n"
     ]
    }
   ],
   "source": [
    "from datetime import datetime,time\n",
    "now = datetime.now()\n",
    "t = now.time()\n",
    "\n",
    "print(\"Time:\", t)\n",
    "print(\"Hour:\", t.hour)\n",
    "print(\"Minute:\", t.minute)\n",
    "print(\"Second:\", t.second)\n",
    "print(\"Microsecond:\", t.microsecond)\n",
    "\n",
    "print(now.strftime(\"%Y/%m/%d %H:%M:%S\"))"
   ]
  },
  {
   "cell_type": "code",
   "execution_count": null,
   "id": "43125e6e-cc6d-499c-9f7a-a340532e39ef",
   "metadata": {},
   "outputs": [],
   "source": []
  }
 ],
 "metadata": {
  "kernelspec": {
   "display_name": "Python 3 (ipykernel)",
   "language": "python",
   "name": "python3"
  },
  "language_info": {
   "codemirror_mode": {
    "name": "ipython",
    "version": 3
   },
   "file_extension": ".py",
   "mimetype": "text/x-python",
   "name": "python",
   "nbconvert_exporter": "python",
   "pygments_lexer": "ipython3",
   "version": "3.11.9"
  }
 },
 "nbformat": 4,
 "nbformat_minor": 5
}
