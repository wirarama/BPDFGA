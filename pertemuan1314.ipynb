{
 "cells": [
  {
   "cell_type": "code",
   "execution_count": 7,
   "id": "010051cf",
   "metadata": {},
   "outputs": [],
   "source": [
    "class TheSimplestClass:\n",
    "    a = 56\n",
    "    b = 43\n",
    "    def jumlahken(self):\n",
    "        return self.a+self.b"
   ]
  },
  {
   "cell_type": "code",
   "execution_count": 1,
   "id": "3cc21665-5fad-4925-92bf-b27e14b85791",
   "metadata": {},
   "outputs": [],
   "source": [
    "def fungsi(a,b):\n",
    "    return a+b"
   ]
  },
  {
   "cell_type": "code",
   "execution_count": 3,
   "id": "e7ae2cf6-c120-441c-ae72-7412b82ebd49",
   "metadata": {},
   "outputs": [
    {
     "data": {
      "text/plain": [
       "112"
      ]
     },
     "execution_count": 3,
     "metadata": {},
     "output_type": "execute_result"
    }
   ],
   "source": [
    "a = 34\n",
    "b = 78\n",
    "fungsi(a,b)"
   ]
  },
  {
   "cell_type": "code",
   "execution_count": 9,
   "id": "b283885e",
   "metadata": {},
   "outputs": [
    {
     "name": "stdout",
     "output_type": "stream",
     "text": [
      "99\n",
      "98\n",
      "141\n"
     ]
    }
   ],
   "source": [
    "my_first_object = TheSimplestClass()\n",
    "print(my_first_object.jumlahken())\n",
    "my_first_object.a = 98\n",
    "print(my_first_object.a)\n",
    "print(my_first_object.jumlahken())"
   ]
  },
  {
   "cell_type": "code",
   "execution_count": null,
   "id": "3e58ad4f-d84c-4ed1-8161-669f787e4477",
   "metadata": {},
   "outputs": [],
   "source": []
  },
  {
   "cell_type": "code",
   "execution_count": 15,
   "id": "9d41e6cc",
   "metadata": {},
   "outputs": [
    {
     "name": "stdout",
     "output_type": "stream",
     "text": [
      "[3, 2, 1]\n",
      "1\n",
      "2\n",
      "3\n"
     ]
    }
   ],
   "source": [
    "stack = []\n",
    "def push(val):\n",
    "    stack.append(val)\n",
    "def pop():\n",
    "    val = stack[-1]\n",
    "    del stack[-1]\n",
    "    return val\n",
    "push(3)\n",
    "push(2)\n",
    "push(1)\n",
    "print(stack)\n",
    "print(pop())\n",
    "print(pop())\n",
    "print(pop())"
   ]
  },
  {
   "cell_type": "code",
   "execution_count": 23,
   "id": "b09f9274",
   "metadata": {},
   "outputs": [
    {
     "name": "stdout",
     "output_type": "stream",
     "text": [
      "Selamat pagi! wira\n",
      "Selamat pagi! wira\n",
      "wira\n"
     ]
    }
   ],
   "source": [
    "class Stack:  # Defining the Stack class.\n",
    "    nama = \"orang lain\"\n",
    "    def __init__(self,nama):  # Defining the constructor function.\n",
    "        print(\"Selamat pagi!\",nama)\n",
    "        self.nama = nama\n",
    "        print(\"Selamat pagi!\",self.nama)\n",
    "    def fungsilain(self):\n",
    "        print(self.nama)\n",
    "\n",
    "stack_object = Stack(\"wira\")  # Instantiating the object.\n",
    "stack_object.fungsilain()"
   ]
  },
  {
   "cell_type": "code",
   "execution_count": 25,
   "id": "4a73c1d5",
   "metadata": {},
   "outputs": [
    {
     "name": "stdout",
     "output_type": "stream",
     "text": [
      "0\n"
     ]
    }
   ],
   "source": [
    "class Stack:\n",
    "    def __init__(self):\n",
    "        self.stack_list = []\n",
    "\n",
    "\n",
    "stack_object = Stack()\n",
    "print(len(stack_object.stack_list))"
   ]
  },
  {
   "cell_type": "code",
   "execution_count": 29,
   "id": "eb7192cb",
   "metadata": {},
   "outputs": [
    {
     "name": "stdout",
     "output_type": "stream",
     "text": [
      "2\n",
      "[3, 2]\n"
     ]
    }
   ],
   "source": [
    "class Stack:\n",
    "    def __init__(self):\n",
    "        self.__stack_list = []\n",
    "    def setstack(self,val):\n",
    "        self.__stack_list.append(val)\n",
    "    def getstack(self):\n",
    "        return self.__stack_list\n",
    "\n",
    "stack_object = Stack()\n",
    "stack_object.setstack(3)\n",
    "stack_object.setstack(2)\n",
    "print(len(stack_object.getstack()))\n",
    "print(stack_object.getstack())"
   ]
  },
  {
   "cell_type": "code",
   "execution_count": 35,
   "id": "fe511d3f",
   "metadata": {},
   "outputs": [
    {
     "name": "stdout",
     "output_type": "stream",
     "text": [
      "1\n",
      "2\n",
      "3\n"
     ]
    }
   ],
   "source": [
    "class Stack:\n",
    "    def __init__(self):\n",
    "        self.__stack_list = []\n",
    "    def push(self, val):\n",
    "        self.__stack_list.append(val)\n",
    "    def pop(self):\n",
    "        val = self.__stack_list[-1]\n",
    "        del self.__stack_list[-1]\n",
    "        return val\n",
    "\n",
    "\n",
    "stack_object = Stack()\n",
    "\n",
    "stack_object.push(3)\n",
    "stack_object.push(2)\n",
    "stack_object.push(1)\n",
    "\n",
    "print(stack_object.pop())\n",
    "print(stack_object.pop())\n",
    "print(stack_object.pop())"
   ]
  },
  {
   "cell_type": "code",
   "execution_count": 43,
   "id": "ff378ebf",
   "metadata": {},
   "outputs": [
    {
     "name": "stdout",
     "output_type": "stream",
     "text": [
      "4\n",
      "3\n",
      "dah habis\n",
      "dah habis\n"
     ]
    }
   ],
   "source": [
    "class Stack:\n",
    "    def __init__(self):\n",
    "        self.__stack_list = []\n",
    "\n",
    "    def push(self, val):\n",
    "        self.__stack_list.append(val)\n",
    "\n",
    "    def pop(self):\n",
    "        try:\n",
    "            val = self.__stack_list[-1]\n",
    "            del self.__stack_list[-1]\n",
    "            return val\n",
    "        except:\n",
    "            return \"dah habis\"\n",
    "\n",
    "\n",
    "stack_object_1 = Stack()\n",
    "stack_object_2 = Stack()\n",
    "\n",
    "stack_object_1.push(3)\n",
    "stack_object_2.push(stack_object_1.pop())\n",
    "stack_object_2.push(4)\n",
    "print(stack_object_2.pop())\n",
    "print(stack_object_2.pop())\n",
    "print(stack_object_2.pop())\n",
    "print(stack_object_1.pop())"
   ]
  },
  {
   "cell_type": "code",
   "execution_count": 9,
   "id": "6ec6e0ee",
   "metadata": {},
   "outputs": [
    {
     "name": "stdout",
     "output_type": "stream",
     "text": [
      "0\n"
     ]
    }
   ],
   "source": [
    "class Stack:\n",
    "    def __init__(self):\n",
    "        self.__stack_list = []\n",
    "\n",
    "    def push(self, val):\n",
    "        self.__stack_list.append(val)\n",
    "\n",
    "    def pop(self):\n",
    "        val = self.__stack_list[-1]\n",
    "        del self.__stack_list[-1]\n",
    "        return val\n",
    "\n",
    "\n",
    "little_stack = Stack()\n",
    "another_stack = Stack()\n",
    "funny_stack = Stack()\n",
    "\n",
    "little_stack.push(1)\n",
    "another_stack.push(little_stack.pop() + 1)\n",
    "funny_stack.push(another_stack.pop() - 2)\n",
    "\n",
    "print(funny_stack.pop())\n",
    "\n"
   ]
  },
  {
   "cell_type": "code",
   "execution_count": 45,
   "id": "9d7e64ef",
   "metadata": {},
   "outputs": [],
   "source": [
    "class Stack:\n",
    "    def __init__(self):\n",
    "        self.__stack_list = []\n",
    "\n",
    "    def push(self, val):\n",
    "        self.__stack_list.append(val)\n",
    "\n",
    "    def pop(self):\n",
    "        val = self.__stack_list[-1]\n",
    "        del self.__stack_list[-1]\n",
    "        return val\n",
    "\n",
    "\n",
    "class AddingStack(Stack):\n",
    "    def __init__(self):\n",
    "        Stack.__init__(self)\n",
    "        self.__sum = 0\n"
   ]
  },
  {
   "cell_type": "code",
   "execution_count": 49,
   "id": "f7f5a448",
   "metadata": {},
   "outputs": [
    {
     "name": "stdout",
     "output_type": "stream",
     "text": [
      "10\n",
      "4\n",
      "6\n",
      "3\n",
      "3\n",
      "2\n",
      "1\n",
      "1\n",
      "0\n",
      "0\n",
      "0\n"
     ]
    }
   ],
   "source": [
    "class Stack:\n",
    "    def __init__(self):\n",
    "        self.__stack_list = []\n",
    "\n",
    "    def push(self, val):\n",
    "        self.__stack_list.append(val)\n",
    "\n",
    "    def pop(self):\n",
    "        val = self.__stack_list[-1]\n",
    "        del self.__stack_list[-1]\n",
    "        return val\n",
    "\n",
    "\n",
    "class AddingStack(Stack):\n",
    "    def __init__(self):\n",
    "        Stack.__init__(self)\n",
    "        self.__sum = 0\n",
    "\n",
    "    def get_sum(self):\n",
    "        return self.__sum\n",
    "\n",
    "    def push(self, val):\n",
    "        self.__sum += val\n",
    "        Stack.push(self, val)\n",
    "\n",
    "    def pop(self):\n",
    "        val = Stack.pop(self)\n",
    "        self.__sum -= val\n",
    "        return val\n",
    "\n",
    "\n",
    "stack_object = AddingStack()\n",
    "\n",
    "for i in range(5):\n",
    "    stack_object.push(i)\n",
    "print(stack_object.get_sum())\n",
    "\n",
    "for i in range(5):\n",
    "    print(stack_object.pop())\n",
    "    print(stack_object.get_sum())"
   ]
  },
  {
   "cell_type": "code",
   "execution_count": 53,
   "id": "17e04213",
   "metadata": {},
   "outputs": [
    {
     "name": "stdout",
     "output_type": "stream",
     "text": [
      "0\n",
      "1\n",
      "2\n",
      "3\n",
      "4\n",
      "5\n",
      "6\n",
      "7\n",
      "8\n",
      "9\n",
      "10\n",
      "11\n",
      "12\n",
      "13\n",
      "14\n",
      "15\n",
      "16\n",
      "17\n",
      "18\n",
      "19\n",
      "20\n",
      "21\n",
      "22\n",
      "23\n",
      "24\n",
      "25\n",
      "26\n",
      "27\n",
      "28\n",
      "29\n",
      "30\n",
      "31\n",
      "32\n",
      "33\n",
      "34\n",
      "35\n",
      "36\n",
      "37\n",
      "38\n",
      "39\n",
      "40\n",
      "41\n",
      "42\n",
      "43\n",
      "44\n",
      "45\n",
      "46\n",
      "47\n",
      "48\n",
      "49\n",
      "50\n",
      "51\n",
      "52\n",
      "53\n",
      "54\n",
      "55\n",
      "56\n",
      "57\n",
      "58\n",
      "59\n",
      "60\n",
      "61\n",
      "62\n",
      "63\n",
      "64\n",
      "65\n",
      "66\n",
      "67\n",
      "68\n",
      "69\n",
      "70\n",
      "71\n",
      "72\n",
      "73\n",
      "74\n",
      "75\n",
      "76\n",
      "77\n",
      "78\n",
      "79\n",
      "80\n",
      "81\n",
      "82\n",
      "83\n",
      "84\n",
      "85\n",
      "86\n",
      "87\n",
      "88\n",
      "89\n",
      "90\n",
      "91\n",
      "92\n",
      "93\n",
      "94\n",
      "95\n",
      "96\n",
      "97\n",
      "98\n",
      "99\n",
      "0\n",
      "False\n",
      "False\n"
     ]
    }
   ],
   "source": [
    "class Stack:\n",
    "    def __init__(self):\n",
    "        self.__stk = []\n",
    "\n",
    "    def push(self, val):\n",
    "        self.__stk.append(val)\n",
    "\n",
    "    def pop(self):\n",
    "        val = self.__stk[-1]\n",
    "        del self.__stk[-1]\n",
    "        return val\n",
    "\n",
    "\n",
    "class CountingStack(Stack):\n",
    "    def __init__(self):\n",
    "        Stack.__init__(self)\n",
    "        self.__counter = 0\n",
    "\n",
    "    def get_counter(self):\n",
    "        return self.__counter\n",
    "\n",
    "    def push(self, val):\n",
    "        self.__counter += 1\n",
    "        Stack.push(self, val)\n",
    "\n",
    "    def pop(self):\n",
    "        val = Stack.pop(self)\n",
    "        self.__counter -= 1\n",
    "        return val\n",
    "\t\n",
    "\n",
    "stk = CountingStack()\n",
    "for i in range(100):\n",
    "    stk.push(i)\n",
    "    print(stk.pop())\n",
    "print(stk.get_counter())\n",
    "print(hasattr(Stack, '__counter'))\n",
    "print(hasattr(stk, '__counter'))"
   ]
  },
  {
   "cell_type": "code",
   "execution_count": 61,
   "id": "45a3a301",
   "metadata": {},
   "outputs": [
    {
     "name": "stdout",
     "output_type": "stream",
     "text": [
      "antrian error\n",
      "1\n",
      "dog\n",
      "False\n",
      "None\n"
     ]
    }
   ],
   "source": [
    "class QueueError(IndexError):\n",
    "    print(\"antrian error\")\n",
    "\n",
    "class Queue:\n",
    "    def __init__(self):\n",
    "        self.queue = []\n",
    "    def put(self,elem):\n",
    "        self.queue.insert(0,elem)\n",
    "    def get(self):\n",
    "        if len(self.queue) > 0:\n",
    "            elem = self.queue[-1]\n",
    "            del self.queue[-1]\n",
    "            return elem\n",
    "        else:\n",
    "            raise QueueError\n",
    "\n",
    "que = Queue()\n",
    "que.put(1)\n",
    "que.put(\"dog\")\n",
    "que.put(False)\n",
    "try:\n",
    "    for i in range(4):\n",
    "        print(que.get())\n",
    "except:\n",
    "    print(\"Queue error\")\n"
   ]
  },
  {
   "cell_type": "code",
   "execution_count": 69,
   "id": "4534ee3c",
   "metadata": {},
   "outputs": [
    {
     "name": "stdout",
     "output_type": "stream",
     "text": [
      "{'first': 1}\n",
      "{'first': 2, 'second': 3, '_ExampleClass__second': 3}\n",
      "3\n",
      "{'first': 4, 'third': 5}\n",
      "4\n",
      "4\n"
     ]
    }
   ],
   "source": [
    "class ExampleClass:\n",
    "    def __init__(self, val = 1):\n",
    "        self.first = val\n",
    "\n",
    "    def set_second(self, val):\n",
    "        self.second = val\n",
    "        self.__second = val\n",
    "\n",
    "\n",
    "example_object_1 = ExampleClass()\n",
    "example_object_2 = ExampleClass(2)\n",
    "\n",
    "example_object_2.set_second(3)\n",
    "\n",
    "example_object_3 = ExampleClass(4)\n",
    "example_object_3.third = 5\n",
    "\n",
    "print(example_object_1.__dict__)\n",
    "print(example_object_2.__dict__)\n",
    "print(example_object_2.__dict__['_ExampleClass__second'])\n",
    "print(example_object_3.__dict__)\n",
    "print(example_object_3.first)\n",
    "print(example_object_3.__dict__['first'])"
   ]
  },
  {
   "cell_type": "code",
   "execution_count": 43,
   "id": "fc4637a7",
   "metadata": {},
   "outputs": [
    {
     "name": "stdout",
     "output_type": "stream",
     "text": [
      "{'_ExampleClass__first': 1} 3\n",
      "{'_ExampleClass__first': 2} 3\n",
      "{'_ExampleClass__first': 4} 3\n"
     ]
    }
   ],
   "source": [
    "class ExampleClass:\n",
    "    counter = 0\n",
    "    def __init__(self, val = 1):\n",
    "        self.__first = val\n",
    "        ExampleClass.counter += 1\n",
    "\n",
    "\n",
    "example_object_1 = ExampleClass()\n",
    "example_object_2 = ExampleClass(2)\n",
    "example_object_3 = ExampleClass(4)\n",
    "\n",
    "print(example_object_1.__dict__, example_object_1.counter)\n",
    "print(example_object_2.__dict__, example_object_2.counter)\n",
    "print(example_object_3.__dict__, example_object_3.counter)"
   ]
  },
  {
   "cell_type": "code",
   "execution_count": 71,
   "id": "69d9be83",
   "metadata": {},
   "outputs": [
    {
     "name": "stdout",
     "output_type": "stream",
     "text": [
      "{'_ExampleClass__first': 1} 7\n",
      "{'_ExampleClass__first': 2} 7\n",
      "{'_ExampleClass__first': 4} 7\n"
     ]
    }
   ],
   "source": [
    "class ExampleClass:\n",
    "    __counter = 0\n",
    "    def __init__(self, val = 1):\n",
    "        self.__first = val\n",
    "        ExampleClass.__counter += (val)\n",
    "\n",
    "\n",
    "example_object_1 = ExampleClass()\n",
    "example_object_2 = ExampleClass(2)\n",
    "example_object_3 = ExampleClass(4)\n",
    "\n",
    "print(example_object_1.__dict__, example_object_1._ExampleClass__counter)\n",
    "print(example_object_2.__dict__, example_object_2._ExampleClass__counter)\n",
    "print(example_object_3.__dict__, example_object_3._ExampleClass__counter)"
   ]
  },
  {
   "cell_type": "code",
   "execution_count": 46,
   "id": "2213a039",
   "metadata": {},
   "outputs": [
    {
     "name": "stdout",
     "output_type": "stream",
     "text": [
      "{'__module__': '__main__', 'varia': 1, '__init__': <function ExampleClass.__init__ at 0x7fee19e34ee0>, '__dict__': <attribute '__dict__' of 'ExampleClass' objects>, '__weakref__': <attribute '__weakref__' of 'ExampleClass' objects>, '__doc__': None}\n",
      "{'__module__': '__main__', 'varia': 2, '__init__': <function ExampleClass.__init__ at 0x7fee19e34ee0>, '__dict__': <attribute '__dict__' of 'ExampleClass' objects>, '__weakref__': <attribute '__weakref__' of 'ExampleClass' objects>, '__doc__': None}\n",
      "{'varia': 2}\n"
     ]
    }
   ],
   "source": [
    "class ExampleClass:\n",
    "    varia = 1\n",
    "    def __init__(self, val):\n",
    "        ExampleClass.varia = val\n",
    "        self.varia = val\n",
    "\n",
    "\n",
    "print(ExampleClass.__dict__)\n",
    "example_object = ExampleClass(2)\n",
    "\n",
    "print(ExampleClass.__dict__)\n",
    "print(example_object.__dict__)"
   ]
  },
  {
   "cell_type": "code",
   "execution_count": 79,
   "id": "b210d347",
   "metadata": {},
   "outputs": [
    {
     "name": "stdout",
     "output_type": "stream",
     "text": [
      "0\n",
      "1\n"
     ]
    }
   ],
   "source": [
    "class ExampleClass:\n",
    "    a = 0\n",
    "    b = 0\n",
    "    def __init__(self, val):\n",
    "        if val % 2 != 0:\n",
    "            self.a = 1\n",
    "        else:\n",
    "            self.b = 1\n",
    "\n",
    "example_object = ExampleClass(4)\n",
    "\n",
    "print(example_object.a)\n",
    "print(example_object.b)"
   ]
  },
  {
   "cell_type": "code",
   "execution_count": 50,
   "id": "2e1c2ce4",
   "metadata": {},
   "outputs": [
    {
     "name": "stdout",
     "output_type": "stream",
     "text": [
      "1\n",
      "b nya kosong\n"
     ]
    }
   ],
   "source": [
    "class ExampleClass:\n",
    "    def __init__(self, val):\n",
    "        if val % 2 != 0:\n",
    "            self.a = 1\n",
    "        else:\n",
    "            self.b = 1\n",
    "\n",
    "\n",
    "example_object = ExampleClass(1)\n",
    "print(example_object.a)\n",
    "\n",
    "try:\n",
    "    print(example_object.b)\n",
    "except AttributeError:\n",
    "    print(\"b nya kosong\")"
   ]
  },
  {
   "cell_type": "code",
   "execution_count": 51,
   "id": "045e4d22",
   "metadata": {},
   "outputs": [
    {
     "name": "stdout",
     "output_type": "stream",
     "text": [
      "True\n",
      "False\n"
     ]
    }
   ],
   "source": [
    "class ExampleClass:\n",
    "    attr = 1\n",
    "\n",
    "\n",
    "print(hasattr(ExampleClass, 'attr'))\n",
    "print(hasattr(ExampleClass, 'prop'))"
   ]
  },
  {
   "cell_type": "code",
   "execution_count": 57,
   "id": "9ceee694",
   "metadata": {},
   "outputs": [
    {
     "name": "stdout",
     "output_type": "stream",
     "text": [
      "method\n"
     ]
    }
   ],
   "source": [
    "class Classy:\n",
    "    def method(self):\n",
    "        print(\"method\")\n",
    "\n",
    "\n",
    "obj = Classy()\n",
    "obj.method()"
   ]
  },
  {
   "cell_type": "code",
   "execution_count": 85,
   "id": "b05c8b57",
   "metadata": {},
   "outputs": [
    {
     "name": "stdout",
     "output_type": "stream",
     "text": [
      "2 3\n"
     ]
    }
   ],
   "source": [
    "class Classy:\n",
    "    varia = 2\n",
    "    var = 8\n",
    "    def method(self):\n",
    "        print(self.varia, self.var)\n",
    "\n",
    "\n",
    "obj = Classy()\n",
    "obj.var = 3\n",
    "obj.method()"
   ]
  },
  {
   "cell_type": "code",
   "execution_count": 91,
   "id": "673d6df3",
   "metadata": {},
   "outputs": [
    {
     "name": "stdout",
     "output_type": "stream",
     "text": [
      "object\n"
     ]
    }
   ],
   "source": [
    "class Classy:\n",
    "    def __init__(self, value):\n",
    "        self.var = value\n",
    "\n",
    "\n",
    "obj_1 = Classy(\"object\")\n",
    "\n",
    "print(obj_1.var)"
   ]
  },
  {
   "cell_type": "code",
   "execution_count": 1,
   "id": "ba515caf",
   "metadata": {},
   "outputs": [
    {
     "name": "stdout",
     "output_type": "stream",
     "text": [
      "object\n",
      "<class 'NoneType'>\n"
     ]
    }
   ],
   "source": [
    "class Classy:\n",
    "    def __init__(self, value = None):\n",
    "        self.var = value\n",
    "\n",
    "\n",
    "obj_1 = Classy(\"object\")\n",
    "obj_2 = Classy()\n",
    "\n",
    "print(obj_1.var)\n",
    "print(type(obj_2.var))\n"
   ]
  },
  {
   "cell_type": "code",
   "execution_count": 26,
   "id": "54431689",
   "metadata": {},
   "outputs": [
    {
     "name": "stdout",
     "output_type": "stream",
     "text": [
      "{'var': 2}\n",
      "{'__module__': '__main__', 'varia': 1, '__init__': <function Classy.__init__ at 0x7f9c44bfb550>, 'method': <function Classy.method at 0x7f9c44bfb9d0>, '_Classy__hidden': <function Classy.__hidden at 0x7f9c44bfbf70>, '__dict__': <attribute '__dict__' of 'Classy' objects>, '__weakref__': <attribute '__weakref__' of 'Classy' objects>, '__doc__': None}\n"
     ]
    }
   ],
   "source": [
    "class Classy:\n",
    "    varia = 1\n",
    "    def __init__(self):\n",
    "        self.var = 2\n",
    "\n",
    "    def method(self):\n",
    "        pass\n",
    "\n",
    "    def __hidden(self):\n",
    "        pass\n",
    "\n",
    "\n",
    "obj = Classy()\n",
    "\n",
    "print(obj.__dict__)\n",
    "print(Classy.__dict__)"
   ]
  },
  {
   "cell_type": "code",
   "execution_count": 65,
   "id": "2d114146",
   "metadata": {},
   "outputs": [
    {
     "name": "stdout",
     "output_type": "stream",
     "text": [
      "Classy\n",
      "Classy\n",
      "<class '__main__.Classy'>\n",
      "<class 'int'>\n"
     ]
    }
   ],
   "source": [
    "class Classy:\n",
    "    pass\n",
    "\n",
    "\n",
    "print(Classy.__name__)\n",
    "obj = Classy()\n",
    "print(type(obj).__name__)\n",
    "print(type(obj))\n",
    "print(type(1))"
   ]
  },
  {
   "cell_type": "code",
   "execution_count": 93,
   "id": "57fbda89",
   "metadata": {},
   "outputs": [
    {
     "name": "stdout",
     "output_type": "stream",
     "text": [
      "__main__\n",
      "<class 'str'>\n",
      "<__main__.Classy object at 0x000002E5890CFD10>\n"
     ]
    }
   ],
   "source": [
    "class Classy:\n",
    "    pass\n",
    "\n",
    "\n",
    "print(Classy.__module__)\n",
    "obj = Classy()\n",
    "print(type(obj.__module__))\n",
    "print(obj)"
   ]
  },
  {
   "cell_type": "code",
   "execution_count": 99,
   "id": "ead1b09b",
   "metadata": {},
   "outputs": [
    {
     "name": "stdout",
     "output_type": "stream",
     "text": [
      "10 11.5 12\n",
      "( object )\n",
      "( object )\n",
      "( SuperOne SuperTwo )\n",
      "True\n",
      "True\n",
      "True\n",
      "True\n",
      "( Sub )\n",
      "10\n"
     ]
    }
   ],
   "source": [
    "class SuperOne:\n",
    "    a = 10\n",
    "\n",
    "\n",
    "class SuperTwo:\n",
    "    a = 11\n",
    "    b = 11.5\n",
    "\n",
    "\n",
    "class Sub(SuperOne, SuperTwo):\n",
    "    c = 12\n",
    "    \n",
    "class SubSub(Sub):\n",
    "    d = 13\n",
    "\n",
    "\n",
    "def printBases(cls):\n",
    "    print('( ', end='')\n",
    "\n",
    "    for x in cls.__bases__:\n",
    "        print(x.__name__, end=' ')\n",
    "    print(')')\n",
    "sub = Sub()\n",
    "subsub = SubSub()\n",
    "print(sub.a,sub.b,sub.c)\n",
    "\n",
    "\n",
    "printBases(SuperOne)\n",
    "printBases(SuperTwo)\n",
    "printBases(Sub)\n",
    "print(isinstance(sub,SuperOne))\n",
    "print(isinstance(sub,SuperTwo))\n",
    "print(isinstance(subsub,SuperOne))\n",
    "print(isinstance(subsub,SuperTwo))\n",
    "printBases(SubSub)\n",
    "print(subsub.a)"
   ]
  },
  {
   "cell_type": "code",
   "execution_count": 74,
   "id": "af06c055",
   "metadata": {},
   "outputs": [
    {
     "name": "stdout",
     "output_type": "stream",
     "text": [
      "{'a': 1, 'b': 2, 'i': 3, 'ireal': 3.5, 'integer': 4.78, 'z': 5}\n",
      "{'a': 1, 'b': 2, 'i': 3, 'ireal': 4.5, 'integer': 5.78, 'z': 5}\n"
     ]
    }
   ],
   "source": [
    "class MyClass:\n",
    "    pass\n",
    "\n",
    "\n",
    "obj = MyClass()\n",
    "obj.a = 1\n",
    "obj.b = 2\n",
    "obj.i = 3\n",
    "obj.ireal = 3.5\n",
    "obj.integer = 4.78\n",
    "obj.z = 5\n",
    "\n",
    "\n",
    "def incIntsI(obj):\n",
    "    for name in obj.__dict__.keys():\n",
    "        if name.startswith('i'):\n",
    "            val = getattr(obj, name)\n",
    "            if isinstance(val, float):\n",
    "                setattr(obj, name, val + 1)\n",
    "\n",
    "\n",
    "print(obj.__dict__)\n",
    "incIntsI(obj)\n",
    "print(obj.__dict__)\n"
   ]
  },
  {
   "cell_type": "code",
   "execution_count": 103,
   "id": "37430d36-d770-4448-8f93-4d91ae0b0cf1",
   "metadata": {},
   "outputs": [
    {
     "data": {
      "text/plain": [
       "<method-wrapper '__str__' of float object at 0x000002E5890A1C10>"
      ]
     },
     "execution_count": 103,
     "metadata": {},
     "output_type": "execute_result"
    }
   ],
   "source": [
    "u = 8.78\n",
    "u.__str__"
   ]
  },
  {
   "cell_type": "code",
   "execution_count": 107,
   "id": "b6c4f592",
   "metadata": {},
   "outputs": [
    {
     "name": "stdout",
     "output_type": "stream",
     "text": [
      "23:59:59\n",
      "0:0:0\n",
      "23:59:59\n",
      "23:59:58\n",
      "23:59:57\n",
      "23:59:56\n",
      "23:59:55\n",
      "23:59:54\n",
      "23:59:53\n",
      "23:59:52\n",
      "23:59:51\n",
      "23:59:50\n",
      "23:59:49\n",
      "23:59:48\n",
      "23:59:47\n",
      "23:59:46\n",
      "23:59:45\n",
      "23:59:44\n",
      "23:59:43\n",
      "23:59:42\n",
      "23:59:41\n",
      "23:59:40\n",
      "23:59:39\n",
      "23:59:38\n",
      "23:59:37\n",
      "23:59:36\n",
      "23:59:35\n",
      "23:59:34\n",
      "23:59:33\n",
      "23:59:32\n",
      "23:59:31\n",
      "23:59:30\n",
      "23:59:29\n",
      "23:59:28\n",
      "23:59:27\n",
      "23:59:26\n",
      "23:59:25\n",
      "23:59:24\n",
      "23:59:23\n",
      "23:59:22\n",
      "23:59:21\n",
      "23:59:20\n",
      "23:59:19\n",
      "23:59:18\n",
      "23:59:17\n",
      "23:59:16\n",
      "23:59:15\n",
      "23:59:14\n",
      "23:59:13\n",
      "23:59:12\n",
      "23:59:11\n",
      "23:59:10\n",
      "23:59:9\n",
      "23:59:8\n",
      "23:59:7\n",
      "23:59:6\n",
      "23:59:5\n",
      "23:59:4\n",
      "23:59:3\n",
      "23:59:2\n",
      "23:59:1\n",
      "23:59:0\n",
      "23:58:59\n",
      "23:58:58\n",
      "23:58:57\n",
      "23:58:56\n",
      "23:58:55\n",
      "23:58:54\n",
      "23:58:53\n",
      "23:58:52\n",
      "23:58:51\n",
      "23:58:50\n",
      "23:58:49\n",
      "23:58:48\n",
      "23:58:47\n",
      "23:58:46\n",
      "23:58:45\n",
      "23:58:44\n",
      "23:58:43\n",
      "23:58:42\n",
      "23:58:41\n",
      "23:58:40\n",
      "23:58:39\n",
      "23:58:38\n",
      "23:58:37\n",
      "23:58:36\n",
      "23:58:35\n",
      "23:58:34\n",
      "23:58:33\n",
      "23:58:32\n",
      "23:58:31\n",
      "23:58:30\n",
      "23:58:29\n",
      "23:58:28\n",
      "23:58:27\n",
      "23:58:26\n",
      "23:58:25\n",
      "23:58:24\n",
      "23:58:23\n",
      "23:58:22\n",
      "23:58:21\n",
      "23:58:20\n",
      "23:58:19\n"
     ]
    }
   ],
   "source": [
    "class Timer:\n",
    "    def __init__(self,h,m,i):\n",
    "        self.h = h\n",
    "        self.m = m\n",
    "        self.i = i\n",
    "\n",
    "    def __str__(self):\n",
    "        return str(self.h)+\":\"+str(self.m)+\":\"+str(self.i)\n",
    "\n",
    "    def next_second(self):\n",
    "        self.i += 1\n",
    "        if(self.i==60):\n",
    "            self.i = 0\n",
    "            self.m += 1\n",
    "            if(self.m==60):\n",
    "                self.m = 0\n",
    "                self.h += 1\n",
    "                if(self.h==24):\n",
    "                    self.h = 0\n",
    "\n",
    "    def prev_second(self):\n",
    "        self.i -= 1\n",
    "        if(self.i<0):\n",
    "            self.i = 59\n",
    "            self.m -= 1\n",
    "            if(self.m<0):\n",
    "                self.m = 59\n",
    "                self.h -= 1\n",
    "                if(self.h<0):\n",
    "                    self.h = 23\n",
    "from time import sleep\n",
    "timer = Timer(23, 59, 59)\n",
    "print(timer)\n",
    "timer.next_second()\n",
    "print(timer)\n",
    "timer.prev_second()\n",
    "print(timer)\n",
    "for i in range(100):\n",
    "    timer.prev_second()\n",
    "    print(timer)"
   ]
  },
  {
   "cell_type": "code",
   "execution_count": 32,
   "id": "2ef14ac1",
   "metadata": {},
   "outputs": [
    {
     "name": "stdout",
     "output_type": "stream",
     "text": [
      "<__main__.Star object at 0x7f9c44b2e6a0>\n"
     ]
    }
   ],
   "source": [
    "class Star:\n",
    "    def __init__(self, name, galaxy):\n",
    "        self.name = name\n",
    "        self.galaxy = galaxy\n",
    "\n",
    "\n",
    "sun = Star(\"Sun\", \"Milky Way\")\n",
    "print(sun)"
   ]
  },
  {
   "cell_type": "code",
   "execution_count": 4,
   "id": "5a505ffe",
   "metadata": {},
   "outputs": [
    {
     "name": "stdout",
     "output_type": "stream",
     "text": [
      "Sun in Milky Way\n"
     ]
    }
   ],
   "source": [
    "class Star:\n",
    "    def __init__(self, name, galaxy):\n",
    "        self.name = name\n",
    "        self.galaxy = galaxy\n",
    "\n",
    "    def __str__(self):\n",
    "        return self.name + ' in ' + self.galaxy\n",
    "\n",
    "\n",
    "sun = Star(\"Sun\", \"Milky Way\")\n",
    "#str(int)\n",
    "print(sun)\n"
   ]
  },
  {
   "cell_type": "code",
   "execution_count": 34,
   "id": "2d4d150c",
   "metadata": {},
   "outputs": [],
   "source": [
    "class Vehicle:\n",
    "    pass\n",
    "class LandVehicle(Vehicle):\n",
    "    pass\n",
    "class TrackedVehicle(LandVehicle):\n",
    "    pass"
   ]
  },
  {
   "cell_type": "code",
   "execution_count": 4,
   "id": "aa8f244c",
   "metadata": {},
   "outputs": [
    {
     "name": "stdout",
     "output_type": "stream",
     "text": [
      "True\tFalse\tFalse\t\n",
      "True\tTrue\tFalse\t\n",
      "True\tTrue\tTrue\t\n"
     ]
    }
   ],
   "source": [
    "class Vehicle:\n",
    "    pass\n",
    "class LandVehicle(Vehicle):\n",
    "    pass\n",
    "class TrackedVehicle(LandVehicle):\n",
    "    pass\n",
    "\n",
    "for cls1 in [Vehicle, LandVehicle, TrackedVehicle]:\n",
    "    for cls2 in [Vehicle, LandVehicle, TrackedVehicle]:\n",
    "        print(issubclass(cls1, cls2), end=\"\\t\")\n",
    "    print()"
   ]
  },
  {
   "cell_type": "code",
   "execution_count": 36,
   "id": "c14a7849",
   "metadata": {},
   "outputs": [
    {
     "name": "stdout",
     "output_type": "stream",
     "text": [
      "True\tFalse\tFalse\t\n",
      "True\tTrue\tFalse\t\n",
      "True\tTrue\tTrue\t\n"
     ]
    }
   ],
   "source": [
    "class Vehicle:\n",
    "    pass\n",
    "\n",
    "\n",
    "class LandVehicle(Vehicle):\n",
    "    pass\n",
    "\n",
    "\n",
    "class TrackedVehicle(LandVehicle):\n",
    "    pass\n",
    "\n",
    "\n",
    "my_vehicle = Vehicle()\n",
    "my_land_vehicle = LandVehicle()\n",
    "my_tracked_vehicle = TrackedVehicle()\n",
    "\n",
    "for obj in [my_vehicle, my_land_vehicle, my_tracked_vehicle]:\n",
    "    for cls in [Vehicle, LandVehicle, TrackedVehicle]:\n",
    "        print(isinstance(obj, cls), end=\"\\t\")\n",
    "    print()\n"
   ]
  },
  {
   "cell_type": "code",
   "execution_count": 5,
   "id": "f4248804",
   "metadata": {},
   "outputs": [
    {
     "name": "stdout",
     "output_type": "stream",
     "text": [
      "False\n",
      "False\n",
      "True\n",
      "1 2 1\n",
      "True False\n"
     ]
    }
   ],
   "source": [
    "class SampleClass:\n",
    "    def __init__(self, val):\n",
    "        self.val = val\n",
    "\n",
    "\n",
    "object_1 = SampleClass(0)\n",
    "object_2 = SampleClass(2)\n",
    "object_3 = object_1\n",
    "object_3.val += 1\n",
    "\n",
    "print(object_1 is object_2)\n",
    "print(object_2 is object_3)\n",
    "print(object_3 is object_1)\n",
    "print(object_1.val, object_2.val, object_3.val)\n",
    "\n",
    "string_1 = \"Mary had a little \"\n",
    "string_2 = \"Mary had a little lamb\"\n",
    "string_1 += \"lamb\"\n",
    "\n",
    "print(string_1 == string_2, string_1 is string_2)"
   ]
  },
  {
   "cell_type": "code",
   "execution_count": 9,
   "id": "95e710b8",
   "metadata": {},
   "outputs": [
    {
     "name": "stdout",
     "output_type": "stream",
     "text": [
      "My name is Andy Hidayat.\n"
     ]
    }
   ],
   "source": [
    "class Super:\n",
    "    def __init__(self, name):\n",
    "        self.name = name\n",
    "\n",
    "    def __str__(self):\n",
    "        return \"My name is \" + self.name + \".\"\n",
    "\n",
    "\n",
    "class Sub(Super):\n",
    "    def __init__(self, name):\n",
    "        Super.__init__(self, name)\n",
    "        self.name += \" Hidayat\"\n",
    "\n",
    "\n",
    "obj = Sub(\"Andy\")\n",
    "\n",
    "print(obj)\n"
   ]
  },
  {
   "cell_type": "code",
   "execution_count": 40,
   "id": "e22928cc",
   "metadata": {},
   "outputs": [
    {
     "name": "stdout",
     "output_type": "stream",
     "text": [
      "2\n",
      "1\n"
     ]
    }
   ],
   "source": [
    "# Testing properties: class variables.\n",
    "class Super:\n",
    "    supVar = 1\n",
    "\n",
    "\n",
    "class Sub(Super):\n",
    "    subVar = 2\n",
    "\n",
    "\n",
    "obj = Sub()\n",
    "\n",
    "print(obj.subVar)\n",
    "print(obj.supVar)\n"
   ]
  },
  {
   "cell_type": "code",
   "execution_count": 42,
   "id": "5ab272e1",
   "metadata": {},
   "outputs": [
    {
     "name": "stdout",
     "output_type": "stream",
     "text": [
      "100 101 102\n",
      "200 201 202\n",
      "300 301 302\n"
     ]
    }
   ],
   "source": [
    "class Level1:\n",
    "    variable_1 = 100\n",
    "    def __init__(self):\n",
    "        self.var_1 = 101\n",
    "\n",
    "    def fun_1(self):\n",
    "        return 102\n",
    "\n",
    "\n",
    "class Level2(Level1):\n",
    "    variable_2 = 200\n",
    "    def __init__(self):\n",
    "        super().__init__()\n",
    "        self.var_2 = 201\n",
    "    \n",
    "    def fun_2(self):\n",
    "        return 202\n",
    "\n",
    "\n",
    "class Level3(Level2):\n",
    "    variable_3 = 300\n",
    "    def __init__(self):\n",
    "        super().__init__()\n",
    "        self.var_3 = 301\n",
    "\n",
    "    def fun_3(self):\n",
    "        return 302\n",
    "\n",
    "\n",
    "obj = Level3()\n",
    "\n",
    "print(obj.variable_1, obj.var_1, obj.fun_1())\n",
    "print(obj.variable_2, obj.var_2, obj.fun_2())\n",
    "print(obj.variable_3, obj.var_3, obj.fun_3())\n"
   ]
  },
  {
   "cell_type": "code",
   "execution_count": 43,
   "id": "5c11f1e3",
   "metadata": {},
   "outputs": [
    {
     "name": "stdout",
     "output_type": "stream",
     "text": [
      "10 11\n",
      "20 21\n"
     ]
    }
   ],
   "source": [
    "class SuperA:\n",
    "    var_a = 10\n",
    "    def fun_a(self):\n",
    "        return 11\n",
    "\n",
    "\n",
    "class SuperB:\n",
    "    var_b = 20\n",
    "    def fun_b(self):\n",
    "        return 21\n",
    "\n",
    "\n",
    "class Sub(SuperA, SuperB):\n",
    "    pass\n",
    "\n",
    "\n",
    "obj = Sub()\n",
    "\n",
    "print(obj.var_a, obj.fun_a())\n",
    "print(obj.var_b, obj.fun_b())\n"
   ]
  },
  {
   "cell_type": "code",
   "execution_count": 10,
   "id": "43d92427",
   "metadata": {},
   "outputs": [
    {
     "name": "stdout",
     "output_type": "stream",
     "text": [
      "200 201\n"
     ]
    }
   ],
   "source": [
    "class Level1:\n",
    "    var = 100\n",
    "    def fun(self):\n",
    "        return 101\n",
    "\n",
    "\n",
    "class Level2(Level1):\n",
    "    var = 200\n",
    "    def fun(self):\n",
    "        return 201\n",
    "\n",
    "\n",
    "class Level3(Level2):\n",
    "    pass\n",
    "\n",
    "\n",
    "obj = Level3()\n",
    "\n",
    "print(obj.var, obj.fun())\n"
   ]
  },
  {
   "cell_type": "code",
   "execution_count": 12,
   "id": "2b34a903",
   "metadata": {},
   "outputs": [
    {
     "name": "stdout",
     "output_type": "stream",
     "text": [
      "L LL RR Left\n"
     ]
    }
   ],
   "source": [
    "class Left:\n",
    "    var = \"L\"\n",
    "    var_left = \"LL\"\n",
    "    def fun(self):\n",
    "        return \"Left\"\n",
    "\n",
    "\n",
    "class Right:\n",
    "    var = \"R\"\n",
    "    var_right = \"RR\"\n",
    "    def fun(self):\n",
    "        return \"Right\"\n",
    "    \n",
    "class Center:\n",
    "    var = \"C\"\n",
    "    var_right = \"CC\"\n",
    "    def fun(self):\n",
    "        return \"Center\"\n",
    "\n",
    "\n",
    "class Sub(Left, Right,Center):\n",
    "    pass\n",
    "\n",
    "\n",
    "obj = Sub()\n",
    "\n",
    "print(obj.var, obj.var_left, obj.var_right, obj.fun())\n"
   ]
  },
  {
   "cell_type": "code",
   "execution_count": 13,
   "id": "c203d7ac",
   "metadata": {},
   "outputs": [
    {
     "name": "stdout",
     "output_type": "stream",
     "text": [
      "do_it from One\n",
      "do_it from Two\n"
     ]
    }
   ],
   "source": [
    "class One:\n",
    "    def do_it(self):\n",
    "        print(\"do_it from One\")\n",
    "\n",
    "    def doanything(self):\n",
    "        self.do_it()\n",
    "\n",
    "\n",
    "class Two(One):\n",
    "    def do_it(self):\n",
    "        print(\"do_it from Two\")\n",
    "\n",
    "\n",
    "one = One()\n",
    "two = Two()\n",
    "\n",
    "one.doanything()\n",
    "two.doanything()\n"
   ]
  },
  {
   "cell_type": "code",
   "execution_count": 47,
   "id": "e6cd0bb2",
   "metadata": {},
   "outputs": [],
   "source": [
    "import time\n",
    "\n",
    "class Vehicle:\n",
    "    def change_direction(left, on):\n",
    "        pass\n",
    "\n",
    "    def turn(left):\n",
    "        change_direction(left, True)\n",
    "        time.sleep(0.25)\n",
    "        change_direction(left, False)\n",
    "\n",
    "\n",
    "class TrackedVehicle(Vehicle):\n",
    "    def control_track(left, stop): # fungsi baru\n",
    "        pass\n",
    "\n",
    "    def change_direction(left, on): # fungsi lama yang baru di definisikan\n",
    "        control_track(left, on)\n",
    "\n",
    "\n",
    "class WheeledVehicle(Vehicle):\n",
    "    def turn_front_wheels(left, on): # fungsi baru\n",
    "        pass\n",
    "\n",
    "    def change_direction(left, on): # fungsi lama yang baru di definisikan\n",
    "        turn_front_wheels(left, on)\n"
   ]
  },
  {
   "cell_type": "code",
   "execution_count": 14,
   "id": "dadd0c04",
   "metadata": {},
   "outputs": [
    {
     "name": "stdout",
     "output_type": "stream",
     "text": [
      "wheels:  True True\n",
      "wheels:  True False\n",
      "tracks:  True True\n",
      "tracks:  True False\n"
     ]
    }
   ],
   "source": [
    "import time\n",
    "\n",
    "class Tracks:\n",
    "    def change_direction(self, left, on):\n",
    "        print(\"tracks: \", left, on)\n",
    "\n",
    "\n",
    "class Wheels:\n",
    "    def change_direction(self, left, on):\n",
    "        print(\"wheels: \", left, on)\n",
    "\n",
    "\n",
    "class Vehicle:\n",
    "    def __init__(self, controller):\n",
    "        self.controller = controller\n",
    "\n",
    "    def turn(self, left):\n",
    "        self.controller.change_direction(left, True)\n",
    "        time.sleep(0.25)\n",
    "        self.controller.change_direction(left, False)\n",
    "\n",
    "\n",
    "wheeled = Vehicle(Wheels())\n",
    "tracked = Vehicle(Tracks())\n",
    "\n",
    "wheeled.turn(True)\n",
    "tracked.turn(True)\n"
   ]
  },
  {
   "cell_type": "code",
   "execution_count": 49,
   "id": "ef070e17",
   "metadata": {},
   "outputs": [
    {
     "name": "stdout",
     "output_type": "stream",
     "text": [
      "bottom\n",
      "middle\n",
      "top\n"
     ]
    }
   ],
   "source": [
    "class Top:\n",
    "    def m_top(self):\n",
    "        print(\"top\")\n",
    "\n",
    "\n",
    "class Middle(Top):\n",
    "    def m_middle(self):\n",
    "        print(\"middle\")\n",
    "\n",
    "\n",
    "class Bottom(Middle):\n",
    "    def m_bottom(self):\n",
    "        print(\"bottom\")\n",
    "\n",
    "\n",
    "object = Bottom()\n",
    "object.m_bottom()\n",
    "object.m_middle()\n",
    "object.m_top()\n"
   ]
  },
  {
   "cell_type": "code",
   "execution_count": 15,
   "id": "02f7c8f6",
   "metadata": {},
   "outputs": [
    {
     "name": "stdout",
     "output_type": "stream",
     "text": [
      "B\n"
     ]
    }
   ],
   "source": [
    "class A:\n",
    "    def __init__(self):\n",
    "        print(\"A\")\n",
    "class B(A):\n",
    "    def __init__(self):\n",
    "        print(\"B\")\n",
    "class C(A):\n",
    "    def __init__(self):\n",
    "        print(\"C\")\n",
    "class D(B, C):\n",
    "    pass\n",
    "d = D()"
   ]
  },
  {
   "cell_type": "code",
   "execution_count": 16,
   "id": "31a1d402",
   "metadata": {},
   "outputs": [],
   "source": [
    "class Dog:\n",
    "    kennel = 0\n",
    "    def __init__(self, breed):\n",
    "        self.breed = breed\n",
    "        Dog.kennel += 1\n",
    "    def __str__(self):\n",
    "        return self.breed + \" says: Woof!\"\n",
    "\n",
    "\n",
    "class SheepDog(Dog):\n",
    "    def __str__(self):\n",
    "        return super().__str__() + \" Don't run away, Little Lamb!\"\n",
    "\n",
    "\n",
    "class GuardDog(Dog):\n",
    "    def __str__(self):\n",
    "        return super().__str__() + \" Stay where you are, Mister Intruder!\"\n",
    "\n",
    "\n",
    "rocky = SheepDog(\"Collie\")\n",
    "luna = GuardDog(\"Dobermann\")\n",
    "\n"
   ]
  },
  {
   "cell_type": "code",
   "execution_count": 18,
   "id": "52a428f0",
   "metadata": {},
   "outputs": [
    {
     "name": "stdout",
     "output_type": "stream",
     "text": [
      "Collie says: Woof! Don't run away, Little Lamb!\n",
      "Dobermann says: Woof! Stay where you are, Mister Intruder!\n",
      "2\n"
     ]
    }
   ],
   "source": [
    "print(rocky)\n",
    "print(luna)\n",
    "print(luna.kennel)"
   ]
  },
  {
   "cell_type": "code",
   "execution_count": 54,
   "id": "884d8267",
   "metadata": {},
   "outputs": [
    {
     "name": "stdout",
     "output_type": "stream",
     "text": [
      "True False\n",
      "False True\n"
     ]
    }
   ],
   "source": [
    "print(issubclass(SheepDog, Dog), issubclass(SheepDog, GuardDog))\n",
    "print(isinstance(rocky, GuardDog), isinstance(luna, GuardDog))"
   ]
  },
  {
   "cell_type": "code",
   "execution_count": 55,
   "id": "b3a627c4",
   "metadata": {},
   "outputs": [
    {
     "name": "stdout",
     "output_type": "stream",
     "text": [
      "True False\n",
      "2\n"
     ]
    }
   ],
   "source": [
    "print(luna is luna, rocky is luna)\n",
    "print(rocky.kennel)"
   ]
  },
  {
   "cell_type": "code",
   "execution_count": 56,
   "id": "7fbc3d8d",
   "metadata": {},
   "outputs": [
    {
     "name": "stdout",
     "output_type": "stream",
     "text": [
      "Everything went fine\n",
      "0.5\n",
      "Division failed\n",
      "None\n"
     ]
    }
   ],
   "source": [
    "def reciprocal(n):\n",
    "    try:\n",
    "        n = 1 / n\n",
    "    except ZeroDivisionError:\n",
    "        print(\"Division failed\")\n",
    "        return None\n",
    "    else:\n",
    "        print(\"Everything went fine\")\n",
    "        return n\n",
    "\n",
    "\n",
    "print(reciprocal(2))\n",
    "print(reciprocal(0))\n"
   ]
  },
  {
   "cell_type": "code",
   "execution_count": 57,
   "id": "c4caaf6c",
   "metadata": {},
   "outputs": [
    {
     "name": "stdout",
     "output_type": "stream",
     "text": [
      "Everything went fine\n",
      "It's time to say goodbye\n",
      "0.5\n",
      "Division failed\n",
      "It's time to say goodbye\n",
      "None\n"
     ]
    }
   ],
   "source": [
    "def reciprocal(n):\n",
    "    try:\n",
    "        n = 1 / n\n",
    "    except ZeroDivisionError:\n",
    "        print(\"Division failed\")\n",
    "        n = None\n",
    "    else:\n",
    "        print(\"Everything went fine\")\n",
    "    finally:\n",
    "        print(\"It's time to say goodbye\")\n",
    "        return n\n",
    "\n",
    "\n",
    "print(reciprocal(2))\n",
    "print(reciprocal(0))\n"
   ]
  },
  {
   "cell_type": "code",
   "execution_count": 58,
   "id": "26ee9530",
   "metadata": {},
   "outputs": [
    {
     "name": "stdout",
     "output_type": "stream",
     "text": [
      "invalid literal for int() with base 10: 'Hello!'\n",
      "invalid literal for int() with base 10: 'Hello!'\n"
     ]
    }
   ],
   "source": [
    "try:\n",
    "    i = int(\"Hello!\")\n",
    "except Exception as e:\n",
    "    print(e)\n",
    "    print(e.__str__())"
   ]
  },
  {
   "cell_type": "code",
   "execution_count": 22,
   "id": "3d66e5ac",
   "metadata": {},
   "outputs": [
    {
     "name": "stdout",
     "output_type": "stream",
     "text": [
      "BaseException\n",
      "   +---Exception\n",
      "   |   +---TypeError\n",
      "   |   |   +---MultipartConversionError\n",
      "   |   |   +---FloatOperation\n",
      "   |   +---StopAsyncIteration\n",
      "   |   +---StopIteration\n",
      "   |   +---ImportError\n",
      "   |   |   +---ModuleNotFoundError\n",
      "   |   |   +---ZipImportError\n",
      "   |   +---OSError\n",
      "   |   |   +---ConnectionError\n",
      "   |   |   |   +---BrokenPipeError\n",
      "   |   |   |   +---ConnectionAbortedError\n",
      "   |   |   |   +---ConnectionRefusedError\n",
      "   |   |   |   +---ConnectionResetError\n",
      "   |   |   |   |   +---RemoteDisconnected\n",
      "   |   |   +---BlockingIOError\n",
      "   |   |   +---ChildProcessError\n",
      "   |   |   +---FileExistsError\n",
      "   |   |   +---FileNotFoundError\n",
      "   |   |   +---IsADirectoryError\n",
      "   |   |   +---NotADirectoryError\n",
      "   |   |   +---InterruptedError\n",
      "   |   |   |   +---InterruptedSystemCall\n",
      "   |   |   +---PermissionError\n",
      "   |   |   +---ProcessLookupError\n",
      "   |   |   +---TimeoutError\n",
      "   |   |   +---UnsupportedOperation\n",
      "   |   |   +---ItimerError\n",
      "   |   |   +---herror\n",
      "   |   |   +---gaierror\n",
      "   |   |   +---timeout\n",
      "   |   |   +---Error\n",
      "   |   |   |   +---SameFileError\n",
      "   |   |   +---SpecialFileError\n",
      "   |   |   +---ExecError\n",
      "   |   |   +---ReadError\n",
      "   |   |   +---SSLError\n",
      "   |   |   |   +---SSLCertVerificationError\n",
      "   |   |   |   +---SSLZeroReturnError\n",
      "   |   |   |   +---SSLWantReadError\n",
      "   |   |   |   +---SSLWantWriteError\n",
      "   |   |   |   +---SSLSyscallError\n",
      "   |   |   |   +---SSLEOFError\n",
      "   |   |   +---URLError\n",
      "   |   |   |   +---HTTPError\n",
      "   |   |   |   +---ContentTooShortError\n",
      "   |   |   +---BadGzipFile\n",
      "   |   +---EOFError\n",
      "   |   |   +---IncompleteReadError\n",
      "   |   +---RuntimeError\n",
      "   |   |   +---RecursionError\n",
      "   |   |   +---NotImplementedError\n",
      "   |   |   |   +---ZMQVersionError\n",
      "   |   |   |   +---StdinNotImplementedError\n",
      "   |   |   +---_DeadlockError\n",
      "   |   |   +---BrokenBarrierError\n",
      "   |   |   +---BrokenExecutor\n",
      "   |   |   +---SendfileNotAvailableError\n",
      "   |   |   +---ExtractionError\n",
      "   |   |   +---VariableError\n",
      "   |   +---NameError\n",
      "   |   |   +---UnboundLocalError\n",
      "   |   +---AttributeError\n",
      "   |   |   +---FrozenInstanceError\n",
      "   |   +---SyntaxError\n",
      "   |   |   +---IndentationError\n",
      "   |   |   |   +---TabError\n",
      "   |   +---LookupError\n",
      "   |   |   +---IndexError\n",
      "   |   |   +---KeyError\n",
      "   |   |   |   +---NoSuchKernel\n",
      "   |   |   |   +---UnknownBackend\n",
      "   |   |   +---CodecRegistryError\n",
      "   |   +---ValueError\n",
      "   |   |   +---UnicodeError\n",
      "   |   |   |   +---UnicodeEncodeError\n",
      "   |   |   |   +---UnicodeDecodeError\n",
      "   |   |   |   +---UnicodeTranslateError\n",
      "   |   |   +---UnsupportedOperation\n",
      "   |   |   +---JSONDecodeError\n",
      "   |   |   +---SSLCertVerificationError\n",
      "   |   |   +---Error\n",
      "   |   |   +---ClassNotFound\n",
      "   |   |   +---ClipboardEmpty\n",
      "   |   |   +---MessageDefect\n",
      "   |   |   |   +---NoBoundaryInMultipartDefect\n",
      "   |   |   |   +---StartBoundaryNotFoundDefect\n",
      "   |   |   |   +---CloseBoundaryNotFoundDefect\n",
      "   |   |   |   +---FirstHeaderLineIsContinuationDefect\n",
      "   |   |   |   +---MisplacedEnvelopeHeaderDefect\n",
      "   |   |   |   +---MissingHeaderBodySeparatorDefect\n",
      "   |   |   |   +---MultipartInvariantViolationDefect\n",
      "   |   |   |   +---InvalidMultipartContentTransferEncodingDefect\n",
      "   |   |   |   +---UndecodableBytesDefect\n",
      "   |   |   |   +---InvalidBase64PaddingDefect\n",
      "   |   |   |   +---InvalidBase64CharactersDefect\n",
      "   |   |   |   +---InvalidBase64LengthDefect\n",
      "   |   |   |   +---HeaderDefect\n",
      "   |   |   |   |   +---InvalidHeaderDefect\n",
      "   |   |   |   |   +---HeaderMissingRequiredValue\n",
      "   |   |   |   |   +---NonPrintableDefect\n",
      "   |   |   |   |   +---ObsoleteHeaderDefect\n",
      "   |   |   |   |   +---NonASCIILocalPartDefect\n",
      "   |   |   +---IllegalMonthError\n",
      "   |   |   +---IllegalWeekdayError\n",
      "   |   |   +---MacroToEdit\n",
      "   |   |   +---ParserError\n",
      "   |   |   +---InvalidFileException\n",
      "   |   |   +---InvalidVersion\n",
      "   |   |   +---InvalidSpecifier\n",
      "   |   |   +---InvalidMarker\n",
      "   |   |   +---UndefinedComparison\n",
      "   |   |   +---UndefinedEnvironmentName\n",
      "   |   |   +---InvalidRequirement\n",
      "   |   |   |   +---RequirementParseError\n",
      "   |   +---AssertionError\n",
      "   |   +---ArithmeticError\n",
      "   |   |   +---FloatingPointError\n",
      "   |   |   +---OverflowError\n",
      "   |   |   +---ZeroDivisionError\n",
      "   |   |   |   +---DivisionByZero\n",
      "   |   |   |   +---DivisionUndefined\n",
      "   |   |   +---DecimalException\n",
      "   |   |   |   +---Clamped\n",
      "   |   |   |   +---Rounded\n",
      "   |   |   |   |   +---Underflow\n",
      "   |   |   |   |   +---Overflow\n",
      "   |   |   |   +---Inexact\n",
      "   |   |   |   |   +---Underflow\n",
      "   |   |   |   |   +---Overflow\n",
      "   |   |   |   +---Subnormal\n",
      "   |   |   |   |   +---Underflow\n",
      "   |   |   |   +---DivisionByZero\n",
      "   |   |   |   +---FloatOperation\n",
      "   |   |   |   +---InvalidOperation\n",
      "   |   |   |   |   +---ConversionSyntax\n",
      "   |   |   |   |   +---DivisionImpossible\n",
      "   |   |   |   |   +---DivisionUndefined\n",
      "   |   |   |   |   +---InvalidContext\n",
      "   |   +---SystemError\n",
      "   |   |   +---CodecRegistryError\n",
      "   |   +---ReferenceError\n",
      "   |   +---MemoryError\n",
      "   |   +---BufferError\n",
      "   |   +---Warning\n",
      "   |   |   +---UserWarning\n",
      "   |   |   |   +---GetPassWarning\n",
      "   |   |   |   +---FormatterWarning\n",
      "   |   |   +---DeprecationWarning\n",
      "   |   |   |   +---ProvisionalWarning\n",
      "   |   |   +---PendingDeprecationWarning\n",
      "   |   |   +---SyntaxWarning\n",
      "   |   |   +---RuntimeWarning\n",
      "   |   |   |   +---ProactorSelectorThreadWarning\n",
      "   |   |   |   +---UnknownTimezoneWarning\n",
      "   |   |   |   +---PEP440Warning\n",
      "   |   |   +---FutureWarning\n",
      "   |   |   |   +---ProvisionalCompleterWarning\n",
      "   |   |   +---ImportWarning\n",
      "   |   |   +---UnicodeWarning\n",
      "   |   |   +---BytesWarning\n",
      "   |   |   +---ResourceWarning\n",
      "   |   |   +---DeprecatedTzFormatWarning\n",
      "   |   |   +---PkgResourcesDeprecationWarning\n",
      "   |   +---Error\n",
      "   |   +---_OptionError\n",
      "   |   +---error\n",
      "   |   +---Verbose\n",
      "   |   +---_Error\n",
      "   |   +---SubprocessError\n",
      "   |   |   +---CalledProcessError\n",
      "   |   |   +---TimeoutExpired\n",
      "   |   +---_GiveupOnSendfile\n",
      "   |   +---error\n",
      "   |   +---LZMAError\n",
      "   |   +---RegistryError\n",
      "   |   +---_GiveupOnFastCopy\n",
      "   |   +---error\n",
      "   |   +---ArgumentError\n",
      "   |   +---error\n",
      "   |   +---ZMQBaseError\n",
      "   |   |   +---ZMQError\n",
      "   |   |   |   +---ContextTerminated\n",
      "   |   |   |   +---Again\n",
      "   |   |   |   +---InterruptedSystemCall\n",
      "   |   |   +---ZMQBindError\n",
      "   |   |   +---NotDone\n",
      "   |   +---Error\n",
      "   |   +---PickleError\n",
      "   |   |   +---PicklingError\n",
      "   |   |   +---UnpicklingError\n",
      "   |   +---_Stop\n",
      "   |   +---TokenError\n",
      "   |   +---StopTokenizing\n",
      "   |   +---ClassFoundException\n",
      "   |   +---EndOfBlock\n",
      "   |   +---TraitError\n",
      "   |   +---ArgumentError\n",
      "   |   +---ArgumentTypeError\n",
      "   |   +---ConfigError\n",
      "   |   |   +---ConfigLoaderError\n",
      "   |   |   |   +---ArgumentError\n",
      "   |   |   +---ConfigFileNotFound\n",
      "   |   +---ConfigurableError\n",
      "   |   |   +---MultipleInstanceError\n",
      "   |   +---ApplicationError\n",
      "   |   +---NoIPAddresses\n",
      "   |   +---Error\n",
      "   |   |   +---CancelledError\n",
      "   |   |   +---TimeoutError\n",
      "   |   |   +---InvalidStateError\n",
      "   |   +---Incomplete\n",
      "   |   +---TimeoutError\n",
      "   |   +---InvalidStateError\n",
      "   |   +---LimitOverrunError\n",
      "   |   +---QueueEmpty\n",
      "   |   +---QueueFull\n",
      "   |   +---InvalidPortNumber\n",
      "   |   +---Empty\n",
      "   |   +---Full\n",
      "   |   +---DuplicateKernelError\n",
      "   |   +---TimeoutError\n",
      "   |   +---error\n",
      "   |   +---ReturnValueIgnoredError\n",
      "   |   +---KeyReuseError\n",
      "   |   +---UnknownKeyError\n",
      "   |   +---LeakedCallbackError\n",
      "   |   +---BadYieldError\n",
      "   |   +---ReturnValueIgnoredError\n",
      "   |   +---Return\n",
      "   |   +---ErrorDuringImport\n",
      "   |   +---BdbQuit\n",
      "   |   +---Restart\n",
      "   |   +---ExceptionPexpect\n",
      "   |   |   +---EOF\n",
      "   |   |   +---TIMEOUT\n",
      "   |   +---PtyProcessError\n",
      "   |   +---FindCmdError\n",
      "   |   +---HomeDirError\n",
      "   |   +---ProfileDirError\n",
      "   |   +---IPythonCoreError\n",
      "   |   |   +---TryNext\n",
      "   |   |   +---UsageError\n",
      "   |   |   +---StdinNotImplementedError\n",
      "   |   +---InputRejected\n",
      "   |   +---GetoptError\n",
      "   |   +---OptionError\n",
      "   |   +---ErrorToken\n",
      "   |   +---PrefilterError\n",
      "   |   +---AliasError\n",
      "   |   |   +---InvalidAliasError\n",
      "   |   +---Error\n",
      "   |   |   +---InterfaceError\n",
      "   |   |   +---DatabaseError\n",
      "   |   |   |   +---InternalError\n",
      "   |   |   |   +---OperationalError\n",
      "   |   |   |   +---ProgrammingError\n",
      "   |   |   |   +---IntegrityError\n",
      "   |   |   |   +---DataError\n",
      "   |   |   |   +---NotSupportedError\n",
      "   |   +---Warning\n",
      "   |   +---SpaceInInput\n",
      "   |   +---DOMException\n",
      "   |   |   +---IndexSizeErr\n",
      "   |   |   +---DomstringSizeErr\n",
      "   |   |   +---HierarchyRequestErr\n",
      "   |   |   +---WrongDocumentErr\n",
      "   |   |   +---InvalidCharacterErr\n",
      "   |   |   +---NoDataAllowedErr\n",
      "   |   |   +---NoModificationAllowedErr\n",
      "   |   |   +---NotFoundErr\n",
      "   |   |   +---NotSupportedErr\n",
      "   |   |   +---InuseAttributeErr\n",
      "   |   |   +---InvalidStateErr\n",
      "   |   |   +---SyntaxErr\n",
      "   |   |   +---InvalidModificationErr\n",
      "   |   |   +---NamespaceErr\n",
      "   |   |   +---InvalidAccessErr\n",
      "   |   |   +---ValidationErr\n",
      "   |   +---ValidationError\n",
      "   |   +---EditReadOnlyBuffer\n",
      "   |   +---_Retry\n",
      "   |   +---InvalidLayoutError\n",
      "   |   +---HeightIsUnknownError\n",
      "   |   +---ParserSyntaxError\n",
      "   |   +---InternalParseError\n",
      "   |   +---_PositionUpdatingFinished\n",
      "   |   +---SimpleGetItemNotFound\n",
      "   |   +---UncaughtAttributeError\n",
      "   |   +---ParamIssue\n",
      "   |   +---_JediError\n",
      "   |   |   +---InternalError\n",
      "   |   |   +---WrongVersion\n",
      "   |   |   +---RefactoringError\n",
      "   |   +---OnErrorLeaf\n",
      "   |   +---InvalidPythonEnvironment\n",
      "   |   +---MessageError\n",
      "   |   |   +---MessageParseError\n",
      "   |   |   |   +---HeaderParseError\n",
      "   |   |   |   +---BoundaryError\n",
      "   |   |   +---MultipartConversionError\n",
      "   |   |   +---CharsetError\n",
      "   |   +---Error\n",
      "   |   +---HTTPException\n",
      "   |   |   +---NotConnected\n",
      "   |   |   +---InvalidURL\n",
      "   |   |   +---UnknownProtocol\n",
      "   |   |   +---UnknownTransferEncoding\n",
      "   |   |   +---UnimplementedFileMode\n",
      "   |   |   +---IncompleteRead\n",
      "   |   |   +---ImproperConnectionState\n",
      "   |   |   |   +---CannotSendRequest\n",
      "   |   |   |   +---CannotSendHeader\n",
      "   |   |   |   +---ResponseNotReady\n",
      "   |   |   +---BadStatusLine\n",
      "   |   |   |   +---RemoteDisconnected\n",
      "   |   |   +---LineTooLong\n",
      "   |   +---InteractivelyDefined\n",
      "   |   +---KillEmbedded\n",
      "   |   +---QueueEmpty\n",
      "   |   +---QueueFull\n",
      "   |   +---ExpatError\n",
      "   |   +---Error\n",
      "   |   |   +---ProtocolError\n",
      "   |   |   +---ResponseError\n",
      "   |   |   +---Fault\n",
      "   |   +---BadZipFile\n",
      "   |   +---LargeZipFile\n",
      "   |   +---ParseBaseException\n",
      "   |   |   +---ParseException\n",
      "   |   |   +---ParseFatalException\n",
      "   |   |   |   +---ParseSyntaxException\n",
      "   |   +---RecursiveGrammarException\n",
      "   |   +---ResolutionError\n",
      "   |   |   +---VersionConflict\n",
      "   |   |   |   +---ContextualVersionConflict\n",
      "   |   |   +---DistributionNotFound\n",
      "   |   |   +---UnknownExtra\n",
      "   |   +---UnableToResolveVariableException\n",
      "   |   +---InvalidTypeInArgsException\n",
      "   +---GeneratorExit\n",
      "   +---SystemExit\n",
      "   +---KeyboardInterrupt\n",
      "   +---CancelledError\n",
      "   +---DebuggerInitializationError\n"
     ]
    }
   ],
   "source": [
    "def print_exception_tree(thisclass, nest = 0):\n",
    "    if nest > 1:\n",
    "        print(\"   |\" * (nest - 1), end=\"\")\n",
    "    if nest > 0:\n",
    "        print(\"   +---\", end=\"\")\n",
    "\n",
    "    print(thisclass.__name__)\n",
    "\n",
    "    for subclass in thisclass.__subclasses__():\n",
    "        print_exception_tree(subclass, nest + 1)\n",
    "\n",
    "\n",
    "print_exception_tree(BaseException)\n"
   ]
  },
  {
   "cell_type": "code",
   "execution_count": 60,
   "id": "849ae1e4",
   "metadata": {},
   "outputs": [
    {
     "name": "stdout",
     "output_type": "stream",
     "text": [
      " :  : \n",
      "my exception : my exception : my exception\n",
      "('my', 'exception') : ('my', 'exception') : ('my', 'exception')\n"
     ]
    }
   ],
   "source": [
    "def print_args(args):\n",
    "    lng = len(args)\n",
    "    if lng == 0:\n",
    "        print(\"\")\n",
    "    elif lng == 1:\n",
    "        print(args[0])\n",
    "    else:\n",
    "        print(str(args))\n",
    "\n",
    "\n",
    "try:\n",
    "    raise Exception\n",
    "except Exception as e:\n",
    "    print(e, e.__str__(), sep=' : ' ,end=' : ')\n",
    "    print_args(e.args)\n",
    "\n",
    "try:\n",
    "    raise Exception(\"my exception\")\n",
    "except Exception as e:\n",
    "    print(e, e.__str__(), sep=' : ', end=' : ')\n",
    "    print_args(e.args)\n",
    "\n",
    "try:\n",
    "    raise Exception(\"my\", \"exception\")\n",
    "except Exception as e:\n",
    "    print(e, e.__str__(), sep=' : ', end=' : ')\n",
    "    print_args(e.args)\n"
   ]
  },
  {
   "cell_type": "code",
   "execution_count": 61,
   "id": "a9743b07",
   "metadata": {},
   "outputs": [
    {
     "name": "stdout",
     "output_type": "stream",
     "text": [
      "Division by zero\n",
      "Division by zero\n",
      "Original division by zero\n",
      "My division by zero\n"
     ]
    }
   ],
   "source": [
    "class MyZeroDivisionError(ZeroDivisionError):\t\n",
    "    pass\n",
    "\n",
    "\n",
    "def do_the_division(mine):\n",
    "    if mine:\n",
    "        raise MyZeroDivisionError(\"some worse news\")\n",
    "    else:\t\t\n",
    "        raise ZeroDivisionError(\"some bad news\")\n",
    "\n",
    "\n",
    "for mode in [False, True]:\n",
    "    try:\n",
    "        do_the_division(mode)\n",
    "    except ZeroDivisionError:\n",
    "        print('Division by zero')\n",
    "\n",
    "for mode in [False, True]:\n",
    "    try:\n",
    "        do_the_division(mode)\n",
    "    except MyZeroDivisionError:\n",
    "        print('My division by zero')\n",
    "    except ZeroDivisionError:\n",
    "        print('Original division by zero')\n"
   ]
  },
  {
   "cell_type": "code",
   "execution_count": 62,
   "id": "51af4b7f",
   "metadata": {},
   "outputs": [
    {
     "name": "stdout",
     "output_type": "stream",
     "text": [
      "Pizza ready!\n",
      "too much cheese : 110\n",
      "no such pizza on the menu : mafia\n"
     ]
    }
   ],
   "source": [
    "class PizzaError(Exception):\n",
    "    def __init__(self, pizza, message):\n",
    "        Exception.__init__(self, message)\n",
    "        self.pizza = pizza\n",
    "\n",
    "\n",
    "class TooMuchCheeseError(PizzaError):\n",
    "    def __init__(self, pizza, cheese, message):\n",
    "        PizzaError.__init__(self, pizza, message)\n",
    "        self.cheese = cheese\n",
    "\n",
    "\n",
    "def make_pizza(pizza, cheese):\n",
    "    if pizza not in ['margherita', 'capricciosa', 'calzone']:\n",
    "        raise PizzaError(pizza, \"no such pizza on the menu\")\n",
    "    if cheese > 100:\n",
    "        raise TooMuchCheeseError(pizza, cheese, \"too much cheese\")\n",
    "    print(\"Pizza ready!\")\n",
    "\n",
    "for (pz, ch) in [('calzone', 0), ('margherita', 110), ('mafia', 20)]:\n",
    "    try:\n",
    "        make_pizza(pz, ch)\n",
    "    except TooMuchCheeseError as tmce:\n",
    "        print(tmce, ':', tmce.cheese)\n",
    "    except PizzaError as pe:\n",
    "        print(pe, ':', pe.pizza)\n"
   ]
  },
  {
   "cell_type": "code",
   "execution_count": null,
   "id": "5b2d54ed",
   "metadata": {},
   "outputs": [],
   "source": []
  }
 ],
 "metadata": {
  "kernelspec": {
   "display_name": "Python 3 (ipykernel)",
   "language": "python",
   "name": "python3"
  },
  "language_info": {
   "codemirror_mode": {
    "name": "ipython",
    "version": 3
   },
   "file_extension": ".py",
   "mimetype": "text/x-python",
   "name": "python",
   "nbconvert_exporter": "python",
   "pygments_lexer": "ipython3",
   "version": "3.11.9"
  }
 },
 "nbformat": 4,
 "nbformat_minor": 5
}
