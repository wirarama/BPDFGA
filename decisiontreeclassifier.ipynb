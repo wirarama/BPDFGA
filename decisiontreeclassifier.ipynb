{
 "cells": [
  {
   "cell_type": "code",
   "execution_count": 1,
   "id": "77f9de04",
   "metadata": {},
   "outputs": [
    {
     "name": "stderr",
     "output_type": "stream",
     "text": [
      "Setting default log level to \"WARN\".\n",
      "To adjust logging level use sc.setLogLevel(newLevel). For SparkR, use setLogLevel(newLevel).\n"
     ]
    },
    {
     "name": "stdout",
     "output_type": "stream",
     "text": [
      "22/08/22 11:52:17 WARN NativeCodeLoader: Unable to load native-hadoop library for your platform... using builtin-java classes where applicable\n",
      "22/08/22 11:52:23 WARN Utils: Service 'SparkUI' could not bind on port 4040. Attempting port 4041.\n"
     ]
    },
    {
     "name": "stderr",
     "output_type": "stream",
     "text": [
      "                                                                                \r"
     ]
    },
    {
     "name": "stdout",
     "output_type": "stream",
     "text": [
      "22/08/22 11:52:32 WARN CSVHeaderChecker: CSV header does not conform to the schema.\n",
      " Header: NA, Date, AveragePrice, Total Volume, 4046, 4225, 4770, Total Bags, Small Bags, Large Bags, XLarge Bags, type, year, region\n",
      " Schema: _c0, Date, AveragePrice, Total Volume, 4046, 4225, 4770, Total Bags, Small Bags, Large Bags, XLarge Bags, type, year, region\n",
      "Expected: _c0 but found: NA\n",
      "CSV file: file:///Users/wirarama/python/FGA/BPDFGA/avocado.csv\n",
      "+---+-------------------+------------+------------+-------+---------+-----+----------+----------+----------+-----------+------------+----+------+\n",
      "|_c0|               Date|AveragePrice|Total Volume|   4046|     4225| 4770|Total Bags|Small Bags|Large Bags|XLarge Bags|        type|year|region|\n",
      "+---+-------------------+------------+------------+-------+---------+-----+----------+----------+----------+-----------+------------+----+------+\n",
      "|  0|2015-12-27 00:00:00|        1.33|    64236.62|1036.74| 54454.85|48.16|   8696.87|   8603.62|     93.25|        0.0|conventional|2015|Albany|\n",
      "|  1|2015-12-20 00:00:00|        1.35|    54876.98| 674.28| 44638.81|58.33|   9505.56|   9408.07|     97.49|        0.0|conventional|2015|Albany|\n",
      "|  2|2015-12-13 00:00:00|        0.93|   118220.22|  794.7|109149.67|130.5|   8145.35|   8042.21|    103.14|        0.0|conventional|2015|Albany|\n",
      "|  3|2015-12-06 00:00:00|        1.08|    78992.15| 1132.0| 71976.41|72.58|   5811.16|    5677.4|    133.76|        0.0|conventional|2015|Albany|\n",
      "|  4|2015-11-29 00:00:00|        1.28|     51039.6| 941.48| 43838.39|75.78|   6183.95|   5986.26|    197.69|        0.0|conventional|2015|Albany|\n",
      "+---+-------------------+------------+------------+-------+---------+-----+----------+----------+----------+-----------+------------+----+------+\n",
      "only showing top 5 rows\n",
      "\n"
     ]
    }
   ],
   "source": [
    "from pyspark.sql import SparkSession\n",
    "spark = SparkSession.builder.master('local[*]').appName('test').getOrCreate()\n",
    "df = spark.read.csv('avocado.csv', sep=',', header=True, inferSchema=True,\n",
    "                         nullValue='NA')\n",
    "df.show(5)"
   ]
  },
  {
   "cell_type": "code",
   "execution_count": 2,
   "id": "bbde7f7c",
   "metadata": {},
   "outputs": [
    {
     "name": "stderr",
     "output_type": "stream",
     "text": [
      "                                                                                \r"
     ]
    }
   ],
   "source": [
    "from pyspark.ml.feature import StringIndexer\n",
    "indexer = StringIndexer(inputCol='region', outputCol='label')\n",
    "indexer_model = indexer.fit(df)\n",
    "df_indexed = indexer_model.transform(df)"
   ]
  },
  {
   "cell_type": "code",
   "execution_count": 3,
   "id": "940ee597",
   "metadata": {},
   "outputs": [
    {
     "name": "stdout",
     "output_type": "stream",
     "text": [
      "+--------------------+-----+\n",
      "|features            |label|\n",
      "+--------------------+-----+\n",
      "|[8603.62,93.25,0.0] |0.0  |\n",
      "|[9408.07,97.49,0.0] |0.0  |\n",
      "|[8042.21,103.14,0.0]|0.0  |\n",
      "|[5677.4,133.76,0.0] |0.0  |\n",
      "|[5986.26,197.69,0.0]|0.0  |\n",
      "+--------------------+-----+\n",
      "only showing top 5 rows\n",
      "\n"
     ]
    }
   ],
   "source": [
    "from pyspark.ml.feature import VectorAssembler\n",
    "assembler = VectorAssembler(inputCols=['Small Bags','Large Bags','XLarge Bags'],\n",
    "                            outputCol='features')\n",
    "df_assembled = assembler.transform(df_indexed)\n",
    "df_assembled.select('features', 'label').show(5, truncate=False)"
   ]
  },
  {
   "cell_type": "code",
   "execution_count": 4,
   "id": "2ce0da2c",
   "metadata": {},
   "outputs": [
    {
     "name": "stdout",
     "output_type": "stream",
     "text": [
      "22/08/22 11:52:36 WARN CSVHeaderChecker: CSV header does not conform to the schema.\n",
      " Header: NA, Date, AveragePrice, Total Volume, 4046, 4225, 4770, Total Bags, Small Bags, Large Bags, XLarge Bags, type, year, region\n",
      " Schema: _c0, Date, AveragePrice, Total Volume, 4046, 4225, 4770, Total Bags, Small Bags, Large Bags, XLarge Bags, type, year, region\n",
      "Expected: _c0 but found: NA\n",
      "CSV file: file:///Users/wirarama/python/FGA/BPDFGA/avocado.csv\n"
     ]
    },
    {
     "name": "stderr",
     "output_type": "stream",
     "text": [
      "                                                                                \r"
     ]
    },
    {
     "name": "stdout",
     "output_type": "stream",
     "text": [
      "0.7967011891062524\n"
     ]
    }
   ],
   "source": [
    "df_train, df_test = df_assembled.randomSplit([0.8, 0.2], seed=17)\n",
    "training_ratio = df_train.count() / df_assembled.count()\n",
    "print(training_ratio)"
   ]
  },
  {
   "cell_type": "code",
   "execution_count": 5,
   "id": "11aadecd",
   "metadata": {},
   "outputs": [
    {
     "name": "stdout",
     "output_type": "stream",
     "text": [
      "22/08/22 11:52:37 WARN CSVHeaderChecker: CSV header does not conform to the schema.\n",
      " Header: NA, Date, AveragePrice, Total Volume, 4046, 4225, 4770, Total Bags, Small Bags, Large Bags, XLarge Bags, type, year, region\n",
      " Schema: _c0, Date, AveragePrice, Total Volume, 4046, 4225, 4770, Total Bags, Small Bags, Large Bags, XLarge Bags, type, year, region\n",
      "Expected: _c0 but found: NA\n",
      "CSV file: file:///Users/wirarama/python/FGA/BPDFGA/avocado.csv\n",
      "22/08/22 11:52:38 WARN CSVHeaderChecker: CSV header does not conform to the schema.\n",
      " Header: NA, Date, AveragePrice, Total Volume, 4046, 4225, 4770, Total Bags, Small Bags, Large Bags, XLarge Bags, type, year, region\n",
      " Schema: _c0, Date, AveragePrice, Total Volume, 4046, 4225, 4770, Total Bags, Small Bags, Large Bags, XLarge Bags, type, year, region\n",
      "Expected: _c0 but found: NA\n",
      "CSV file: file:///Users/wirarama/python/FGA/BPDFGA/avocado.csv\n",
      "22/08/22 11:52:38 WARN CSVHeaderChecker: CSV header does not conform to the schema.\n",
      " Header: NA, Date, AveragePrice, Total Volume, 4046, 4225, 4770, Total Bags, Small Bags, Large Bags, XLarge Bags, type, year, region\n",
      " Schema: _c0, Date, AveragePrice, Total Volume, 4046, 4225, 4770, Total Bags, Small Bags, Large Bags, XLarge Bags, type, year, region\n",
      "Expected: _c0 but found: NA\n",
      "CSV file: file:///Users/wirarama/python/FGA/BPDFGA/avocado.csv\n"
     ]
    },
    {
     "name": "stderr",
     "output_type": "stream",
     "text": [
      "\r",
      "[Stage 15:>                                                         (0 + 1) / 1]\r",
      "\r",
      "                                                                                \r"
     ]
    },
    {
     "name": "stdout",
     "output_type": "stream",
     "text": [
      "22/08/22 11:52:39 WARN CSVHeaderChecker: CSV header does not conform to the schema.\n",
      " Header: NA, Date, AveragePrice, Total Volume, 4046, 4225, 4770, Total Bags, Small Bags, Large Bags, XLarge Bags, type, year, region\n",
      " Schema: _c0, Date, AveragePrice, Total Volume, 4046, 4225, 4770, Total Bags, Small Bags, Large Bags, XLarge Bags, type, year, region\n",
      "Expected: _c0 but found: NA\n",
      "CSV file: file:///Users/wirarama/python/FGA/BPDFGA/avocado.csv\n"
     ]
    },
    {
     "name": "stderr",
     "output_type": "stream",
     "text": [
      "                                                                                \r"
     ]
    },
    {
     "name": "stdout",
     "output_type": "stream",
     "text": [
      "22/08/22 11:52:41 WARN CSVHeaderChecker: CSV header does not conform to the schema.\n",
      " Header: NA, Date, AveragePrice, Total Volume, 4046, 4225, 4770, Total Bags, Small Bags, Large Bags, XLarge Bags, type, year, region\n",
      " Schema: _c0, Date, AveragePrice, Total Volume, 4046, 4225, 4770, Total Bags, Small Bags, Large Bags, XLarge Bags, type, year, region\n",
      "Expected: _c0 but found: NA\n",
      "CSV file: file:///Users/wirarama/python/FGA/BPDFGA/avocado.csv\n",
      "+-----+----------+-------------------------------------------------------------------------------------------------------------------------------------------------------------------------------------------------------------------------------------------------------------------------------------------------------------------------------------------------------------------------------------------------------------------------------------------------------------------------------------------------------------------------------------------------------------------------------------------------------------------------------------------------------------------------------------------------------------------------------------------------------------------------------------------------------------------------------------------------------------------------------------------------------------------------------------------------------------------------------------------------------------------------------------------+\n",
      "|label|prediction|probability                                                                                                                                                                                                                                                                                                                                                                                                                                                                                                                                                                                                                                                                                                                                                                                                                                                                                                                                                                                                                                |\n",
      "+-----+----------+-------------------------------------------------------------------------------------------------------------------------------------------------------------------------------------------------------------------------------------------------------------------------------------------------------------------------------------------------------------------------------------------------------------------------------------------------------------------------------------------------------------------------------------------------------------------------------------------------------------------------------------------------------------------------------------------------------------------------------------------------------------------------------------------------------------------------------------------------------------------------------------------------------------------------------------------------------------------------------------------------------------------------------------------+\n",
      "|33.0 |50.0      |[0.0,0.027926960257787327,0.0,0.0,0.018259935553168637,0.0021482277121374865,0.00322234156820623,0.0010741138560687433,0.007518796992481203,0.0010741138560687433,0.00644468313641246,0.004296455424274973,0.03759398496240601,0.0053705692803437165,0.0,0.010741138560687433,0.0,0.0021482277121374865,0.05477980665950591,0.04081632653061224,0.007518796992481203,0.10311493018259936,0.0010741138560687433,0.00322234156820623,0.10311493018259936,0.00644468313641246,0.027926960257787327,0.018259935553168637,0.0,0.0053705692803437165,0.007518796992481203,0.10741138560687433,0.004296455424274973,0.0322234156820623,0.004296455424274973,0.0,0.00644468313641246,0.0010741138560687433,0.0021482277121374865,0.00644468313641246,0.0,0.0021482277121374865,0.0,0.0,0.07841031149301826,0.010741138560687433,0.004296455424274973,0.00322234156820623,0.03866809881847476,0.0,0.10848549946294307,0.007518796992481203,0.04189044038668099,0.03329752953813104]                                                                 |\n",
      "|21.0 |52.0      |[0.0023148148148148147,0.032407407407407406,0.0,0.0,0.0,0.013888888888888888,0.004629629629629629,0.0,0.0,0.016203703703703703,0.0,0.0,0.018518518518518517,0.0023148148148148147,0.0,0.12962962962962962,0.0,0.0,0.004629629629629629,0.009259259259259259,0.10185185185185185,0.020833333333333332,0.0023148148148148147,0.0625,0.020833333333333332,0.10416666666666667,0.013888888888888888,0.0,0.0,0.013888888888888888,0.03935185185185185,0.04861111111111111,0.0,0.0,0.006944444444444444,0.046296296296296294,0.006944444444444444,0.0,0.0,0.0,0.0,0.004629629629629629,0.0,0.013888888888888888,0.004629629629629629,0.0,0.06481481481481481,0.0,0.004629629629629629,0.011574074074074073,0.009259259259259259,0.0,0.16435185185185186,0.0]                                                                                                                                                                                                                                                                                     |\n",
      "|27.0 |42.0      |[0.0,0.0023540489642184556,0.006120527306967985,0.004708097928436911,0.04331450094161959,0.025423728813559324,0.030602636534839925,0.04566854990583804,0.06120527306967985,0.0014124293785310734,0.02401129943502825,0.018832391713747645,0.0018832391713747645,0.03672316384180791,0.026365348399246705,0.00423728813559322,0.059792843691148775,0.05273069679849341,0.003295668549905838,0.005649717514124294,4.7080979284369113E-4,0.0018832391713747645,0.018832391713747645,9.416195856873823E-4,0.0,0.009416195856873822,0.02024482109227872,0.05084745762711865,0.00800376647834275,0.022128060263653482,0.010828625235404897,4.7080979284369113E-4,0.04001883239171375,0.0018832391713747645,0.0,0.0,0.013182674199623353,0.059322033898305086,0.0423728813559322,0.02919020715630885,0.019303201506591337,0.017890772128060263,0.064030131826742,0.009416195856873822,0.01224105461393597,0.02824858757062147,0.011770244821092278,0.010357815442561206,0.027306967984934087,0.0,0.002824858757062147,0.0,0.0,0.01224105461393597]|\n",
      "|50.0 |50.0      |[0.0,0.027926960257787327,0.0,0.0,0.018259935553168637,0.0021482277121374865,0.00322234156820623,0.0010741138560687433,0.007518796992481203,0.0010741138560687433,0.00644468313641246,0.004296455424274973,0.03759398496240601,0.0053705692803437165,0.0,0.010741138560687433,0.0,0.0021482277121374865,0.05477980665950591,0.04081632653061224,0.007518796992481203,0.10311493018259936,0.0010741138560687433,0.00322234156820623,0.10311493018259936,0.00644468313641246,0.027926960257787327,0.018259935553168637,0.0,0.0053705692803437165,0.007518796992481203,0.10741138560687433,0.004296455424274973,0.0322234156820623,0.004296455424274973,0.0,0.00644468313641246,0.0010741138560687433,0.0021482277121374865,0.00644468313641246,0.0,0.0021482277121374865,0.0,0.0,0.07841031149301826,0.010741138560687433,0.004296455424274973,0.00322234156820623,0.03866809881847476,0.0,0.10848549946294307,0.007518796992481203,0.04189044038668099,0.03329752953813104]                                                                 |\n",
      "|38.0 |30.0      |[0.0027522935779816515,0.0,0.05963302752293578,0.03577981651376147,0.03394495412844037,0.05321100917431193,0.029357798165137616,0.003669724770642202,0.026605504587155965,0.0,9.174311926605505E-4,0.014678899082568808,0.001834862385321101,9.174311926605505E-4,0.02018348623853211,0.0,0.047706422018348627,0.03761467889908257,0.03394495412844037,0.0,0.0,0.005504587155963303,0.04036697247706422,0.0,0.009174311926605505,0.0,0.0,0.005504587155963303,0.022935779816513763,0.003669724770642202,0.15871559633027524,0.001834862385321101,0.02110091743119266,0.03394495412844037,0.031192660550458717,0.0,0.0045871559633027525,9.174311926605505E-4,0.023853211009174313,0.022018348623853212,0.060550458715596334,0.013761467889908258,0.001834862385321101,0.010091743119266056,0.0,0.0,0.0,0.05045871559633028,0.02110091743119266,0.046788990825688076,0.001834862385321101,0.0,0.0,0.005504587155963303]                                                                                                                     |\n",
      "+-----+----------+-------------------------------------------------------------------------------------------------------------------------------------------------------------------------------------------------------------------------------------------------------------------------------------------------------------------------------------------------------------------------------------------------------------------------------------------------------------------------------------------------------------------------------------------------------------------------------------------------------------------------------------------------------------------------------------------------------------------------------------------------------------------------------------------------------------------------------------------------------------------------------------------------------------------------------------------------------------------------------------------------------------------------------------------+\n",
      "only showing top 5 rows\n",
      "\n"
     ]
    }
   ],
   "source": [
    "from pyspark.ml.classification import DecisionTreeClassifier\n",
    "tree = DecisionTreeClassifier()\n",
    "tree_model = tree.fit(df_train)\n",
    "prediction = tree_model.transform(df_test)\n",
    "prediction.select('label', 'prediction', 'probability').show(5, False)"
   ]
  },
  {
   "cell_type": "code",
   "execution_count": 6,
   "id": "a7d55794",
   "metadata": {},
   "outputs": [
    {
     "name": "stdout",
     "output_type": "stream",
     "text": [
      "22/08/22 11:52:42 WARN CSVHeaderChecker: CSV header does not conform to the schema.\n",
      " Header: NA, Date, AveragePrice, Total Volume, 4046, 4225, 4770, Total Bags, Small Bags, Large Bags, XLarge Bags, type, year, region\n",
      " Schema: _c0, Date, AveragePrice, Total Volume, 4046, 4225, 4770, Total Bags, Small Bags, Large Bags, XLarge Bags, type, year, region\n",
      "Expected: _c0 but found: NA\n",
      "CSV file: file:///Users/wirarama/python/FGA/BPDFGA/avocado.csv\n"
     ]
    },
    {
     "name": "stderr",
     "output_type": "stream",
     "text": [
      "                                                                                \r"
     ]
    },
    {
     "name": "stdout",
     "output_type": "stream",
     "text": [
      "+-----+----------+-----+\n",
      "|label|prediction|count|\n",
      "+-----+----------+-----+\n",
      "|  8.0|       3.0|    1|\n",
      "| 10.0|       1.0|    1|\n",
      "| 44.0|      30.0|    1|\n",
      "| 49.0|      30.0|   18|\n",
      "| 41.0|      30.0|    6|\n",
      "|  2.0|       0.0|    7|\n",
      "| 16.0|      30.0|   11|\n",
      "| 36.0|      50.0|    2|\n",
      "| 47.0|      42.0|    8|\n",
      "| 41.0|      42.0|   13|\n",
      "| 36.0|      28.0|    9|\n",
      "| 50.0|       1.0|    2|\n",
      "|  1.0|      12.0|    2|\n",
      "| 26.0|       3.0|   48|\n",
      "|  7.0|       3.0|   22|\n",
      "| 24.0|       1.0|    4|\n",
      "| 34.0|       9.0|    4|\n",
      "| 33.0|      51.0|    2|\n",
      "| 43.0|      50.0|    2|\n",
      "| 15.0|      50.0|    2|\n",
      "+-----+----------+-----+\n",
      "only showing top 20 rows\n",
      "\n",
      "22/08/22 11:52:43 WARN CSVHeaderChecker: CSV header does not conform to the schema.\n",
      " Header: NA, Date, AveragePrice, Total Volume, 4046, 4225, 4770, Total Bags, Small Bags, Large Bags, XLarge Bags, type, year, region\n",
      " Schema: _c0, Date, AveragePrice, Total Volume, 4046, 4225, 4770, Total Bags, Small Bags, Large Bags, XLarge Bags, type, year, region\n",
      "Expected: _c0 but found: NA\n",
      "CSV file: file:///Users/wirarama/python/FGA/BPDFGA/avocado.csv\n",
      "22/08/22 11:52:44 WARN CSVHeaderChecker: CSV header does not conform to the schema.\n",
      " Header: NA, Date, AveragePrice, Total Volume, 4046, 4225, 4770, Total Bags, Small Bags, Large Bags, XLarge Bags, type, year, region\n",
      " Schema: _c0, Date, AveragePrice, Total Volume, 4046, 4225, 4770, Total Bags, Small Bags, Large Bags, XLarge Bags, type, year, region\n",
      "Expected: _c0 but found: NA\n",
      "CSV file: file:///Users/wirarama/python/FGA/BPDFGA/avocado.csv\n",
      "22/08/22 11:52:45 WARN CSVHeaderChecker: CSV header does not conform to the schema.\n",
      " Header: NA, Date, AveragePrice, Total Volume, 4046, 4225, 4770, Total Bags, Small Bags, Large Bags, XLarge Bags, type, year, region\n",
      " Schema: _c0, Date, AveragePrice, Total Volume, 4046, 4225, 4770, Total Bags, Small Bags, Large Bags, XLarge Bags, type, year, region\n",
      "Expected: _c0 but found: NA\n",
      "CSV file: file:///Users/wirarama/python/FGA/BPDFGA/avocado.csv\n",
      "22/08/22 11:52:45 WARN CSVHeaderChecker: CSV header does not conform to the schema.\n",
      " Header: NA, Date, AveragePrice, Total Volume, 4046, 4225, 4770, Total Bags, Small Bags, Large Bags, XLarge Bags, type, year, region\n",
      " Schema: _c0, Date, AveragePrice, Total Volume, 4046, 4225, 4770, Total Bags, Small Bags, Large Bags, XLarge Bags, type, year, region\n",
      "Expected: _c0 but found: NA\n",
      "CSV file: file:///Users/wirarama/python/FGA/BPDFGA/avocado.csv\n",
      "0.9423076923076923\n"
     ]
    }
   ],
   "source": [
    "prediction.groupBy('label', 'prediction').count().show()\n",
    "TN = prediction.filter('prediction = 0 AND label = prediction').count()\n",
    "TP = prediction.filter('prediction = 1 AND label = prediction').count()\n",
    "FN = prediction.filter('prediction = 0 AND label = 1').count()\n",
    "FP = prediction.filter('prediction = 1 AND label = 0').count()\n",
    "accuracy = (TN + TP) / (TN + TP + FN + FP)\n",
    "print(accuracy)"
   ]
  },
  {
   "cell_type": "code",
   "execution_count": 7,
   "id": "d76942d4",
   "metadata": {},
   "outputs": [
    {
     "name": "stdout",
     "output_type": "stream",
     "text": [
      "22/08/22 11:52:46 WARN CSVHeaderChecker: CSV header does not conform to the schema.\n",
      " Header: NA, Date, AveragePrice, Total Volume, 4046, 4225, 4770, Total Bags, Small Bags, Large Bags, XLarge Bags, type, year, region\n",
      " Schema: _c0, Date, AveragePrice, Total Volume, 4046, 4225, 4770, Total Bags, Small Bags, Large Bags, XLarge Bags, type, year, region\n",
      "Expected: _c0 but found: NA\n",
      "CSV file: file:///Users/wirarama/python/FGA/BPDFGA/avocado.csv\n",
      "22/08/22 11:52:47 WARN CSVHeaderChecker: CSV header does not conform to the schema.\n",
      " Header: NA, Date, AveragePrice, Total Volume, 4046, 4225, 4770, Total Bags, Small Bags, Large Bags, XLarge Bags, type, year, region\n",
      " Schema: _c0, Date, AveragePrice, Total Volume, 4046, 4225, 4770, Total Bags, Small Bags, Large Bags, XLarge Bags, type, year, region\n",
      "Expected: _c0 but found: NA\n",
      "CSV file: file:///Users/wirarama/python/FGA/BPDFGA/avocado.csv\n",
      "22/08/22 11:52:48 WARN InstanceBuilder$NativeBLAS: Failed to load implementation from:dev.ludovic.netlib.blas.JNIBLAS\n",
      "22/08/22 11:52:48 WARN InstanceBuilder$NativeBLAS: Failed to load implementation from:dev.ludovic.netlib.blas.ForeignLinkerBLAS\n",
      "22/08/22 11:52:58 WARN CSVHeaderChecker: CSV header does not conform to the schema.\n",
      " Header: NA, Date, AveragePrice, Total Volume, 4046, 4225, 4770, Total Bags, Small Bags, Large Bags, XLarge Bags, type, year, region\n",
      " Schema: _c0, Date, AveragePrice, Total Volume, 4046, 4225, 4770, Total Bags, Small Bags, Large Bags, XLarge Bags, type, year, region\n",
      "Expected: _c0 but found: NA\n",
      "CSV file: file:///Users/wirarama/python/FGA/BPDFGA/avocado.csv\n",
      "+-----+----------+-----+\n",
      "|label|prediction|count|\n",
      "+-----+----------+-----+\n",
      "| 24.0|      33.0|   13|\n",
      "|  8.0|       3.0|    3|\n",
      "|  7.0|      32.0|    8|\n",
      "| 31.0|      43.0|    1|\n",
      "| 40.0|       2.0|    8|\n",
      "| 16.0|       8.0|    2|\n",
      "| 30.0|      40.0|    8|\n",
      "| 44.0|      30.0|    3|\n",
      "| 37.0|      32.0|    1|\n",
      "| 34.0|      21.0|    9|\n",
      "| 15.0|      45.0|    5|\n",
      "|  2.0|       0.0|   15|\n",
      "| 41.0|       5.0|    6|\n",
      "| 10.0|      27.0|    4|\n",
      "| 20.0|      26.0|    1|\n",
      "|  6.0|      29.0|    5|\n",
      "| 12.0|       5.0|    2|\n",
      "| 48.0|      19.0|    1|\n",
      "| 52.0|      45.0|    2|\n",
      "| 22.0|       5.0|    3|\n",
      "+-----+----------+-----+\n",
      "only showing top 20 rows\n",
      "\n"
     ]
    },
    {
     "name": "stderr",
     "output_type": "stream",
     "text": [
      "\r",
      "[Stage 148:>                                                        (0 + 1) / 1]\r",
      "\r",
      "                                                                                \r"
     ]
    }
   ],
   "source": [
    "from pyspark.ml.classification import LogisticRegression\n",
    "df_train_num = df_train.select('features', 'label')\n",
    "df_test_num = df_test.select('features', 'label')\n",
    "logistic = LogisticRegression().fit(df_train_num)\n",
    "prediction = logistic.transform(df_test_num)\n",
    "prediction.groupBy(\"label\", \"prediction\").count().show()"
   ]
  },
  {
   "cell_type": "code",
   "execution_count": 8,
   "id": "96138822",
   "metadata": {},
   "outputs": [
    {
     "name": "stdout",
     "output_type": "stream",
     "text": [
      "22/08/22 11:52:59 WARN CSVHeaderChecker: CSV header does not conform to the schema.\n",
      " Header: NA, Date, AveragePrice, Total Volume, 4046, 4225, 4770, Total Bags, Small Bags, Large Bags, XLarge Bags, type, year, region\n",
      " Schema: _c0, Date, AveragePrice, Total Volume, 4046, 4225, 4770, Total Bags, Small Bags, Large Bags, XLarge Bags, type, year, region\n",
      "Expected: _c0 but found: NA\n",
      "CSV file: file:///Users/wirarama/python/FGA/BPDFGA/avocado.csv\n",
      "22/08/22 11:53:00 WARN CSVHeaderChecker: CSV header does not conform to the schema.\n",
      " Header: NA, Date, AveragePrice, Total Volume, 4046, 4225, 4770, Total Bags, Small Bags, Large Bags, XLarge Bags, type, year, region\n",
      " Schema: _c0, Date, AveragePrice, Total Volume, 4046, 4225, 4770, Total Bags, Small Bags, Large Bags, XLarge Bags, type, year, region\n",
      "Expected: _c0 but found: NA\n",
      "CSV file: file:///Users/wirarama/python/FGA/BPDFGA/avocado.csv\n",
      "22/08/22 11:53:00 WARN CSVHeaderChecker: CSV header does not conform to the schema.\n",
      " Header: NA, Date, AveragePrice, Total Volume, 4046, 4225, 4770, Total Bags, Small Bags, Large Bags, XLarge Bags, type, year, region\n",
      " Schema: _c0, Date, AveragePrice, Total Volume, 4046, 4225, 4770, Total Bags, Small Bags, Large Bags, XLarge Bags, type, year, region\n",
      "Expected: _c0 but found: NA\n",
      "CSV file: file:///Users/wirarama/python/FGA/BPDFGA/avocado.csv\n",
      "22/08/22 11:53:01 WARN CSVHeaderChecker: CSV header does not conform to the schema.\n",
      " Header: NA, Date, AveragePrice, Total Volume, 4046, 4225, 4770, Total Bags, Small Bags, Large Bags, XLarge Bags, type, year, region\n",
      " Schema: _c0, Date, AveragePrice, Total Volume, 4046, 4225, 4770, Total Bags, Small Bags, Large Bags, XLarge Bags, type, year, region\n",
      "Expected: _c0 but found: NA\n",
      "CSV file: file:///Users/wirarama/python/FGA/BPDFGA/avocado.csv\n"
     ]
    }
   ],
   "source": [
    "TN = prediction.filter('prediction = 0 AND label = prediction').count()\n",
    "TP = prediction.filter('prediction = 1 AND label = prediction').count()\n",
    "FN = prediction.filter('prediction = 0 AND label = 1').count()\n",
    "FP = prediction.filter('prediction = 1 AND label = 0').count()"
   ]
  },
  {
   "cell_type": "code",
   "execution_count": 10,
   "id": "92b38484",
   "metadata": {},
   "outputs": [
    {
     "name": "stdout",
     "output_type": "stream",
     "text": [
      "precision = 1.00\n",
      "recall   = 0.10\n"
     ]
    }
   ],
   "source": [
    "from pyspark.ml.evaluation import MulticlassClassificationEvaluator, BinaryClassificationEvaluator\n",
    "precision = TP / (TP + FP)\n",
    "recall = TP / (TP + FN)\n",
    "print('precision = {:.2f}\\nrecall   = {:.2f}'.format(precision, recall))\n"
   ]
  },
  {
   "cell_type": "code",
   "execution_count": null,
   "id": "e144cd74",
   "metadata": {},
   "outputs": [],
   "source": [
    "multi_evaluator = MulticlassClassificationEvaluator()\n",
    "weighted_precision = multi_evaluator.evaluate(prediction, {multi_evaluator.metricName: \"weightedPrecision\"})\n",
    "binary_evaluator = BinaryClassificationEvaluator()\n",
    "auc = binary_evaluator.evaluate(prediction, {binary_evaluator.metricName: \"areaUnderROC\"})"
   ]
  }
 ],
 "metadata": {
  "kernelspec": {
   "display_name": "Python 3 (ipykernel)",
   "language": "python",
   "name": "python3"
  },
  "language_info": {
   "codemirror_mode": {
    "name": "ipython",
    "version": 3
   },
   "file_extension": ".py",
   "mimetype": "text/x-python",
   "name": "python",
   "nbconvert_exporter": "python",
   "pygments_lexer": "ipython3",
   "version": "3.9.7"
  }
 },
 "nbformat": 4,
 "nbformat_minor": 5
}
